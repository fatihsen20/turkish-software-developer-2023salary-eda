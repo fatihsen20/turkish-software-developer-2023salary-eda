{
 "cells": [
  {
   "cell_type": "code",
   "execution_count": 1,
   "id": "6e89f3af",
   "metadata": {
    "execution": {
     "iopub.execute_input": "2023-03-24T21:04:12.456592Z",
     "iopub.status.busy": "2023-03-24T21:04:12.456047Z",
     "iopub.status.idle": "2023-03-24T21:04:13.695429Z",
     "shell.execute_reply": "2023-03-24T21:04:13.694106Z"
    },
    "papermill": {
     "duration": 1.277639,
     "end_time": "2023-03-24T21:04:13.698593",
     "exception": false,
     "start_time": "2023-03-24T21:04:12.420954",
     "status": "completed"
    },
    "tags": []
   },
   "outputs": [],
   "source": [
    "import pandas as pd\n",
    "import numpy as np\n",
    "import matplotlib.pyplot as plt\n",
    "import seaborn as sns"
   ]
  },
  {
   "cell_type": "code",
   "execution_count": 2,
   "id": "a3bc7e88",
   "metadata": {
    "execution": {
     "iopub.execute_input": "2023-03-24T21:04:13.756904Z",
     "iopub.status.busy": "2023-03-24T21:04:13.756461Z",
     "iopub.status.idle": "2023-03-24T21:04:13.762145Z",
     "shell.execute_reply": "2023-03-24T21:04:13.760691Z"
    },
    "papermill": {
     "duration": 0.037763,
     "end_time": "2023-03-24T21:04:13.764532",
     "exception": false,
     "start_time": "2023-03-24T21:04:13.726769",
     "status": "completed"
    },
    "tags": []
   },
   "outputs": [],
   "source": [
    "pd.set_option('display.max_columns', None)\n",
    "pd.set_option('display.float_format', lambda x: '%.2f' % x)"
   ]
  },
  {
   "cell_type": "code",
   "execution_count": 3,
   "id": "49dae857",
   "metadata": {
    "execution": {
     "iopub.execute_input": "2023-03-24T21:04:13.823132Z",
     "iopub.status.busy": "2023-03-24T21:04:13.822666Z",
     "iopub.status.idle": "2023-03-24T21:04:13.829006Z",
     "shell.execute_reply": "2023-03-24T21:04:13.827836Z"
    },
    "papermill": {
     "duration": 0.038598,
     "end_time": "2023-03-24T21:04:13.831370",
     "exception": false,
     "start_time": "2023-03-24T21:04:13.792772",
     "status": "completed"
    },
    "tags": []
   },
   "outputs": [],
   "source": [
    "def outlier_thresholds(df, col_name, q1=0.5, q3=0.95):\n",
    "    quartile1 = df[col_name].quantile(q1)\n",
    "    quartile3 = df[col_name].quantile(q3)\n",
    "    iqr = quartile3 - quartile1\n",
    "    up = quartile3 + 1.5 * iqr\n",
    "    low = quartile1 - 1.5 * iqr\n",
    "    return low, up"
   ]
  },
  {
   "cell_type": "code",
   "execution_count": 4,
   "id": "6dab2bcf",
   "metadata": {
    "execution": {
     "iopub.execute_input": "2023-03-24T21:04:13.890904Z",
     "iopub.status.busy": "2023-03-24T21:04:13.890462Z",
     "iopub.status.idle": "2023-03-24T21:04:13.896905Z",
     "shell.execute_reply": "2023-03-24T21:04:13.895617Z"
    },
    "papermill": {
     "duration": 0.038629,
     "end_time": "2023-03-24T21:04:13.899337",
     "exception": false,
     "start_time": "2023-03-24T21:04:13.860708",
     "status": "completed"
    },
    "tags": []
   },
   "outputs": [],
   "source": [
    "def check_outlier(df, col_name):\n",
    "    low, up = outlier_thresholds(df, col_name)\n",
    "    return True if df[(df[col_name] > up) | (df[col_name] < low)].any(axis = None) else False"
   ]
  },
  {
   "cell_type": "code",
   "execution_count": 5,
   "id": "783d37dd",
   "metadata": {
    "execution": {
     "iopub.execute_input": "2023-03-24T21:04:13.958712Z",
     "iopub.status.busy": "2023-03-24T21:04:13.957919Z",
     "iopub.status.idle": "2023-03-24T21:04:13.964376Z",
     "shell.execute_reply": "2023-03-24T21:04:13.963153Z"
    },
    "papermill": {
     "duration": 0.039077,
     "end_time": "2023-03-24T21:04:13.966960",
     "exception": false,
     "start_time": "2023-03-24T21:04:13.927883",
     "status": "completed"
    },
    "tags": []
   },
   "outputs": [],
   "source": [
    "def replace_with_thresholds(df, veriable):\n",
    "    low, up = outlier_thresholds(df, veriable)\n",
    "    df.loc[(df[veriable] < low), veriable] = low\n",
    "    df.loc[(df[veriable] > up), veriable] = up"
   ]
  },
  {
   "cell_type": "code",
   "execution_count": 6,
   "id": "1dd90c78",
   "metadata": {
    "execution": {
     "iopub.execute_input": "2023-03-24T21:04:14.027201Z",
     "iopub.status.busy": "2023-03-24T21:04:14.025893Z",
     "iopub.status.idle": "2023-03-24T21:04:14.032744Z",
     "shell.execute_reply": "2023-03-24T21:04:14.031736Z"
    },
    "papermill": {
     "duration": 0.039945,
     "end_time": "2023-03-24T21:04:14.035223",
     "exception": false,
     "start_time": "2023-03-24T21:04:13.995278",
     "status": "completed"
    },
    "tags": []
   },
   "outputs": [],
   "source": [
    "def cat_summary(df, col_name, plot=False):\n",
    "    print(pd.DataFrame({col_name: df[col_name].value_counts(),\n",
    "                        \"Ratio\": 100 * df[col_name].value_counts() / len(df)}))\n",
    "    print(25 * \"#\")\n",
    "    if plot:\n",
    "        sns.countplot(x=df[col_name], data = df)\n",
    "        plt.show()"
   ]
  },
  {
   "cell_type": "code",
   "execution_count": 7,
   "id": "e658e9de",
   "metadata": {
    "execution": {
     "iopub.execute_input": "2023-03-24T21:04:14.094662Z",
     "iopub.status.busy": "2023-03-24T21:04:14.093363Z",
     "iopub.status.idle": "2023-03-24T21:04:14.100716Z",
     "shell.execute_reply": "2023-03-24T21:04:14.099502Z"
    },
    "papermill": {
     "duration": 0.039902,
     "end_time": "2023-03-24T21:04:14.103369",
     "exception": false,
     "start_time": "2023-03-24T21:04:14.063467",
     "status": "completed"
    },
    "tags": []
   },
   "outputs": [],
   "source": [
    "def num_summary(dataframe, numerical_col, plot=False):\n",
    "    quantiles = [0.05, 0.10, 0.20, 0.30, 0.40, 0.50, 0.60, 0.70, 0.80, 0.90, 0.95, 0.99]\n",
    "    print(dataframe[numerical_col].describe(quantiles).T)\n",
    "\n",
    "    if plot:\n",
    "        dataframe[numerical_col].hist(bins=30)\n",
    "        plt.xlabel(numerical_col)\n",
    "        plt.title(numerical_col)\n",
    "        plt.show(block=True)"
   ]
  },
  {
   "cell_type": "code",
   "execution_count": 8,
   "id": "36265076",
   "metadata": {
    "execution": {
     "iopub.execute_input": "2023-03-24T21:04:14.161669Z",
     "iopub.status.busy": "2023-03-24T21:04:14.161258Z",
     "iopub.status.idle": "2023-03-24T21:04:14.167964Z",
     "shell.execute_reply": "2023-03-24T21:04:14.166624Z"
    },
    "papermill": {
     "duration": 0.038752,
     "end_time": "2023-03-24T21:04:14.170326",
     "exception": false,
     "start_time": "2023-03-24T21:04:14.131574",
     "status": "completed"
    },
    "tags": []
   },
   "outputs": [],
   "source": [
    "def target_summary_with_cat(df, target, cat_cols):\n",
    "    for col in cat_cols:\n",
    "        print(col, \":\", \"TARGET\")\n",
    "        print(pd.DataFrame({col: df[col].value_counts(),\n",
    "                            \"Ratio\": 100 * df[col].value_counts() / len(df),\n",
    "                            \"TARGET_MEAN\": df.groupby(col)[target].mean()}), end=\"\\n\\n\\n\")"
   ]
  },
  {
   "cell_type": "code",
   "execution_count": 9,
   "id": "c5e83094",
   "metadata": {
    "execution": {
     "iopub.execute_input": "2023-03-24T21:04:14.229130Z",
     "iopub.status.busy": "2023-03-24T21:04:14.228729Z",
     "iopub.status.idle": "2023-03-24T21:04:14.250054Z",
     "shell.execute_reply": "2023-03-24T21:04:14.248570Z"
    },
    "papermill": {
     "duration": 0.054031,
     "end_time": "2023-03-24T21:04:14.253040",
     "exception": false,
     "start_time": "2023-03-24T21:04:14.199009",
     "status": "completed"
    },
    "tags": []
   },
   "outputs": [],
   "source": [
    "df = pd.read_csv(\"/kaggle/input/developer-salary/salary.csv\")"
   ]
  },
  {
   "cell_type": "code",
   "execution_count": 10,
   "id": "6b9047cf",
   "metadata": {
    "execution": {
     "iopub.execute_input": "2023-03-24T21:04:14.311641Z",
     "iopub.status.busy": "2023-03-24T21:04:14.311213Z",
     "iopub.status.idle": "2023-03-24T21:04:14.343791Z",
     "shell.execute_reply": "2023-03-24T21:04:14.342305Z"
    },
    "papermill": {
     "duration": 0.06481,
     "end_time": "2023-03-24T21:04:14.346379",
     "exception": false,
     "start_time": "2023-03-24T21:04:14.281569",
     "status": "completed"
    },
    "tags": []
   },
   "outputs": [
    {
     "data": {
      "text/html": [
       "<div>\n",
       "<style scoped>\n",
       "    .dataframe tbody tr th:only-of-type {\n",
       "        vertical-align: middle;\n",
       "    }\n",
       "\n",
       "    .dataframe tbody tr th {\n",
       "        vertical-align: top;\n",
       "    }\n",
       "\n",
       "    .dataframe thead th {\n",
       "        text-align: right;\n",
       "    }\n",
       "</style>\n",
       "<table border=\"1\" class=\"dataframe\">\n",
       "  <thead>\n",
       "    <tr style=\"text-align: right;\">\n",
       "      <th></th>\n",
       "      <th>Time</th>\n",
       "      <th>Position</th>\n",
       "      <th>Level</th>\n",
       "      <th>Experience</th>\n",
       "      <th>Technology</th>\n",
       "      <th>Location</th>\n",
       "      <th>Way_of_working</th>\n",
       "      <th>Employees_number</th>\n",
       "      <th>Salary_type</th>\n",
       "      <th>Salary</th>\n",
       "    </tr>\n",
       "  </thead>\n",
       "  <tbody>\n",
       "    <tr>\n",
       "      <th>0</th>\n",
       "      <td>2023-01-22 18:49:36.202</td>\n",
       "      <td>Backend Developer</td>\n",
       "      <td>Mid</td>\n",
       "      <td>1-3 Yıl</td>\n",
       "      <td>Java / Spring</td>\n",
       "      <td>Türkiye</td>\n",
       "      <td>Yerinde / Ofiste</td>\n",
       "      <td>100-300</td>\n",
       "      <td>Türk Lirası</td>\n",
       "      <td>41.000 - 45.000 TL</td>\n",
       "    </tr>\n",
       "    <tr>\n",
       "      <th>1</th>\n",
       "      <td>2023-01-22 18:49:38.280</td>\n",
       "      <td>Architect / Mimar</td>\n",
       "      <td>Tanımsız</td>\n",
       "      <td>4-6 Yıl</td>\n",
       "      <td>React / NextJS, NodeJS, Javascript, React Native</td>\n",
       "      <td>Türkiye</td>\n",
       "      <td>Remote</td>\n",
       "      <td>2000+</td>\n",
       "      <td>Türk Lirası</td>\n",
       "      <td>51.000 - 55.000 TL</td>\n",
       "    </tr>\n",
       "    <tr>\n",
       "      <th>2</th>\n",
       "      <td>2023-01-22 18:49:41.383</td>\n",
       "      <td>Frontend Developer</td>\n",
       "      <td>Junior</td>\n",
       "      <td>1-3 Yıl</td>\n",
       "      <td>React / NextJS, Javascript</td>\n",
       "      <td>Türkiye</td>\n",
       "      <td>Remote</td>\n",
       "      <td>100-300</td>\n",
       "      <td>Türk Lirası</td>\n",
       "      <td>16.000 - 20.000 TL</td>\n",
       "    </tr>\n",
       "    <tr>\n",
       "      <th>3</th>\n",
       "      <td>2023-01-22 18:50:19.296</td>\n",
       "      <td>Backend Developer</td>\n",
       "      <td>Mid</td>\n",
       "      <td>4-6 Yıl</td>\n",
       "      <td>Java / Spring</td>\n",
       "      <td>Türkiye</td>\n",
       "      <td>Hybrid</td>\n",
       "      <td>300-1000</td>\n",
       "      <td>Türk Lirası</td>\n",
       "      <td>41.000 - 45.000 TL</td>\n",
       "    </tr>\n",
       "    <tr>\n",
       "      <th>4</th>\n",
       "      <td>2023-01-22 18:51:13.644</td>\n",
       "      <td>Fullstack Developer</td>\n",
       "      <td>Junior</td>\n",
       "      <td>0-1 Yıl</td>\n",
       "      <td>React / NextJS, NodeJS, Javascript</td>\n",
       "      <td>Türkiye</td>\n",
       "      <td>Yerinde / Ofiste</td>\n",
       "      <td>50-100</td>\n",
       "      <td>Türk Lirası</td>\n",
       "      <td>11.000 - 15.000 TL</td>\n",
       "    </tr>\n",
       "  </tbody>\n",
       "</table>\n",
       "</div>"
      ],
      "text/plain": [
       "                      Time             Position     Level Experience  \\\n",
       "0  2023-01-22 18:49:36.202    Backend Developer       Mid    1-3 Yıl   \n",
       "1  2023-01-22 18:49:38.280    Architect / Mimar  Tanımsız    4-6 Yıl   \n",
       "2  2023-01-22 18:49:41.383   Frontend Developer    Junior    1-3 Yıl   \n",
       "3  2023-01-22 18:50:19.296    Backend Developer       Mid    4-6 Yıl   \n",
       "4  2023-01-22 18:51:13.644  Fullstack Developer    Junior    0-1 Yıl   \n",
       "\n",
       "                                         Technology Location  \\\n",
       "0                                     Java / Spring  Türkiye   \n",
       "1  React / NextJS, NodeJS, Javascript, React Native  Türkiye   \n",
       "2                        React / NextJS, Javascript  Türkiye   \n",
       "3                                     Java / Spring  Türkiye   \n",
       "4                React / NextJS, NodeJS, Javascript  Türkiye   \n",
       "\n",
       "     Way_of_working Employees_number  Salary_type              Salary  \n",
       "0  Yerinde / Ofiste          100-300  Türk Lirası  41.000 - 45.000 TL  \n",
       "1            Remote            2000+  Türk Lirası  51.000 - 55.000 TL  \n",
       "2            Remote          100-300  Türk Lirası  16.000 - 20.000 TL  \n",
       "3            Hybrid         300-1000  Türk Lirası  41.000 - 45.000 TL  \n",
       "4  Yerinde / Ofiste           50-100  Türk Lirası  11.000 - 15.000 TL  "
      ]
     },
     "execution_count": 10,
     "metadata": {},
     "output_type": "execute_result"
    }
   ],
   "source": [
    "df.head()"
   ]
  },
  {
   "cell_type": "markdown",
   "id": "c6c41a9c",
   "metadata": {
    "papermill": {
     "duration": 0.027927,
     "end_time": "2023-03-24T21:04:14.402685",
     "exception": false,
     "start_time": "2023-03-24T21:04:14.374758",
     "status": "completed"
    },
    "tags": []
   },
   "source": [
    "## Verileri Düzenleyelim"
   ]
  },
  {
   "cell_type": "code",
   "execution_count": 11,
   "id": "fec80652",
   "metadata": {
    "execution": {
     "iopub.execute_input": "2023-03-24T21:04:14.461724Z",
     "iopub.status.busy": "2023-03-24T21:04:14.460900Z",
     "iopub.status.idle": "2023-03-24T21:04:14.468848Z",
     "shell.execute_reply": "2023-03-24T21:04:14.467678Z"
    },
    "papermill": {
     "duration": 0.040463,
     "end_time": "2023-03-24T21:04:14.471438",
     "exception": false,
     "start_time": "2023-03-24T21:04:14.430975",
     "status": "completed"
    },
    "tags": []
   },
   "outputs": [],
   "source": [
    "df.drop(\"Time\", axis=1, inplace=True)"
   ]
  },
  {
   "cell_type": "code",
   "execution_count": 12,
   "id": "6a8e84f6",
   "metadata": {
    "execution": {
     "iopub.execute_input": "2023-03-24T21:04:14.530735Z",
     "iopub.status.busy": "2023-03-24T21:04:14.530346Z",
     "iopub.status.idle": "2023-03-24T21:04:14.546164Z",
     "shell.execute_reply": "2023-03-24T21:04:14.545045Z"
    },
    "papermill": {
     "duration": 0.048923,
     "end_time": "2023-03-24T21:04:14.548713",
     "exception": false,
     "start_time": "2023-03-24T21:04:14.499790",
     "status": "completed"
    },
    "tags": []
   },
   "outputs": [
    {
     "data": {
      "text/html": [
       "<div>\n",
       "<style scoped>\n",
       "    .dataframe tbody tr th:only-of-type {\n",
       "        vertical-align: middle;\n",
       "    }\n",
       "\n",
       "    .dataframe tbody tr th {\n",
       "        vertical-align: top;\n",
       "    }\n",
       "\n",
       "    .dataframe thead th {\n",
       "        text-align: right;\n",
       "    }\n",
       "</style>\n",
       "<table border=\"1\" class=\"dataframe\">\n",
       "  <thead>\n",
       "    <tr style=\"text-align: right;\">\n",
       "      <th></th>\n",
       "      <th>Position</th>\n",
       "      <th>Level</th>\n",
       "      <th>Experience</th>\n",
       "      <th>Technology</th>\n",
       "      <th>Location</th>\n",
       "      <th>Way_of_working</th>\n",
       "      <th>Employees_number</th>\n",
       "      <th>Salary_type</th>\n",
       "      <th>Salary</th>\n",
       "    </tr>\n",
       "  </thead>\n",
       "  <tbody>\n",
       "    <tr>\n",
       "      <th>0</th>\n",
       "      <td>Backend Developer</td>\n",
       "      <td>Mid</td>\n",
       "      <td>1-3 Yıl</td>\n",
       "      <td>Java / Spring</td>\n",
       "      <td>Türkiye</td>\n",
       "      <td>Yerinde / Ofiste</td>\n",
       "      <td>100-300</td>\n",
       "      <td>Türk Lirası</td>\n",
       "      <td>41.000 - 45.000 TL</td>\n",
       "    </tr>\n",
       "    <tr>\n",
       "      <th>1</th>\n",
       "      <td>Architect / Mimar</td>\n",
       "      <td>Tanımsız</td>\n",
       "      <td>4-6 Yıl</td>\n",
       "      <td>React / NextJS, NodeJS, Javascript, React Native</td>\n",
       "      <td>Türkiye</td>\n",
       "      <td>Remote</td>\n",
       "      <td>2000+</td>\n",
       "      <td>Türk Lirası</td>\n",
       "      <td>51.000 - 55.000 TL</td>\n",
       "    </tr>\n",
       "    <tr>\n",
       "      <th>2</th>\n",
       "      <td>Frontend Developer</td>\n",
       "      <td>Junior</td>\n",
       "      <td>1-3 Yıl</td>\n",
       "      <td>React / NextJS, Javascript</td>\n",
       "      <td>Türkiye</td>\n",
       "      <td>Remote</td>\n",
       "      <td>100-300</td>\n",
       "      <td>Türk Lirası</td>\n",
       "      <td>16.000 - 20.000 TL</td>\n",
       "    </tr>\n",
       "    <tr>\n",
       "      <th>3</th>\n",
       "      <td>Backend Developer</td>\n",
       "      <td>Mid</td>\n",
       "      <td>4-6 Yıl</td>\n",
       "      <td>Java / Spring</td>\n",
       "      <td>Türkiye</td>\n",
       "      <td>Hybrid</td>\n",
       "      <td>300-1000</td>\n",
       "      <td>Türk Lirası</td>\n",
       "      <td>41.000 - 45.000 TL</td>\n",
       "    </tr>\n",
       "    <tr>\n",
       "      <th>4</th>\n",
       "      <td>Fullstack Developer</td>\n",
       "      <td>Junior</td>\n",
       "      <td>0-1 Yıl</td>\n",
       "      <td>React / NextJS, NodeJS, Javascript</td>\n",
       "      <td>Türkiye</td>\n",
       "      <td>Yerinde / Ofiste</td>\n",
       "      <td>50-100</td>\n",
       "      <td>Türk Lirası</td>\n",
       "      <td>11.000 - 15.000 TL</td>\n",
       "    </tr>\n",
       "  </tbody>\n",
       "</table>\n",
       "</div>"
      ],
      "text/plain": [
       "              Position     Level Experience  \\\n",
       "0    Backend Developer       Mid    1-3 Yıl   \n",
       "1    Architect / Mimar  Tanımsız    4-6 Yıl   \n",
       "2   Frontend Developer    Junior    1-3 Yıl   \n",
       "3    Backend Developer       Mid    4-6 Yıl   \n",
       "4  Fullstack Developer    Junior    0-1 Yıl   \n",
       "\n",
       "                                         Technology Location  \\\n",
       "0                                     Java / Spring  Türkiye   \n",
       "1  React / NextJS, NodeJS, Javascript, React Native  Türkiye   \n",
       "2                        React / NextJS, Javascript  Türkiye   \n",
       "3                                     Java / Spring  Türkiye   \n",
       "4                React / NextJS, NodeJS, Javascript  Türkiye   \n",
       "\n",
       "     Way_of_working Employees_number  Salary_type              Salary  \n",
       "0  Yerinde / Ofiste          100-300  Türk Lirası  41.000 - 45.000 TL  \n",
       "1            Remote            2000+  Türk Lirası  51.000 - 55.000 TL  \n",
       "2            Remote          100-300  Türk Lirası  16.000 - 20.000 TL  \n",
       "3            Hybrid         300-1000  Türk Lirası  41.000 - 45.000 TL  \n",
       "4  Yerinde / Ofiste           50-100  Türk Lirası  11.000 - 15.000 TL  "
      ]
     },
     "execution_count": 12,
     "metadata": {},
     "output_type": "execute_result"
    }
   ],
   "source": [
    "df.head()"
   ]
  },
  {
   "cell_type": "markdown",
   "id": "3c053b89",
   "metadata": {
    "papermill": {
     "duration": 0.028343,
     "end_time": "2023-03-24T21:04:14.605782",
     "exception": false,
     "start_time": "2023-03-24T21:04:14.577439",
     "status": "completed"
    },
    "tags": []
   },
   "source": [
    "### Salary değişkeni üzerinde sayısal işlem yapabilmek için min-max olarak verileri bölüyoruz."
   ]
  },
  {
   "cell_type": "code",
   "execution_count": 13,
   "id": "077e26d1",
   "metadata": {
    "execution": {
     "iopub.execute_input": "2023-03-24T21:04:14.665534Z",
     "iopub.status.busy": "2023-03-24T21:04:14.664233Z",
     "iopub.status.idle": "2023-03-24T21:04:14.679043Z",
     "shell.execute_reply": "2023-03-24T21:04:14.677483Z"
    },
    "papermill": {
     "duration": 0.047533,
     "end_time": "2023-03-24T21:04:14.681919",
     "exception": false,
     "start_time": "2023-03-24T21:04:14.634386",
     "status": "completed"
    },
    "tags": []
   },
   "outputs": [],
   "source": [
    "df[\"salary_min\"] = df[\"Salary\"].apply(lambda x: x.split(\"-\")[0][:-1])\n",
    "df[\"salary_max\"] = df[\"Salary\"].apply(lambda x: x.split(\"-\")[1][1:7] if len(x.split(\"-\")) > 1  else np.nan)"
   ]
  },
  {
   "cell_type": "code",
   "execution_count": 14,
   "id": "21b0b59b",
   "metadata": {
    "execution": {
     "iopub.execute_input": "2023-03-24T21:04:14.741725Z",
     "iopub.status.busy": "2023-03-24T21:04:14.741346Z",
     "iopub.status.idle": "2023-03-24T21:04:14.757952Z",
     "shell.execute_reply": "2023-03-24T21:04:14.756687Z"
    },
    "papermill": {
     "duration": 0.049685,
     "end_time": "2023-03-24T21:04:14.760589",
     "exception": false,
     "start_time": "2023-03-24T21:04:14.710904",
     "status": "completed"
    },
    "tags": []
   },
   "outputs": [
    {
     "data": {
      "text/html": [
       "<div>\n",
       "<style scoped>\n",
       "    .dataframe tbody tr th:only-of-type {\n",
       "        vertical-align: middle;\n",
       "    }\n",
       "\n",
       "    .dataframe tbody tr th {\n",
       "        vertical-align: top;\n",
       "    }\n",
       "\n",
       "    .dataframe thead th {\n",
       "        text-align: right;\n",
       "    }\n",
       "</style>\n",
       "<table border=\"1\" class=\"dataframe\">\n",
       "  <thead>\n",
       "    <tr style=\"text-align: right;\">\n",
       "      <th></th>\n",
       "      <th>Position</th>\n",
       "      <th>Level</th>\n",
       "      <th>Experience</th>\n",
       "      <th>Technology</th>\n",
       "      <th>Location</th>\n",
       "      <th>Way_of_working</th>\n",
       "      <th>Employees_number</th>\n",
       "      <th>Salary_type</th>\n",
       "      <th>Salary</th>\n",
       "      <th>salary_min</th>\n",
       "      <th>salary_max</th>\n",
       "    </tr>\n",
       "  </thead>\n",
       "  <tbody>\n",
       "    <tr>\n",
       "      <th>0</th>\n",
       "      <td>Backend Developer</td>\n",
       "      <td>Mid</td>\n",
       "      <td>1-3 Yıl</td>\n",
       "      <td>Java / Spring</td>\n",
       "      <td>Türkiye</td>\n",
       "      <td>Yerinde / Ofiste</td>\n",
       "      <td>100-300</td>\n",
       "      <td>Türk Lirası</td>\n",
       "      <td>41.000 - 45.000 TL</td>\n",
       "      <td>41.000</td>\n",
       "      <td>45.000</td>\n",
       "    </tr>\n",
       "    <tr>\n",
       "      <th>1</th>\n",
       "      <td>Architect / Mimar</td>\n",
       "      <td>Tanımsız</td>\n",
       "      <td>4-6 Yıl</td>\n",
       "      <td>React / NextJS, NodeJS, Javascript, React Native</td>\n",
       "      <td>Türkiye</td>\n",
       "      <td>Remote</td>\n",
       "      <td>2000+</td>\n",
       "      <td>Türk Lirası</td>\n",
       "      <td>51.000 - 55.000 TL</td>\n",
       "      <td>51.000</td>\n",
       "      <td>55.000</td>\n",
       "    </tr>\n",
       "    <tr>\n",
       "      <th>2</th>\n",
       "      <td>Frontend Developer</td>\n",
       "      <td>Junior</td>\n",
       "      <td>1-3 Yıl</td>\n",
       "      <td>React / NextJS, Javascript</td>\n",
       "      <td>Türkiye</td>\n",
       "      <td>Remote</td>\n",
       "      <td>100-300</td>\n",
       "      <td>Türk Lirası</td>\n",
       "      <td>16.000 - 20.000 TL</td>\n",
       "      <td>16.000</td>\n",
       "      <td>20.000</td>\n",
       "    </tr>\n",
       "    <tr>\n",
       "      <th>3</th>\n",
       "      <td>Backend Developer</td>\n",
       "      <td>Mid</td>\n",
       "      <td>4-6 Yıl</td>\n",
       "      <td>Java / Spring</td>\n",
       "      <td>Türkiye</td>\n",
       "      <td>Hybrid</td>\n",
       "      <td>300-1000</td>\n",
       "      <td>Türk Lirası</td>\n",
       "      <td>41.000 - 45.000 TL</td>\n",
       "      <td>41.000</td>\n",
       "      <td>45.000</td>\n",
       "    </tr>\n",
       "    <tr>\n",
       "      <th>4</th>\n",
       "      <td>Fullstack Developer</td>\n",
       "      <td>Junior</td>\n",
       "      <td>0-1 Yıl</td>\n",
       "      <td>React / NextJS, NodeJS, Javascript</td>\n",
       "      <td>Türkiye</td>\n",
       "      <td>Yerinde / Ofiste</td>\n",
       "      <td>50-100</td>\n",
       "      <td>Türk Lirası</td>\n",
       "      <td>11.000 - 15.000 TL</td>\n",
       "      <td>11.000</td>\n",
       "      <td>15.000</td>\n",
       "    </tr>\n",
       "  </tbody>\n",
       "</table>\n",
       "</div>"
      ],
      "text/plain": [
       "              Position     Level Experience  \\\n",
       "0    Backend Developer       Mid    1-3 Yıl   \n",
       "1    Architect / Mimar  Tanımsız    4-6 Yıl   \n",
       "2   Frontend Developer    Junior    1-3 Yıl   \n",
       "3    Backend Developer       Mid    4-6 Yıl   \n",
       "4  Fullstack Developer    Junior    0-1 Yıl   \n",
       "\n",
       "                                         Technology Location  \\\n",
       "0                                     Java / Spring  Türkiye   \n",
       "1  React / NextJS, NodeJS, Javascript, React Native  Türkiye   \n",
       "2                        React / NextJS, Javascript  Türkiye   \n",
       "3                                     Java / Spring  Türkiye   \n",
       "4                React / NextJS, NodeJS, Javascript  Türkiye   \n",
       "\n",
       "     Way_of_working Employees_number  Salary_type              Salary  \\\n",
       "0  Yerinde / Ofiste          100-300  Türk Lirası  41.000 - 45.000 TL   \n",
       "1            Remote            2000+  Türk Lirası  51.000 - 55.000 TL   \n",
       "2            Remote          100-300  Türk Lirası  16.000 - 20.000 TL   \n",
       "3            Hybrid         300-1000  Türk Lirası  41.000 - 45.000 TL   \n",
       "4  Yerinde / Ofiste           50-100  Türk Lirası  11.000 - 15.000 TL   \n",
       "\n",
       "  salary_min salary_max  \n",
       "0     41.000     45.000  \n",
       "1     51.000     55.000  \n",
       "2     16.000     20.000  \n",
       "3     41.000     45.000  \n",
       "4     11.000     15.000  "
      ]
     },
     "execution_count": 14,
     "metadata": {},
     "output_type": "execute_result"
    }
   ],
   "source": [
    "df.head()"
   ]
  },
  {
   "cell_type": "code",
   "execution_count": 15,
   "id": "d7697521",
   "metadata": {
    "execution": {
     "iopub.execute_input": "2023-03-24T21:04:14.820402Z",
     "iopub.status.busy": "2023-03-24T21:04:14.819967Z",
     "iopub.status.idle": "2023-03-24T21:04:14.828324Z",
     "shell.execute_reply": "2023-03-24T21:04:14.827063Z"
    },
    "papermill": {
     "duration": 0.041275,
     "end_time": "2023-03-24T21:04:14.830790",
     "exception": false,
     "start_time": "2023-03-24T21:04:14.789515",
     "status": "completed"
    },
    "tags": []
   },
   "outputs": [],
   "source": [
    "df[\"salary_min\"] = df[\"salary_min\"].apply(lambda x: x.replace(\".\", \"\"))\n",
    "df[\"salary_max\"] = df[\"salary_max\"].apply(lambda x: x.replace(\".\", \"\") if x is not np.nan else x)"
   ]
  },
  {
   "cell_type": "code",
   "execution_count": 16,
   "id": "56e03459",
   "metadata": {
    "execution": {
     "iopub.execute_input": "2023-03-24T21:04:14.897098Z",
     "iopub.status.busy": "2023-03-24T21:04:14.896381Z",
     "iopub.status.idle": "2023-03-24T21:04:14.913369Z",
     "shell.execute_reply": "2023-03-24T21:04:14.912046Z"
    },
    "papermill": {
     "duration": 0.0506,
     "end_time": "2023-03-24T21:04:14.915873",
     "exception": false,
     "start_time": "2023-03-24T21:04:14.865273",
     "status": "completed"
    },
    "tags": []
   },
   "outputs": [
    {
     "data": {
      "text/html": [
       "<div>\n",
       "<style scoped>\n",
       "    .dataframe tbody tr th:only-of-type {\n",
       "        vertical-align: middle;\n",
       "    }\n",
       "\n",
       "    .dataframe tbody tr th {\n",
       "        vertical-align: top;\n",
       "    }\n",
       "\n",
       "    .dataframe thead th {\n",
       "        text-align: right;\n",
       "    }\n",
       "</style>\n",
       "<table border=\"1\" class=\"dataframe\">\n",
       "  <thead>\n",
       "    <tr style=\"text-align: right;\">\n",
       "      <th></th>\n",
       "      <th>Position</th>\n",
       "      <th>Level</th>\n",
       "      <th>Experience</th>\n",
       "      <th>Technology</th>\n",
       "      <th>Location</th>\n",
       "      <th>Way_of_working</th>\n",
       "      <th>Employees_number</th>\n",
       "      <th>Salary_type</th>\n",
       "      <th>Salary</th>\n",
       "      <th>salary_min</th>\n",
       "      <th>salary_max</th>\n",
       "    </tr>\n",
       "  </thead>\n",
       "  <tbody>\n",
       "    <tr>\n",
       "      <th>0</th>\n",
       "      <td>Backend Developer</td>\n",
       "      <td>Mid</td>\n",
       "      <td>1-3 Yıl</td>\n",
       "      <td>Java / Spring</td>\n",
       "      <td>Türkiye</td>\n",
       "      <td>Yerinde / Ofiste</td>\n",
       "      <td>100-300</td>\n",
       "      <td>Türk Lirası</td>\n",
       "      <td>41.000 - 45.000 TL</td>\n",
       "      <td>41000</td>\n",
       "      <td>45000</td>\n",
       "    </tr>\n",
       "    <tr>\n",
       "      <th>1</th>\n",
       "      <td>Architect / Mimar</td>\n",
       "      <td>Tanımsız</td>\n",
       "      <td>4-6 Yıl</td>\n",
       "      <td>React / NextJS, NodeJS, Javascript, React Native</td>\n",
       "      <td>Türkiye</td>\n",
       "      <td>Remote</td>\n",
       "      <td>2000+</td>\n",
       "      <td>Türk Lirası</td>\n",
       "      <td>51.000 - 55.000 TL</td>\n",
       "      <td>51000</td>\n",
       "      <td>55000</td>\n",
       "    </tr>\n",
       "    <tr>\n",
       "      <th>2</th>\n",
       "      <td>Frontend Developer</td>\n",
       "      <td>Junior</td>\n",
       "      <td>1-3 Yıl</td>\n",
       "      <td>React / NextJS, Javascript</td>\n",
       "      <td>Türkiye</td>\n",
       "      <td>Remote</td>\n",
       "      <td>100-300</td>\n",
       "      <td>Türk Lirası</td>\n",
       "      <td>16.000 - 20.000 TL</td>\n",
       "      <td>16000</td>\n",
       "      <td>20000</td>\n",
       "    </tr>\n",
       "    <tr>\n",
       "      <th>3</th>\n",
       "      <td>Backend Developer</td>\n",
       "      <td>Mid</td>\n",
       "      <td>4-6 Yıl</td>\n",
       "      <td>Java / Spring</td>\n",
       "      <td>Türkiye</td>\n",
       "      <td>Hybrid</td>\n",
       "      <td>300-1000</td>\n",
       "      <td>Türk Lirası</td>\n",
       "      <td>41.000 - 45.000 TL</td>\n",
       "      <td>41000</td>\n",
       "      <td>45000</td>\n",
       "    </tr>\n",
       "    <tr>\n",
       "      <th>4</th>\n",
       "      <td>Fullstack Developer</td>\n",
       "      <td>Junior</td>\n",
       "      <td>0-1 Yıl</td>\n",
       "      <td>React / NextJS, NodeJS, Javascript</td>\n",
       "      <td>Türkiye</td>\n",
       "      <td>Yerinde / Ofiste</td>\n",
       "      <td>50-100</td>\n",
       "      <td>Türk Lirası</td>\n",
       "      <td>11.000 - 15.000 TL</td>\n",
       "      <td>11000</td>\n",
       "      <td>15000</td>\n",
       "    </tr>\n",
       "  </tbody>\n",
       "</table>\n",
       "</div>"
      ],
      "text/plain": [
       "              Position     Level Experience  \\\n",
       "0    Backend Developer       Mid    1-3 Yıl   \n",
       "1    Architect / Mimar  Tanımsız    4-6 Yıl   \n",
       "2   Frontend Developer    Junior    1-3 Yıl   \n",
       "3    Backend Developer       Mid    4-6 Yıl   \n",
       "4  Fullstack Developer    Junior    0-1 Yıl   \n",
       "\n",
       "                                         Technology Location  \\\n",
       "0                                     Java / Spring  Türkiye   \n",
       "1  React / NextJS, NodeJS, Javascript, React Native  Türkiye   \n",
       "2                        React / NextJS, Javascript  Türkiye   \n",
       "3                                     Java / Spring  Türkiye   \n",
       "4                React / NextJS, NodeJS, Javascript  Türkiye   \n",
       "\n",
       "     Way_of_working Employees_number  Salary_type              Salary  \\\n",
       "0  Yerinde / Ofiste          100-300  Türk Lirası  41.000 - 45.000 TL   \n",
       "1            Remote            2000+  Türk Lirası  51.000 - 55.000 TL   \n",
       "2            Remote          100-300  Türk Lirası  16.000 - 20.000 TL   \n",
       "3            Hybrid         300-1000  Türk Lirası  41.000 - 45.000 TL   \n",
       "4  Yerinde / Ofiste           50-100  Türk Lirası  11.000 - 15.000 TL   \n",
       "\n",
       "  salary_min salary_max  \n",
       "0      41000      45000  \n",
       "1      51000      55000  \n",
       "2      16000      20000  \n",
       "3      41000      45000  \n",
       "4      11000      15000  "
      ]
     },
     "execution_count": 16,
     "metadata": {},
     "output_type": "execute_result"
    }
   ],
   "source": [
    "df.head()"
   ]
  },
  {
   "cell_type": "markdown",
   "id": "5ab4e8d9",
   "metadata": {
    "papermill": {
     "duration": 0.029602,
     "end_time": "2023-03-24T21:04:14.975224",
     "exception": false,
     "start_time": "2023-03-24T21:04:14.945622",
     "status": "completed"
    },
    "tags": []
   },
   "source": [
    "### Verileri sayısal değişkene dönüştürmeden önce bazı işlemleri gerçekleştirmek gerekiyor. Tüm verilerin sayısal formata uyması lazım."
   ]
  },
  {
   "cell_type": "code",
   "execution_count": 17,
   "id": "1bcc4a70",
   "metadata": {
    "execution": {
     "iopub.execute_input": "2023-03-24T21:04:15.035770Z",
     "iopub.status.busy": "2023-03-24T21:04:15.035019Z",
     "iopub.status.idle": "2023-03-24T21:04:15.044171Z",
     "shell.execute_reply": "2023-03-24T21:04:15.043112Z"
    },
    "papermill": {
     "duration": 0.042329,
     "end_time": "2023-03-24T21:04:15.046429",
     "exception": false,
     "start_time": "2023-03-24T21:04:15.004100",
     "status": "completed"
    },
    "tags": []
   },
   "outputs": [
    {
     "data": {
      "text/plain": [
       "array(['41000', '51000', '16000', '11000', '21000', '5000', '31000',\n",
       "       '56000', '91000', '26000', '101000', '36000', '151000', '81000',\n",
       "       '71000', '66000', '46000', '121000', '61000', '200000+ T'],\n",
       "      dtype=object)"
      ]
     },
     "execution_count": 17,
     "metadata": {},
     "output_type": "execute_result"
    }
   ],
   "source": [
    "df[\"salary_min\"].unique()"
   ]
  },
  {
   "cell_type": "code",
   "execution_count": 18,
   "id": "8f34319b",
   "metadata": {
    "execution": {
     "iopub.execute_input": "2023-03-24T21:04:15.107375Z",
     "iopub.status.busy": "2023-03-24T21:04:15.106635Z",
     "iopub.status.idle": "2023-03-24T21:04:15.112967Z",
     "shell.execute_reply": "2023-03-24T21:04:15.112105Z"
    },
    "papermill": {
     "duration": 0.039475,
     "end_time": "2023-03-24T21:04:15.115195",
     "exception": false,
     "start_time": "2023-03-24T21:04:15.075720",
     "status": "completed"
    },
    "tags": []
   },
   "outputs": [],
   "source": [
    "df[\"salary_min\"] = df[\"salary_min\"].apply(lambda x: \"200000\"if x == \"200000+ T\" else x)"
   ]
  },
  {
   "cell_type": "code",
   "execution_count": 19,
   "id": "d6f49fae",
   "metadata": {
    "execution": {
     "iopub.execute_input": "2023-03-24T21:04:15.175708Z",
     "iopub.status.busy": "2023-03-24T21:04:15.175008Z",
     "iopub.status.idle": "2023-03-24T21:04:15.182641Z",
     "shell.execute_reply": "2023-03-24T21:04:15.181591Z"
    },
    "papermill": {
     "duration": 0.040563,
     "end_time": "2023-03-24T21:04:15.184884",
     "exception": false,
     "start_time": "2023-03-24T21:04:15.144321",
     "status": "completed"
    },
    "tags": []
   },
   "outputs": [
    {
     "data": {
      "text/plain": [
       "array(['41000', '51000', '16000', '11000', '21000', '5000', '31000',\n",
       "       '56000', '91000', '26000', '101000', '36000', '151000', '81000',\n",
       "       '71000', '66000', '46000', '121000', '61000', '200000'],\n",
       "      dtype=object)"
      ]
     },
     "execution_count": 19,
     "metadata": {},
     "output_type": "execute_result"
    }
   ],
   "source": [
    "df[\"salary_min\"].unique()"
   ]
  },
  {
   "cell_type": "code",
   "execution_count": 20,
   "id": "2b8b52fd",
   "metadata": {
    "execution": {
     "iopub.execute_input": "2023-03-24T21:04:15.248243Z",
     "iopub.status.busy": "2023-03-24T21:04:15.247803Z",
     "iopub.status.idle": "2023-03-24T21:04:15.255377Z",
     "shell.execute_reply": "2023-03-24T21:04:15.254119Z"
    },
    "papermill": {
     "duration": 0.042885,
     "end_time": "2023-03-24T21:04:15.257751",
     "exception": false,
     "start_time": "2023-03-24T21:04:15.214866",
     "status": "completed"
    },
    "tags": []
   },
   "outputs": [
    {
     "data": {
      "text/plain": [
       "array(['45000', '55000', '20000', '15000', '25000', '10000', '35000',\n",
       "       '60000', '30000', '12000', '40000', '90000', '80000', '70000',\n",
       "       '50000', '65000', nan], dtype=object)"
      ]
     },
     "execution_count": 20,
     "metadata": {},
     "output_type": "execute_result"
    }
   ],
   "source": [
    "df[\"salary_max\"].unique()"
   ]
  },
  {
   "cell_type": "markdown",
   "id": "cc21689c",
   "metadata": {
    "papermill": {
     "duration": 0.02924,
     "end_time": "2023-03-24T21:04:15.316366",
     "exception": false,
     "start_time": "2023-03-24T21:04:15.287126",
     "status": "completed"
    },
    "tags": []
   },
   "source": [
    "### **salary_max** değişkeni null olan satırlar belirli bir aralık girilmeyen satırlardır. Örneğin 5000-7000 gibi bir aralık yazılması gerekirken 6000 gibi net maaş bilgisi girilmiş olabilir. Bu durumda null değerleri **salary_min** değişkeni ile dolduruyoruz."
   ]
  },
  {
   "cell_type": "code",
   "execution_count": 21,
   "id": "bac14db8",
   "metadata": {
    "execution": {
     "iopub.execute_input": "2023-03-24T21:04:15.377237Z",
     "iopub.status.busy": "2023-03-24T21:04:15.376561Z",
     "iopub.status.idle": "2023-03-24T21:04:15.383055Z",
     "shell.execute_reply": "2023-03-24T21:04:15.382222Z"
    },
    "papermill": {
     "duration": 0.0396,
     "end_time": "2023-03-24T21:04:15.385331",
     "exception": false,
     "start_time": "2023-03-24T21:04:15.345731",
     "status": "completed"
    },
    "tags": []
   },
   "outputs": [],
   "source": [
    "null_value_index = df[df[\"salary_max\"].isnull()][\"salary_max\"].index"
   ]
  },
  {
   "cell_type": "code",
   "execution_count": 22,
   "id": "589c21f6",
   "metadata": {
    "execution": {
     "iopub.execute_input": "2023-03-24T21:04:15.445813Z",
     "iopub.status.busy": "2023-03-24T21:04:15.445158Z",
     "iopub.status.idle": "2023-03-24T21:04:15.453201Z",
     "shell.execute_reply": "2023-03-24T21:04:15.452245Z"
    },
    "papermill": {
     "duration": 0.041096,
     "end_time": "2023-03-24T21:04:15.455623",
     "exception": false,
     "start_time": "2023-03-24T21:04:15.414527",
     "status": "completed"
    },
    "tags": []
   },
   "outputs": [],
   "source": [
    "for i in null_value_index:\n",
    "    df[\"salary_max\"][i] = df[\"salary_min\"][i]"
   ]
  },
  {
   "cell_type": "code",
   "execution_count": 23,
   "id": "cc3ac1a1",
   "metadata": {
    "execution": {
     "iopub.execute_input": "2023-03-24T21:04:15.515789Z",
     "iopub.status.busy": "2023-03-24T21:04:15.515392Z",
     "iopub.status.idle": "2023-03-24T21:04:15.522389Z",
     "shell.execute_reply": "2023-03-24T21:04:15.521477Z"
    },
    "papermill": {
     "duration": 0.039905,
     "end_time": "2023-03-24T21:04:15.524681",
     "exception": false,
     "start_time": "2023-03-24T21:04:15.484776",
     "status": "completed"
    },
    "tags": []
   },
   "outputs": [],
   "source": [
    "df[\"salary_min\"] = df[\"salary_min\"].astype(\"int\")\n",
    "df[\"salary_max\"] = df[\"salary_max\"].astype(\"int\")"
   ]
  },
  {
   "cell_type": "code",
   "execution_count": 24,
   "id": "d96e16e1",
   "metadata": {
    "execution": {
     "iopub.execute_input": "2023-03-24T21:04:15.587563Z",
     "iopub.status.busy": "2023-03-24T21:04:15.586468Z",
     "iopub.status.idle": "2023-03-24T21:04:15.604147Z",
     "shell.execute_reply": "2023-03-24T21:04:15.602313Z"
    },
    "papermill": {
     "duration": 0.051794,
     "end_time": "2023-03-24T21:04:15.606647",
     "exception": false,
     "start_time": "2023-03-24T21:04:15.554853",
     "status": "completed"
    },
    "tags": []
   },
   "outputs": [
    {
     "name": "stdout",
     "output_type": "stream",
     "text": [
      "<class 'pandas.core.frame.DataFrame'>\n",
      "RangeIndex: 1164 entries, 0 to 1163\n",
      "Data columns (total 11 columns):\n",
      " #   Column            Non-Null Count  Dtype \n",
      "---  ------            --------------  ----- \n",
      " 0   Position          1164 non-null   object\n",
      " 1   Level             1164 non-null   object\n",
      " 2   Experience        1164 non-null   object\n",
      " 3   Technology        1164 non-null   object\n",
      " 4   Location          1164 non-null   object\n",
      " 5   Way_of_working    1164 non-null   object\n",
      " 6   Employees_number  1164 non-null   object\n",
      " 7   Salary_type       1164 non-null   object\n",
      " 8   Salary            1164 non-null   object\n",
      " 9   salary_min        1164 non-null   int64 \n",
      " 10  salary_max        1164 non-null   int64 \n",
      "dtypes: int64(2), object(9)\n",
      "memory usage: 100.2+ KB\n"
     ]
    }
   ],
   "source": [
    "df.info()"
   ]
  },
  {
   "cell_type": "code",
   "execution_count": 25,
   "id": "fe000c83",
   "metadata": {
    "execution": {
     "iopub.execute_input": "2023-03-24T21:04:15.668194Z",
     "iopub.status.busy": "2023-03-24T21:04:15.667015Z",
     "iopub.status.idle": "2023-03-24T21:04:15.683101Z",
     "shell.execute_reply": "2023-03-24T21:04:15.681911Z"
    },
    "papermill": {
     "duration": 0.049674,
     "end_time": "2023-03-24T21:04:15.685831",
     "exception": false,
     "start_time": "2023-03-24T21:04:15.636157",
     "status": "completed"
    },
    "tags": []
   },
   "outputs": [
    {
     "data": {
      "text/html": [
       "<div>\n",
       "<style scoped>\n",
       "    .dataframe tbody tr th:only-of-type {\n",
       "        vertical-align: middle;\n",
       "    }\n",
       "\n",
       "    .dataframe tbody tr th {\n",
       "        vertical-align: top;\n",
       "    }\n",
       "\n",
       "    .dataframe thead th {\n",
       "        text-align: right;\n",
       "    }\n",
       "</style>\n",
       "<table border=\"1\" class=\"dataframe\">\n",
       "  <thead>\n",
       "    <tr style=\"text-align: right;\">\n",
       "      <th></th>\n",
       "      <th>Position</th>\n",
       "      <th>Level</th>\n",
       "      <th>Experience</th>\n",
       "      <th>Technology</th>\n",
       "      <th>Location</th>\n",
       "      <th>Way_of_working</th>\n",
       "      <th>Employees_number</th>\n",
       "      <th>Salary_type</th>\n",
       "      <th>Salary</th>\n",
       "      <th>salary_min</th>\n",
       "      <th>salary_max</th>\n",
       "    </tr>\n",
       "  </thead>\n",
       "  <tbody>\n",
       "    <tr>\n",
       "      <th>0</th>\n",
       "      <td>Backend Developer</td>\n",
       "      <td>Mid</td>\n",
       "      <td>1-3 Yıl</td>\n",
       "      <td>Java / Spring</td>\n",
       "      <td>Türkiye</td>\n",
       "      <td>Yerinde / Ofiste</td>\n",
       "      <td>100-300</td>\n",
       "      <td>Türk Lirası</td>\n",
       "      <td>41.000 - 45.000 TL</td>\n",
       "      <td>41000</td>\n",
       "      <td>45000</td>\n",
       "    </tr>\n",
       "    <tr>\n",
       "      <th>1</th>\n",
       "      <td>Architect / Mimar</td>\n",
       "      <td>Tanımsız</td>\n",
       "      <td>4-6 Yıl</td>\n",
       "      <td>React / NextJS, NodeJS, Javascript, React Native</td>\n",
       "      <td>Türkiye</td>\n",
       "      <td>Remote</td>\n",
       "      <td>2000+</td>\n",
       "      <td>Türk Lirası</td>\n",
       "      <td>51.000 - 55.000 TL</td>\n",
       "      <td>51000</td>\n",
       "      <td>55000</td>\n",
       "    </tr>\n",
       "    <tr>\n",
       "      <th>2</th>\n",
       "      <td>Frontend Developer</td>\n",
       "      <td>Junior</td>\n",
       "      <td>1-3 Yıl</td>\n",
       "      <td>React / NextJS, Javascript</td>\n",
       "      <td>Türkiye</td>\n",
       "      <td>Remote</td>\n",
       "      <td>100-300</td>\n",
       "      <td>Türk Lirası</td>\n",
       "      <td>16.000 - 20.000 TL</td>\n",
       "      <td>16000</td>\n",
       "      <td>20000</td>\n",
       "    </tr>\n",
       "    <tr>\n",
       "      <th>3</th>\n",
       "      <td>Backend Developer</td>\n",
       "      <td>Mid</td>\n",
       "      <td>4-6 Yıl</td>\n",
       "      <td>Java / Spring</td>\n",
       "      <td>Türkiye</td>\n",
       "      <td>Hybrid</td>\n",
       "      <td>300-1000</td>\n",
       "      <td>Türk Lirası</td>\n",
       "      <td>41.000 - 45.000 TL</td>\n",
       "      <td>41000</td>\n",
       "      <td>45000</td>\n",
       "    </tr>\n",
       "    <tr>\n",
       "      <th>4</th>\n",
       "      <td>Fullstack Developer</td>\n",
       "      <td>Junior</td>\n",
       "      <td>0-1 Yıl</td>\n",
       "      <td>React / NextJS, NodeJS, Javascript</td>\n",
       "      <td>Türkiye</td>\n",
       "      <td>Yerinde / Ofiste</td>\n",
       "      <td>50-100</td>\n",
       "      <td>Türk Lirası</td>\n",
       "      <td>11.000 - 15.000 TL</td>\n",
       "      <td>11000</td>\n",
       "      <td>15000</td>\n",
       "    </tr>\n",
       "  </tbody>\n",
       "</table>\n",
       "</div>"
      ],
      "text/plain": [
       "              Position     Level Experience  \\\n",
       "0    Backend Developer       Mid    1-3 Yıl   \n",
       "1    Architect / Mimar  Tanımsız    4-6 Yıl   \n",
       "2   Frontend Developer    Junior    1-3 Yıl   \n",
       "3    Backend Developer       Mid    4-6 Yıl   \n",
       "4  Fullstack Developer    Junior    0-1 Yıl   \n",
       "\n",
       "                                         Technology Location  \\\n",
       "0                                     Java / Spring  Türkiye   \n",
       "1  React / NextJS, NodeJS, Javascript, React Native  Türkiye   \n",
       "2                        React / NextJS, Javascript  Türkiye   \n",
       "3                                     Java / Spring  Türkiye   \n",
       "4                React / NextJS, NodeJS, Javascript  Türkiye   \n",
       "\n",
       "     Way_of_working Employees_number  Salary_type              Salary  \\\n",
       "0  Yerinde / Ofiste          100-300  Türk Lirası  41.000 - 45.000 TL   \n",
       "1            Remote            2000+  Türk Lirası  51.000 - 55.000 TL   \n",
       "2            Remote          100-300  Türk Lirası  16.000 - 20.000 TL   \n",
       "3            Hybrid         300-1000  Türk Lirası  41.000 - 45.000 TL   \n",
       "4  Yerinde / Ofiste           50-100  Türk Lirası  11.000 - 15.000 TL   \n",
       "\n",
       "   salary_min  salary_max  \n",
       "0       41000       45000  \n",
       "1       51000       55000  \n",
       "2       16000       20000  \n",
       "3       41000       45000  \n",
       "4       11000       15000  "
      ]
     },
     "execution_count": 25,
     "metadata": {},
     "output_type": "execute_result"
    }
   ],
   "source": [
    "df.head()"
   ]
  },
  {
   "cell_type": "markdown",
   "id": "df4c1242",
   "metadata": {
    "papermill": {
     "duration": 0.029311,
     "end_time": "2023-03-24T21:04:15.745838",
     "exception": false,
     "start_time": "2023-03-24T21:04:15.716527",
     "status": "completed"
    },
    "tags": []
   },
   "source": [
    "### Ortalama maaş bilgisine ulaşmak için **salary_max** değişkeni ile **salary_min** değişkenlerinin ortalamasını alıyoruz. "
   ]
  },
  {
   "cell_type": "code",
   "execution_count": 26,
   "id": "1b46da05",
   "metadata": {
    "execution": {
     "iopub.execute_input": "2023-03-24T21:04:15.807198Z",
     "iopub.status.busy": "2023-03-24T21:04:15.806769Z",
     "iopub.status.idle": "2023-03-24T21:04:15.812803Z",
     "shell.execute_reply": "2023-03-24T21:04:15.811905Z"
    },
    "papermill": {
     "duration": 0.039761,
     "end_time": "2023-03-24T21:04:15.815167",
     "exception": false,
     "start_time": "2023-03-24T21:04:15.775406",
     "status": "completed"
    },
    "tags": []
   },
   "outputs": [],
   "source": [
    "df[\"salary\"] = (df[\"salary_min\"] + df[\"salary_max\"]) / 2"
   ]
  },
  {
   "cell_type": "code",
   "execution_count": 27,
   "id": "eb9e4077",
   "metadata": {
    "execution": {
     "iopub.execute_input": "2023-03-24T21:04:15.877983Z",
     "iopub.status.busy": "2023-03-24T21:04:15.877557Z",
     "iopub.status.idle": "2023-03-24T21:04:15.895221Z",
     "shell.execute_reply": "2023-03-24T21:04:15.894086Z"
    },
    "papermill": {
     "duration": 0.052073,
     "end_time": "2023-03-24T21:04:15.897631",
     "exception": false,
     "start_time": "2023-03-24T21:04:15.845558",
     "status": "completed"
    },
    "tags": []
   },
   "outputs": [
    {
     "data": {
      "text/html": [
       "<div>\n",
       "<style scoped>\n",
       "    .dataframe tbody tr th:only-of-type {\n",
       "        vertical-align: middle;\n",
       "    }\n",
       "\n",
       "    .dataframe tbody tr th {\n",
       "        vertical-align: top;\n",
       "    }\n",
       "\n",
       "    .dataframe thead th {\n",
       "        text-align: right;\n",
       "    }\n",
       "</style>\n",
       "<table border=\"1\" class=\"dataframe\">\n",
       "  <thead>\n",
       "    <tr style=\"text-align: right;\">\n",
       "      <th></th>\n",
       "      <th>Position</th>\n",
       "      <th>Level</th>\n",
       "      <th>Experience</th>\n",
       "      <th>Technology</th>\n",
       "      <th>Location</th>\n",
       "      <th>Way_of_working</th>\n",
       "      <th>Employees_number</th>\n",
       "      <th>Salary_type</th>\n",
       "      <th>Salary</th>\n",
       "      <th>salary_min</th>\n",
       "      <th>salary_max</th>\n",
       "      <th>salary</th>\n",
       "    </tr>\n",
       "  </thead>\n",
       "  <tbody>\n",
       "    <tr>\n",
       "      <th>0</th>\n",
       "      <td>Backend Developer</td>\n",
       "      <td>Mid</td>\n",
       "      <td>1-3 Yıl</td>\n",
       "      <td>Java / Spring</td>\n",
       "      <td>Türkiye</td>\n",
       "      <td>Yerinde / Ofiste</td>\n",
       "      <td>100-300</td>\n",
       "      <td>Türk Lirası</td>\n",
       "      <td>41.000 - 45.000 TL</td>\n",
       "      <td>41000</td>\n",
       "      <td>45000</td>\n",
       "      <td>43000.00</td>\n",
       "    </tr>\n",
       "    <tr>\n",
       "      <th>1</th>\n",
       "      <td>Architect / Mimar</td>\n",
       "      <td>Tanımsız</td>\n",
       "      <td>4-6 Yıl</td>\n",
       "      <td>React / NextJS, NodeJS, Javascript, React Native</td>\n",
       "      <td>Türkiye</td>\n",
       "      <td>Remote</td>\n",
       "      <td>2000+</td>\n",
       "      <td>Türk Lirası</td>\n",
       "      <td>51.000 - 55.000 TL</td>\n",
       "      <td>51000</td>\n",
       "      <td>55000</td>\n",
       "      <td>53000.00</td>\n",
       "    </tr>\n",
       "    <tr>\n",
       "      <th>2</th>\n",
       "      <td>Frontend Developer</td>\n",
       "      <td>Junior</td>\n",
       "      <td>1-3 Yıl</td>\n",
       "      <td>React / NextJS, Javascript</td>\n",
       "      <td>Türkiye</td>\n",
       "      <td>Remote</td>\n",
       "      <td>100-300</td>\n",
       "      <td>Türk Lirası</td>\n",
       "      <td>16.000 - 20.000 TL</td>\n",
       "      <td>16000</td>\n",
       "      <td>20000</td>\n",
       "      <td>18000.00</td>\n",
       "    </tr>\n",
       "    <tr>\n",
       "      <th>3</th>\n",
       "      <td>Backend Developer</td>\n",
       "      <td>Mid</td>\n",
       "      <td>4-6 Yıl</td>\n",
       "      <td>Java / Spring</td>\n",
       "      <td>Türkiye</td>\n",
       "      <td>Hybrid</td>\n",
       "      <td>300-1000</td>\n",
       "      <td>Türk Lirası</td>\n",
       "      <td>41.000 - 45.000 TL</td>\n",
       "      <td>41000</td>\n",
       "      <td>45000</td>\n",
       "      <td>43000.00</td>\n",
       "    </tr>\n",
       "    <tr>\n",
       "      <th>4</th>\n",
       "      <td>Fullstack Developer</td>\n",
       "      <td>Junior</td>\n",
       "      <td>0-1 Yıl</td>\n",
       "      <td>React / NextJS, NodeJS, Javascript</td>\n",
       "      <td>Türkiye</td>\n",
       "      <td>Yerinde / Ofiste</td>\n",
       "      <td>50-100</td>\n",
       "      <td>Türk Lirası</td>\n",
       "      <td>11.000 - 15.000 TL</td>\n",
       "      <td>11000</td>\n",
       "      <td>15000</td>\n",
       "      <td>13000.00</td>\n",
       "    </tr>\n",
       "  </tbody>\n",
       "</table>\n",
       "</div>"
      ],
      "text/plain": [
       "              Position     Level Experience  \\\n",
       "0    Backend Developer       Mid    1-3 Yıl   \n",
       "1    Architect / Mimar  Tanımsız    4-6 Yıl   \n",
       "2   Frontend Developer    Junior    1-3 Yıl   \n",
       "3    Backend Developer       Mid    4-6 Yıl   \n",
       "4  Fullstack Developer    Junior    0-1 Yıl   \n",
       "\n",
       "                                         Technology Location  \\\n",
       "0                                     Java / Spring  Türkiye   \n",
       "1  React / NextJS, NodeJS, Javascript, React Native  Türkiye   \n",
       "2                        React / NextJS, Javascript  Türkiye   \n",
       "3                                     Java / Spring  Türkiye   \n",
       "4                React / NextJS, NodeJS, Javascript  Türkiye   \n",
       "\n",
       "     Way_of_working Employees_number  Salary_type              Salary  \\\n",
       "0  Yerinde / Ofiste          100-300  Türk Lirası  41.000 - 45.000 TL   \n",
       "1            Remote            2000+  Türk Lirası  51.000 - 55.000 TL   \n",
       "2            Remote          100-300  Türk Lirası  16.000 - 20.000 TL   \n",
       "3            Hybrid         300-1000  Türk Lirası  41.000 - 45.000 TL   \n",
       "4  Yerinde / Ofiste           50-100  Türk Lirası  11.000 - 15.000 TL   \n",
       "\n",
       "   salary_min  salary_max   salary  \n",
       "0       41000       45000 43000.00  \n",
       "1       51000       55000 53000.00  \n",
       "2       16000       20000 18000.00  \n",
       "3       41000       45000 43000.00  \n",
       "4       11000       15000 13000.00  "
      ]
     },
     "execution_count": 27,
     "metadata": {},
     "output_type": "execute_result"
    }
   ],
   "source": [
    "df.head()"
   ]
  },
  {
   "cell_type": "markdown",
   "id": "02d7b040",
   "metadata": {
    "papermill": {
     "duration": 0.029968,
     "end_time": "2023-03-24T21:04:15.958553",
     "exception": false,
     "start_time": "2023-03-24T21:04:15.928585",
     "status": "completed"
    },
    "tags": []
   },
   "source": [
    "### Kategorik Değişkenleri İnceleyelim."
   ]
  },
  {
   "cell_type": "code",
   "execution_count": 28,
   "id": "cb5a51a7",
   "metadata": {
    "execution": {
     "iopub.execute_input": "2023-03-24T21:04:16.020970Z",
     "iopub.status.busy": "2023-03-24T21:04:16.020505Z",
     "iopub.status.idle": "2023-03-24T21:04:16.027687Z",
     "shell.execute_reply": "2023-03-24T21:04:16.026741Z"
    },
    "papermill": {
     "duration": 0.040761,
     "end_time": "2023-03-24T21:04:16.029808",
     "exception": false,
     "start_time": "2023-03-24T21:04:15.989047",
     "status": "completed"
    },
    "tags": []
   },
   "outputs": [
    {
     "data": {
      "text/plain": [
       "array(['Mid', 'Tanımsız', 'Junior', 'Senior'], dtype=object)"
      ]
     },
     "execution_count": 28,
     "metadata": {},
     "output_type": "execute_result"
    }
   ],
   "source": [
    "df[\"Level\"].unique()"
   ]
  },
  {
   "cell_type": "markdown",
   "id": "c878f0ae",
   "metadata": {
    "papermill": {
     "duration": 0.030007,
     "end_time": "2023-03-24T21:04:16.089930",
     "exception": false,
     "start_time": "2023-03-24T21:04:16.059923",
     "status": "completed"
    },
    "tags": []
   },
   "source": [
    "### **Level** değişkeninde Tanımsız değerler var. Bu değerleri kendi yorumuma göre **fill_undefined_level** fonksiyonu ile değiştiriyorum."
   ]
  },
  {
   "cell_type": "code",
   "execution_count": 29,
   "id": "536c7899",
   "metadata": {
    "execution": {
     "iopub.execute_input": "2023-03-24T21:04:16.152463Z",
     "iopub.status.busy": "2023-03-24T21:04:16.152003Z",
     "iopub.status.idle": "2023-03-24T21:04:16.159062Z",
     "shell.execute_reply": "2023-03-24T21:04:16.157854Z"
    },
    "papermill": {
     "duration": 0.041425,
     "end_time": "2023-03-24T21:04:16.161680",
     "exception": false,
     "start_time": "2023-03-24T21:04:16.120255",
     "status": "completed"
    },
    "tags": []
   },
   "outputs": [],
   "source": [
    "def fill_undefined_level(x):\n",
    "    if x[\"Level\"] == \"Tanımsız\":\n",
    "        if x[\"Experience\"] == \"0-1 Yıl\" or x[\"Experience\"] == \"1-3 Yıl\":\n",
    "            return \"Junior\"\n",
    "        elif x[\"Experience\"] == \"4-6 Yıl\":\n",
    "            return \"Mid\"\n",
    "        elif x[\"Experience\"] == \"10+ Yıl\" or x[\"Experience\"] == \"7-9 Yıl\":\n",
    "            return \"Senior\"\n",
    "    else:\n",
    "        return x[\"Level\"]"
   ]
  },
  {
   "cell_type": "code",
   "execution_count": 30,
   "id": "605ed912",
   "metadata": {
    "execution": {
     "iopub.execute_input": "2023-03-24T21:04:16.224846Z",
     "iopub.status.busy": "2023-03-24T21:04:16.224407Z",
     "iopub.status.idle": "2023-03-24T21:04:16.251479Z",
     "shell.execute_reply": "2023-03-24T21:04:16.250128Z"
    },
    "papermill": {
     "duration": 0.061686,
     "end_time": "2023-03-24T21:04:16.254042",
     "exception": false,
     "start_time": "2023-03-24T21:04:16.192356",
     "status": "completed"
    },
    "tags": []
   },
   "outputs": [],
   "source": [
    "df[\"Level\"] = df.apply(fill_undefined_level, axis=1)"
   ]
  },
  {
   "cell_type": "code",
   "execution_count": 31,
   "id": "da6cb648",
   "metadata": {
    "execution": {
     "iopub.execute_input": "2023-03-24T21:04:16.316528Z",
     "iopub.status.busy": "2023-03-24T21:04:16.316098Z",
     "iopub.status.idle": "2023-03-24T21:04:16.324050Z",
     "shell.execute_reply": "2023-03-24T21:04:16.322863Z"
    },
    "papermill": {
     "duration": 0.04203,
     "end_time": "2023-03-24T21:04:16.326320",
     "exception": false,
     "start_time": "2023-03-24T21:04:16.284290",
     "status": "completed"
    },
    "tags": []
   },
   "outputs": [
    {
     "data": {
      "text/plain": [
       "array(['Mid', 'Junior', 'Senior'], dtype=object)"
      ]
     },
     "execution_count": 31,
     "metadata": {},
     "output_type": "execute_result"
    }
   ],
   "source": [
    "df[\"Level\"].unique()"
   ]
  },
  {
   "cell_type": "code",
   "execution_count": 32,
   "id": "85999844",
   "metadata": {
    "execution": {
     "iopub.execute_input": "2023-03-24T21:04:16.389064Z",
     "iopub.status.busy": "2023-03-24T21:04:16.388612Z",
     "iopub.status.idle": "2023-03-24T21:04:16.396610Z",
     "shell.execute_reply": "2023-03-24T21:04:16.395474Z"
    },
    "papermill": {
     "duration": 0.042262,
     "end_time": "2023-03-24T21:04:16.399027",
     "exception": false,
     "start_time": "2023-03-24T21:04:16.356765",
     "status": "completed"
    },
    "tags": []
   },
   "outputs": [
    {
     "data": {
      "text/plain": [
       "array(['Yerinde / Ofiste', 'Remote', 'Hybrid'], dtype=object)"
      ]
     },
     "execution_count": 32,
     "metadata": {},
     "output_type": "execute_result"
    }
   ],
   "source": [
    "df[\"Way_of_working\"].unique()"
   ]
  },
  {
   "cell_type": "code",
   "execution_count": 33,
   "id": "3b913c41",
   "metadata": {
    "execution": {
     "iopub.execute_input": "2023-03-24T21:04:16.461568Z",
     "iopub.status.busy": "2023-03-24T21:04:16.461158Z",
     "iopub.status.idle": "2023-03-24T21:04:16.467847Z",
     "shell.execute_reply": "2023-03-24T21:04:16.466490Z"
    },
    "papermill": {
     "duration": 0.040908,
     "end_time": "2023-03-24T21:04:16.470278",
     "exception": false,
     "start_time": "2023-03-24T21:04:16.429370",
     "status": "completed"
    },
    "tags": []
   },
   "outputs": [],
   "source": [
    "df[\"Way_of_working\"] = df[\"Way_of_working\"].apply(lambda x: \"Ofis\" if x == \"Yerinde / Ofiste\" else x)"
   ]
  },
  {
   "cell_type": "code",
   "execution_count": 34,
   "id": "bdc389b4",
   "metadata": {
    "execution": {
     "iopub.execute_input": "2023-03-24T21:04:16.536132Z",
     "iopub.status.busy": "2023-03-24T21:04:16.535640Z",
     "iopub.status.idle": "2023-03-24T21:04:16.543441Z",
     "shell.execute_reply": "2023-03-24T21:04:16.542294Z"
    },
    "papermill": {
     "duration": 0.044205,
     "end_time": "2023-03-24T21:04:16.545842",
     "exception": false,
     "start_time": "2023-03-24T21:04:16.501637",
     "status": "completed"
    },
    "tags": []
   },
   "outputs": [
    {
     "data": {
      "text/plain": [
       "array(['1-3 Yıl', '4-6 Yıl', '0-1 Yıl', '10+ Yıl', '7-9 Yıl'],\n",
       "      dtype=object)"
      ]
     },
     "execution_count": 34,
     "metadata": {},
     "output_type": "execute_result"
    }
   ],
   "source": [
    "df[\"Experience\"].unique()"
   ]
  },
  {
   "cell_type": "code",
   "execution_count": 35,
   "id": "6142897e",
   "metadata": {
    "execution": {
     "iopub.execute_input": "2023-03-24T21:04:16.608985Z",
     "iopub.status.busy": "2023-03-24T21:04:16.608555Z",
     "iopub.status.idle": "2023-03-24T21:04:16.616668Z",
     "shell.execute_reply": "2023-03-24T21:04:16.615554Z"
    },
    "papermill": {
     "duration": 0.042579,
     "end_time": "2023-03-24T21:04:16.619262",
     "exception": false,
     "start_time": "2023-03-24T21:04:16.576683",
     "status": "completed"
    },
    "tags": []
   },
   "outputs": [
    {
     "data": {
      "text/plain": [
       "array(['Türkiye', 'Yurtdışı'], dtype=object)"
      ]
     },
     "execution_count": 35,
     "metadata": {},
     "output_type": "execute_result"
    }
   ],
   "source": [
    "df[\"Location\"].unique()"
   ]
  },
  {
   "cell_type": "code",
   "execution_count": 36,
   "id": "90d49fb9",
   "metadata": {
    "execution": {
     "iopub.execute_input": "2023-03-24T21:04:16.685445Z",
     "iopub.status.busy": "2023-03-24T21:04:16.684558Z",
     "iopub.status.idle": "2023-03-24T21:04:16.693070Z",
     "shell.execute_reply": "2023-03-24T21:04:16.691703Z"
    },
    "papermill": {
     "duration": 0.044016,
     "end_time": "2023-03-24T21:04:16.695535",
     "exception": false,
     "start_time": "2023-03-24T21:04:16.651519",
     "status": "completed"
    },
    "tags": []
   },
   "outputs": [
    {
     "data": {
      "text/plain": [
       "array(['Türk Lirası', 'Dolar', 'Sterlin', 'Çek Kronu', 'Euro',\n",
       "       'Maaş TL Primler Dolar', '25000', 'Canadian Dolar', '11500',\n",
       "       '1250', 'Zloty', '250 Dolar 4700tl ortalama', 'Aud', 'USDT',\n",
       "       'İsviçre Frangi', '1500', 'Dolar bazlı TL', '3000', 'Leva', 'CAD',\n",
       "       'Dolar endeksli Türk lirası(2 ayda bir dolara göre zam)', 'Dirhem'],\n",
       "      dtype=object)"
      ]
     },
     "execution_count": 36,
     "metadata": {},
     "output_type": "execute_result"
    }
   ],
   "source": [
    "df[\"Salary_type\"].unique()"
   ]
  },
  {
   "cell_type": "markdown",
   "id": "107160bf",
   "metadata": {
    "papermill": {
     "duration": 0.030686,
     "end_time": "2023-03-24T21:04:16.757514",
     "exception": false,
     "start_time": "2023-03-24T21:04:16.726828",
     "status": "completed"
    },
    "tags": []
   },
   "source": [
    "### **Salary_type** değişkeninde aynı anlama gelen farklı ifadeler var. Bu ifadeleri **change_salary_type** fonksiyonu ile değiştiriyorum."
   ]
  },
  {
   "cell_type": "code",
   "execution_count": 37,
   "id": "7379891b",
   "metadata": {
    "execution": {
     "iopub.execute_input": "2023-03-24T21:04:16.822788Z",
     "iopub.status.busy": "2023-03-24T21:04:16.822384Z",
     "iopub.status.idle": "2023-03-24T21:04:16.828216Z",
     "shell.execute_reply": "2023-03-24T21:04:16.827352Z"
    },
    "papermill": {
     "duration": 0.042153,
     "end_time": "2023-03-24T21:04:16.830538",
     "exception": false,
     "start_time": "2023-03-24T21:04:16.788385",
     "status": "completed"
    },
    "tags": []
   },
   "outputs": [],
   "source": [
    "def change_salary_type(x):\n",
    "    if x == \"Maaş TL Primler Dolar\" or x == 25000 or x == 11500 or x == \"Dolar bazlı TL\" or x == \"Dolar endeksli Türk lirası(2 ayda bir dolara göre zam)\":\n",
    "        return \"Türk Lirası\"\n",
    "    elif x == 1250 or x == \"250 Dolar 4700tl ortalama\" or x == \"USDT\" or x == 1500 or x == 3000:\n",
    "        return \"Dolar\"\n",
    "    elif x == \"CAD\":\n",
    "        return \"Canadian Dolar\"\n",
    "    else:\n",
    "        return x"
   ]
  },
  {
   "cell_type": "code",
   "execution_count": 38,
   "id": "fc32957e",
   "metadata": {
    "execution": {
     "iopub.execute_input": "2023-03-24T21:04:16.895584Z",
     "iopub.status.busy": "2023-03-24T21:04:16.895152Z",
     "iopub.status.idle": "2023-03-24T21:04:16.901968Z",
     "shell.execute_reply": "2023-03-24T21:04:16.900743Z"
    },
    "papermill": {
     "duration": 0.042778,
     "end_time": "2023-03-24T21:04:16.904609",
     "exception": false,
     "start_time": "2023-03-24T21:04:16.861831",
     "status": "completed"
    },
    "tags": []
   },
   "outputs": [],
   "source": [
    "df[\"Salary_type\"] = df[\"Salary_type\"].apply(change_salary_type)"
   ]
  },
  {
   "cell_type": "code",
   "execution_count": 39,
   "id": "328bd53e",
   "metadata": {
    "execution": {
     "iopub.execute_input": "2023-03-24T21:04:16.969307Z",
     "iopub.status.busy": "2023-03-24T21:04:16.968442Z",
     "iopub.status.idle": "2023-03-24T21:04:16.975974Z",
     "shell.execute_reply": "2023-03-24T21:04:16.975113Z"
    },
    "papermill": {
     "duration": 0.042947,
     "end_time": "2023-03-24T21:04:16.978592",
     "exception": false,
     "start_time": "2023-03-24T21:04:16.935645",
     "status": "completed"
    },
    "tags": []
   },
   "outputs": [
    {
     "data": {
      "text/plain": [
       "array(['Türk Lirası', 'Dolar', 'Sterlin', 'Çek Kronu', 'Euro', '25000',\n",
       "       'Canadian Dolar', '11500', '1250', 'Zloty', 'Aud',\n",
       "       'İsviçre Frangi', '1500', '3000', 'Leva', 'Dirhem'], dtype=object)"
      ]
     },
     "execution_count": 39,
     "metadata": {},
     "output_type": "execute_result"
    }
   ],
   "source": [
    "df[\"Salary_type\"].unique()"
   ]
  },
  {
   "cell_type": "code",
   "execution_count": 40,
   "id": "fa181e0d",
   "metadata": {
    "execution": {
     "iopub.execute_input": "2023-03-24T21:04:17.042964Z",
     "iopub.status.busy": "2023-03-24T21:04:17.042570Z",
     "iopub.status.idle": "2023-03-24T21:04:17.060236Z",
     "shell.execute_reply": "2023-03-24T21:04:17.059004Z"
    },
    "papermill": {
     "duration": 0.052831,
     "end_time": "2023-03-24T21:04:17.062754",
     "exception": false,
     "start_time": "2023-03-24T21:04:17.009923",
     "status": "completed"
    },
    "tags": []
   },
   "outputs": [
    {
     "data": {
      "text/html": [
       "<div>\n",
       "<style scoped>\n",
       "    .dataframe tbody tr th:only-of-type {\n",
       "        vertical-align: middle;\n",
       "    }\n",
       "\n",
       "    .dataframe tbody tr th {\n",
       "        vertical-align: top;\n",
       "    }\n",
       "\n",
       "    .dataframe thead th {\n",
       "        text-align: right;\n",
       "    }\n",
       "</style>\n",
       "<table border=\"1\" class=\"dataframe\">\n",
       "  <thead>\n",
       "    <tr style=\"text-align: right;\">\n",
       "      <th></th>\n",
       "      <th>Position</th>\n",
       "      <th>Level</th>\n",
       "      <th>Experience</th>\n",
       "      <th>Technology</th>\n",
       "      <th>Location</th>\n",
       "      <th>Way_of_working</th>\n",
       "      <th>Employees_number</th>\n",
       "      <th>Salary_type</th>\n",
       "      <th>Salary</th>\n",
       "      <th>salary_min</th>\n",
       "      <th>salary_max</th>\n",
       "      <th>salary</th>\n",
       "    </tr>\n",
       "  </thead>\n",
       "  <tbody>\n",
       "    <tr>\n",
       "      <th>0</th>\n",
       "      <td>Backend Developer</td>\n",
       "      <td>Mid</td>\n",
       "      <td>1-3 Yıl</td>\n",
       "      <td>Java / Spring</td>\n",
       "      <td>Türkiye</td>\n",
       "      <td>Ofis</td>\n",
       "      <td>100-300</td>\n",
       "      <td>Türk Lirası</td>\n",
       "      <td>41.000 - 45.000 TL</td>\n",
       "      <td>41000</td>\n",
       "      <td>45000</td>\n",
       "      <td>43000.00</td>\n",
       "    </tr>\n",
       "    <tr>\n",
       "      <th>1</th>\n",
       "      <td>Architect / Mimar</td>\n",
       "      <td>Mid</td>\n",
       "      <td>4-6 Yıl</td>\n",
       "      <td>React / NextJS, NodeJS, Javascript, React Native</td>\n",
       "      <td>Türkiye</td>\n",
       "      <td>Remote</td>\n",
       "      <td>2000+</td>\n",
       "      <td>Türk Lirası</td>\n",
       "      <td>51.000 - 55.000 TL</td>\n",
       "      <td>51000</td>\n",
       "      <td>55000</td>\n",
       "      <td>53000.00</td>\n",
       "    </tr>\n",
       "    <tr>\n",
       "      <th>2</th>\n",
       "      <td>Frontend Developer</td>\n",
       "      <td>Junior</td>\n",
       "      <td>1-3 Yıl</td>\n",
       "      <td>React / NextJS, Javascript</td>\n",
       "      <td>Türkiye</td>\n",
       "      <td>Remote</td>\n",
       "      <td>100-300</td>\n",
       "      <td>Türk Lirası</td>\n",
       "      <td>16.000 - 20.000 TL</td>\n",
       "      <td>16000</td>\n",
       "      <td>20000</td>\n",
       "      <td>18000.00</td>\n",
       "    </tr>\n",
       "    <tr>\n",
       "      <th>3</th>\n",
       "      <td>Backend Developer</td>\n",
       "      <td>Mid</td>\n",
       "      <td>4-6 Yıl</td>\n",
       "      <td>Java / Spring</td>\n",
       "      <td>Türkiye</td>\n",
       "      <td>Hybrid</td>\n",
       "      <td>300-1000</td>\n",
       "      <td>Türk Lirası</td>\n",
       "      <td>41.000 - 45.000 TL</td>\n",
       "      <td>41000</td>\n",
       "      <td>45000</td>\n",
       "      <td>43000.00</td>\n",
       "    </tr>\n",
       "    <tr>\n",
       "      <th>4</th>\n",
       "      <td>Fullstack Developer</td>\n",
       "      <td>Junior</td>\n",
       "      <td>0-1 Yıl</td>\n",
       "      <td>React / NextJS, NodeJS, Javascript</td>\n",
       "      <td>Türkiye</td>\n",
       "      <td>Ofis</td>\n",
       "      <td>50-100</td>\n",
       "      <td>Türk Lirası</td>\n",
       "      <td>11.000 - 15.000 TL</td>\n",
       "      <td>11000</td>\n",
       "      <td>15000</td>\n",
       "      <td>13000.00</td>\n",
       "    </tr>\n",
       "  </tbody>\n",
       "</table>\n",
       "</div>"
      ],
      "text/plain": [
       "              Position   Level Experience  \\\n",
       "0    Backend Developer     Mid    1-3 Yıl   \n",
       "1    Architect / Mimar     Mid    4-6 Yıl   \n",
       "2   Frontend Developer  Junior    1-3 Yıl   \n",
       "3    Backend Developer     Mid    4-6 Yıl   \n",
       "4  Fullstack Developer  Junior    0-1 Yıl   \n",
       "\n",
       "                                         Technology Location Way_of_working  \\\n",
       "0                                     Java / Spring  Türkiye           Ofis   \n",
       "1  React / NextJS, NodeJS, Javascript, React Native  Türkiye         Remote   \n",
       "2                        React / NextJS, Javascript  Türkiye         Remote   \n",
       "3                                     Java / Spring  Türkiye         Hybrid   \n",
       "4                React / NextJS, NodeJS, Javascript  Türkiye           Ofis   \n",
       "\n",
       "  Employees_number  Salary_type              Salary  salary_min  salary_max  \\\n",
       "0          100-300  Türk Lirası  41.000 - 45.000 TL       41000       45000   \n",
       "1            2000+  Türk Lirası  51.000 - 55.000 TL       51000       55000   \n",
       "2          100-300  Türk Lirası  16.000 - 20.000 TL       16000       20000   \n",
       "3         300-1000  Türk Lirası  41.000 - 45.000 TL       41000       45000   \n",
       "4           50-100  Türk Lirası  11.000 - 15.000 TL       11000       15000   \n",
       "\n",
       "    salary  \n",
       "0 43000.00  \n",
       "1 53000.00  \n",
       "2 18000.00  \n",
       "3 43000.00  \n",
       "4 13000.00  "
      ]
     },
     "execution_count": 40,
     "metadata": {},
     "output_type": "execute_result"
    }
   ],
   "source": [
    "df.head()"
   ]
  },
  {
   "cell_type": "code",
   "execution_count": 41,
   "id": "7d8a3c87",
   "metadata": {
    "execution": {
     "iopub.execute_input": "2023-03-24T21:04:17.126905Z",
     "iopub.status.busy": "2023-03-24T21:04:17.126528Z",
     "iopub.status.idle": "2023-03-24T21:04:17.135644Z",
     "shell.execute_reply": "2023-03-24T21:04:17.134398Z"
    },
    "papermill": {
     "duration": 0.044331,
     "end_time": "2023-03-24T21:04:17.138072",
     "exception": false,
     "start_time": "2023-03-24T21:04:17.093741",
     "status": "completed"
    },
    "tags": []
   },
   "outputs": [
    {
     "data": {
      "text/plain": [
       "10-30        217\n",
       "0-10         187\n",
       "2000+        184\n",
       "100-300      145\n",
       "300-1000     133\n",
       "50-100       116\n",
       "30-50        102\n",
       "1000-2000     80\n",
       "Name: Employees_number, dtype: int64"
      ]
     },
     "execution_count": 41,
     "metadata": {},
     "output_type": "execute_result"
    }
   ],
   "source": [
    "df[\"Employees_number\"].value_counts()"
   ]
  },
  {
   "cell_type": "code",
   "execution_count": 42,
   "id": "85dcde2c",
   "metadata": {
    "execution": {
     "iopub.execute_input": "2023-03-24T21:04:17.203662Z",
     "iopub.status.busy": "2023-03-24T21:04:17.203281Z",
     "iopub.status.idle": "2023-03-24T21:04:17.233786Z",
     "shell.execute_reply": "2023-03-24T21:04:17.232860Z"
    },
    "papermill": {
     "duration": 0.065963,
     "end_time": "2023-03-24T21:04:17.236066",
     "exception": false,
     "start_time": "2023-03-24T21:04:17.170103",
     "status": "completed"
    },
    "tags": []
   },
   "outputs": [
    {
     "data": {
      "text/html": [
       "<div>\n",
       "<style scoped>\n",
       "    .dataframe tbody tr th:only-of-type {\n",
       "        vertical-align: middle;\n",
       "    }\n",
       "\n",
       "    .dataframe tbody tr th {\n",
       "        vertical-align: top;\n",
       "    }\n",
       "\n",
       "    .dataframe thead th {\n",
       "        text-align: right;\n",
       "    }\n",
       "</style>\n",
       "<table border=\"1\" class=\"dataframe\">\n",
       "  <thead>\n",
       "    <tr style=\"text-align: right;\">\n",
       "      <th></th>\n",
       "      <th>count</th>\n",
       "      <th>mean</th>\n",
       "      <th>std</th>\n",
       "      <th>min</th>\n",
       "      <th>25%</th>\n",
       "      <th>50%</th>\n",
       "      <th>75%</th>\n",
       "      <th>max</th>\n",
       "    </tr>\n",
       "  </thead>\n",
       "  <tbody>\n",
       "    <tr>\n",
       "      <th>salary_min</th>\n",
       "      <td>1164.00</td>\n",
       "      <td>27390.89</td>\n",
       "      <td>24645.71</td>\n",
       "      <td>5000.00</td>\n",
       "      <td>11000.00</td>\n",
       "      <td>21000.00</td>\n",
       "      <td>31000.00</td>\n",
       "      <td>200000.00</td>\n",
       "    </tr>\n",
       "    <tr>\n",
       "      <th>salary_max</th>\n",
       "      <td>1164.00</td>\n",
       "      <td>28362.54</td>\n",
       "      <td>18974.50</td>\n",
       "      <td>10000.00</td>\n",
       "      <td>15000.00</td>\n",
       "      <td>25000.00</td>\n",
       "      <td>35000.00</td>\n",
       "      <td>200000.00</td>\n",
       "    </tr>\n",
       "    <tr>\n",
       "      <th>salary</th>\n",
       "      <td>1164.00</td>\n",
       "      <td>27876.72</td>\n",
       "      <td>19966.97</td>\n",
       "      <td>7500.00</td>\n",
       "      <td>13000.00</td>\n",
       "      <td>23000.00</td>\n",
       "      <td>33000.00</td>\n",
       "      <td>200000.00</td>\n",
       "    </tr>\n",
       "  </tbody>\n",
       "</table>\n",
       "</div>"
      ],
      "text/plain": [
       "             count     mean      std      min      25%      50%      75%  \\\n",
       "salary_min 1164.00 27390.89 24645.71  5000.00 11000.00 21000.00 31000.00   \n",
       "salary_max 1164.00 28362.54 18974.50 10000.00 15000.00 25000.00 35000.00   \n",
       "salary     1164.00 27876.72 19966.97  7500.00 13000.00 23000.00 33000.00   \n",
       "\n",
       "                 max  \n",
       "salary_min 200000.00  \n",
       "salary_max 200000.00  \n",
       "salary     200000.00  "
      ]
     },
     "execution_count": 42,
     "metadata": {},
     "output_type": "execute_result"
    }
   ],
   "source": [
    "df.describe().T"
   ]
  },
  {
   "cell_type": "code",
   "execution_count": 43,
   "id": "c76a631b",
   "metadata": {
    "execution": {
     "iopub.execute_input": "2023-03-24T21:04:17.302926Z",
     "iopub.status.busy": "2023-03-24T21:04:17.302537Z",
     "iopub.status.idle": "2023-03-24T21:04:17.308830Z",
     "shell.execute_reply": "2023-03-24T21:04:17.307949Z"
    },
    "papermill": {
     "duration": 0.042403,
     "end_time": "2023-03-24T21:04:17.311147",
     "exception": false,
     "start_time": "2023-03-24T21:04:17.268744",
     "status": "completed"
    },
    "tags": []
   },
   "outputs": [
    {
     "data": {
      "text/plain": [
       "(1164, 12)"
      ]
     },
     "execution_count": 43,
     "metadata": {},
     "output_type": "execute_result"
    }
   ],
   "source": [
    "df.shape"
   ]
  },
  {
   "cell_type": "markdown",
   "id": "13d657c7",
   "metadata": {
    "papermill": {
     "duration": 0.031482,
     "end_time": "2023-03-24T21:04:17.374630",
     "exception": false,
     "start_time": "2023-03-24T21:04:17.343148",
     "status": "completed"
    },
    "tags": []
   },
   "source": [
    "### Aykırı Değerleri IQR Yöntemi ile Baskılayalım. Maaş hassas bir değişken olduğu için çok keskin bir baskılama işlemi yapmak istemiyorum. Bu işlemi **%10** ve **%90** dilimlik değerlere göre yapıyorum."
   ]
  },
  {
   "cell_type": "code",
   "execution_count": 44,
   "id": "ca47f88c",
   "metadata": {
    "execution": {
     "iopub.execute_input": "2023-03-24T21:04:17.440629Z",
     "iopub.status.busy": "2023-03-24T21:04:17.440225Z",
     "iopub.status.idle": "2023-03-24T21:04:17.448231Z",
     "shell.execute_reply": "2023-03-24T21:04:17.447242Z"
    },
    "papermill": {
     "duration": 0.04442,
     "end_time": "2023-03-24T21:04:17.450633",
     "exception": false,
     "start_time": "2023-03-24T21:04:17.406213",
     "status": "completed"
    },
    "tags": []
   },
   "outputs": [],
   "source": [
    "replace_with_thresholds(df, \"salary\")"
   ]
  },
  {
   "cell_type": "markdown",
   "id": "0fef1346",
   "metadata": {
    "papermill": {
     "duration": 0.031772,
     "end_time": "2023-03-24T21:04:17.514771",
     "exception": false,
     "start_time": "2023-03-24T21:04:17.482999",
     "status": "completed"
    },
    "tags": []
   },
   "source": [
    "Verileri Analiz Edelim."
   ]
  },
  {
   "cell_type": "code",
   "execution_count": 45,
   "id": "981385b3",
   "metadata": {
    "execution": {
     "iopub.execute_input": "2023-03-24T21:04:17.580834Z",
     "iopub.status.busy": "2023-03-24T21:04:17.580443Z",
     "iopub.status.idle": "2023-03-24T21:04:17.605770Z",
     "shell.execute_reply": "2023-03-24T21:04:17.604547Z"
    },
    "papermill": {
     "duration": 0.061727,
     "end_time": "2023-03-24T21:04:17.608334",
     "exception": false,
     "start_time": "2023-03-24T21:04:17.546607",
     "status": "completed"
    },
    "tags": []
   },
   "outputs": [
    {
     "data": {
      "text/html": [
       "<div>\n",
       "<style scoped>\n",
       "    .dataframe tbody tr th:only-of-type {\n",
       "        vertical-align: middle;\n",
       "    }\n",
       "\n",
       "    .dataframe tbody tr th {\n",
       "        vertical-align: top;\n",
       "    }\n",
       "\n",
       "    .dataframe thead tr th {\n",
       "        text-align: left;\n",
       "    }\n",
       "\n",
       "    .dataframe thead tr:last-of-type th {\n",
       "        text-align: right;\n",
       "    }\n",
       "</style>\n",
       "<table border=\"1\" class=\"dataframe\">\n",
       "  <thead>\n",
       "    <tr>\n",
       "      <th></th>\n",
       "      <th colspan=\"6\" halign=\"left\">salary</th>\n",
       "    </tr>\n",
       "    <tr>\n",
       "      <th></th>\n",
       "      <th>count</th>\n",
       "      <th>mean</th>\n",
       "      <th>std</th>\n",
       "      <th>median</th>\n",
       "      <th>min</th>\n",
       "      <th>max</th>\n",
       "    </tr>\n",
       "    <tr>\n",
       "      <th>Level</th>\n",
       "      <th></th>\n",
       "      <th></th>\n",
       "      <th></th>\n",
       "      <th></th>\n",
       "      <th></th>\n",
       "      <th></th>\n",
       "    </tr>\n",
       "  </thead>\n",
       "  <tbody>\n",
       "    <tr>\n",
       "      <th>Junior</th>\n",
       "      <td>469</td>\n",
       "      <td>17007.46</td>\n",
       "      <td>10318.10</td>\n",
       "      <td>13000.00</td>\n",
       "      <td>7500.00</td>\n",
       "      <td>75500.00</td>\n",
       "    </tr>\n",
       "    <tr>\n",
       "      <th>Mid</th>\n",
       "      <td>384</td>\n",
       "      <td>27505.21</td>\n",
       "      <td>13382.55</td>\n",
       "      <td>23000.00</td>\n",
       "      <td>7500.00</td>\n",
       "      <td>85500.00</td>\n",
       "    </tr>\n",
       "    <tr>\n",
       "      <th>Senior</th>\n",
       "      <td>311</td>\n",
       "      <td>43736.33</td>\n",
       "      <td>20418.95</td>\n",
       "      <td>43000.00</td>\n",
       "      <td>7500.00</td>\n",
       "      <td>123000.00</td>\n",
       "    </tr>\n",
       "  </tbody>\n",
       "</table>\n",
       "</div>"
      ],
      "text/plain": [
       "       salary                                             \n",
       "        count     mean      std   median     min       max\n",
       "Level                                                     \n",
       "Junior    469 17007.46 10318.10 13000.00 7500.00  75500.00\n",
       "Mid       384 27505.21 13382.55 23000.00 7500.00  85500.00\n",
       "Senior    311 43736.33 20418.95 43000.00 7500.00 123000.00"
      ]
     },
     "execution_count": 45,
     "metadata": {},
     "output_type": "execute_result"
    }
   ],
   "source": [
    "df.groupby(\"Level\").agg({\"salary\": [\"count\",\"mean\",\"std\", \"median\", \"min\", \"max\"]})"
   ]
  },
  {
   "cell_type": "code",
   "execution_count": 46,
   "id": "c9b65304",
   "metadata": {
    "execution": {
     "iopub.execute_input": "2023-03-24T21:04:17.675126Z",
     "iopub.status.busy": "2023-03-24T21:04:17.674731Z",
     "iopub.status.idle": "2023-03-24T21:04:17.838729Z",
     "shell.execute_reply": "2023-03-24T21:04:17.837053Z"
    },
    "papermill": {
     "duration": 0.202133,
     "end_time": "2023-03-24T21:04:17.842992",
     "exception": false,
     "start_time": "2023-03-24T21:04:17.640859",
     "status": "completed"
    },
    "tags": []
   },
   "outputs": [
    {
     "data": {
      "image/png": "[encoded data removed]",
      "text/plain": [
       "<Figure size 640x480 with 1 Axes>"
      ]
     },
     "metadata": {},
     "output_type": "display_data"
    }
   ],
   "source": [
    "plt.pie(df[\"Level\"].value_counts(), labels=df[\"Level\"].value_counts().index, autopct='%1.1f%%')\n",
    "plt.title(\"Level\")\n",
    "plt.show()"
   ]
  },
  {
   "cell_type": "markdown",
   "id": "74242ee8",
   "metadata": {
    "papermill": {
     "duration": 0.031879,
     "end_time": "2023-03-24T21:04:17.933068",
     "exception": false,
     "start_time": "2023-03-24T21:04:17.901189",
     "status": "completed"
    },
    "tags": []
   },
   "source": [
    "### Verilerin Dağılımı Yukarıdaki Grafikte Gösterilmiştir. 469 tane Junior seviye maaş bilgisi, 384 tane Mid seviye maaş bilgisi ve 311 tane Senior seviye maaş bilgisi bulunmaktadır."
   ]
  },
  {
   "cell_type": "code",
   "execution_count": 47,
   "id": "a7bec60e",
   "metadata": {
    "execution": {
     "iopub.execute_input": "2023-03-24T21:04:17.999985Z",
     "iopub.status.busy": "2023-03-24T21:04:17.999592Z",
     "iopub.status.idle": "2023-03-24T21:04:18.216196Z",
     "shell.execute_reply": "2023-03-24T21:04:18.214989Z"
    },
    "papermill": {
     "duration": 0.253153,
     "end_time": "2023-03-24T21:04:18.218744",
     "exception": false,
     "start_time": "2023-03-24T21:04:17.965591",
     "status": "completed"
    },
    "tags": []
   },
   "outputs": [
    {
     "data": {
      "image/png": "[encoded data removed]",
      "text/plain": [
       "<Figure size 640x480 with 1 Axes>"
      ]
     },
     "metadata": {},
     "output_type": "display_data"
    }
   ],
   "source": [
    "sns.boxplot(x=\"Level\", y=\"salary\", data=df)\n",
    "plt.show()"
   ]
  },
  {
   "cell_type": "markdown",
   "id": "f108ea7c",
   "metadata": {
    "papermill": {
     "duration": 0.032558,
     "end_time": "2023-03-24T21:04:18.284419",
     "exception": false,
     "start_time": "2023-03-24T21:04:18.251861",
     "status": "completed"
    },
    "tags": []
   },
   "source": [
    "### Maaşların seviyelere göre kutu grafiği yukarıda gösterilmiştir. **Junior** seviye maaşları verilere göre ortalama **17000 TL**, **Mid** seviye maaşları verilere göre ortalama **27500 TL** ve **Senior** seviye maaşları ise ortalama **43700 TL**. Maaşların dağılımı yurtdışı ve yurtiçi karışık olarak verilmiş. Bu yüzden yurtiçi ve yurtdışı maaşlarını ayrı ayrı incelemek daha doğru olacaktır."
   ]
  },
  {
   "cell_type": "markdown",
   "id": "b9f70773",
   "metadata": {
    "papermill": {
     "duration": 0.0325,
     "end_time": "2023-03-24T21:04:18.350038",
     "exception": false,
     "start_time": "2023-03-24T21:04:18.317538",
     "status": "completed"
    },
    "tags": []
   },
   "source": [
    "### Junior Değerleri İçerisinde Bulunan Aykırı Değerleri Daha Önce İncelemiştim. Bu Aykırı Değerleri IQR Yöntemi İle Baskıladığım Zaman Ortalamayı Çok Fazla Etkilemediği İçin İşlem Yapmak istemiyorum. Söz Konusu Maaş Değişkeni Olduğu İçin Bu Değerleri Kaybetmek İstemiyorum. Senior Değerleri İçerisinde Bulunan Aykırı Değerleri Zaten Yukarıda Baskılamıştık."
   ]
  },
  {
   "cell_type": "code",
   "execution_count": 48,
   "id": "34692ed2",
   "metadata": {
    "execution": {
     "iopub.execute_input": "2023-03-24T21:04:18.417224Z",
     "iopub.status.busy": "2023-03-24T21:04:18.416758Z",
     "iopub.status.idle": "2023-03-24T21:04:18.423672Z",
     "shell.execute_reply": "2023-03-24T21:04:18.422568Z"
    },
    "papermill": {
     "duration": 0.043467,
     "end_time": "2023-03-24T21:04:18.425918",
     "exception": false,
     "start_time": "2023-03-24T21:04:18.382451",
     "status": "completed"
    },
    "tags": []
   },
   "outputs": [],
   "source": [
    "def create_count_mean_table(df:pd.DataFrame, col:str, target:str):\n",
    "    \"\"\"This function creates a table that shows the count and mean of the target variable for each category of the given column.\n",
    "\n",
    "    Args:\n",
    "        df (pd.DataFrame): Your dataframe.\n",
    "        col (str): The column you want to group by.\n",
    "        target (str): The target variable.\n",
    "\n",
    "    Returns:\n",
    "        pd.DataFrame: The table that shows the count and mean of the target variable for each category of the given column.\n",
    "    \"\"\"\n",
    "    temp_df = df.groupby(col).agg({target: [\"count\", \"mean\"]}).reset_index()\n",
    "    temp_df.columns = [col, \"Count\", \"Mean\"]\n",
    "    return temp_df"
   ]
  },
  {
   "cell_type": "code",
   "execution_count": 49,
   "id": "0b3f76b8",
   "metadata": {
    "execution": {
     "iopub.execute_input": "2023-03-24T21:04:18.493572Z",
     "iopub.status.busy": "2023-03-24T21:04:18.492552Z",
     "iopub.status.idle": "2023-03-24T21:04:18.509852Z",
     "shell.execute_reply": "2023-03-24T21:04:18.508900Z"
    },
    "papermill": {
     "duration": 0.053643,
     "end_time": "2023-03-24T21:04:18.512153",
     "exception": false,
     "start_time": "2023-03-24T21:04:18.458510",
     "status": "completed"
    },
    "tags": []
   },
   "outputs": [
    {
     "data": {
      "text/html": [
       "<div>\n",
       "<style scoped>\n",
       "    .dataframe tbody tr th:only-of-type {\n",
       "        vertical-align: middle;\n",
       "    }\n",
       "\n",
       "    .dataframe tbody tr th {\n",
       "        vertical-align: top;\n",
       "    }\n",
       "\n",
       "    .dataframe thead th {\n",
       "        text-align: right;\n",
       "    }\n",
       "</style>\n",
       "<table border=\"1\" class=\"dataframe\">\n",
       "  <thead>\n",
       "    <tr style=\"text-align: right;\">\n",
       "      <th></th>\n",
       "      <th>Level</th>\n",
       "      <th>Count</th>\n",
       "      <th>Mean</th>\n",
       "    </tr>\n",
       "  </thead>\n",
       "  <tbody>\n",
       "    <tr>\n",
       "      <th>0</th>\n",
       "      <td>Junior</td>\n",
       "      <td>469</td>\n",
       "      <td>17007.46</td>\n",
       "    </tr>\n",
       "    <tr>\n",
       "      <th>1</th>\n",
       "      <td>Mid</td>\n",
       "      <td>384</td>\n",
       "      <td>27505.21</td>\n",
       "    </tr>\n",
       "    <tr>\n",
       "      <th>2</th>\n",
       "      <td>Senior</td>\n",
       "      <td>311</td>\n",
       "      <td>43736.33</td>\n",
       "    </tr>\n",
       "  </tbody>\n",
       "</table>\n",
       "</div>"
      ],
      "text/plain": [
       "    Level  Count     Mean\n",
       "0  Junior    469 17007.46\n",
       "1     Mid    384 27505.21\n",
       "2  Senior    311 43736.33"
      ]
     },
     "execution_count": 49,
     "metadata": {},
     "output_type": "execute_result"
    }
   ],
   "source": [
    "df_temp_level = create_count_mean_table(df, \"Level\", \"salary\")\n",
    "df_temp_level"
   ]
  },
  {
   "cell_type": "code",
   "execution_count": 50,
   "id": "40ac4138",
   "metadata": {
    "execution": {
     "iopub.execute_input": "2023-03-24T21:04:18.580390Z",
     "iopub.status.busy": "2023-03-24T21:04:18.579625Z",
     "iopub.status.idle": "2023-03-24T21:04:18.593633Z",
     "shell.execute_reply": "2023-03-24T21:04:18.592392Z"
    },
    "papermill": {
     "duration": 0.050838,
     "end_time": "2023-03-24T21:04:18.596057",
     "exception": false,
     "start_time": "2023-03-24T21:04:18.545219",
     "status": "completed"
    },
    "tags": []
   },
   "outputs": [
    {
     "data": {
      "text/html": [
       "<div>\n",
       "<style scoped>\n",
       "    .dataframe tbody tr th:only-of-type {\n",
       "        vertical-align: middle;\n",
       "    }\n",
       "\n",
       "    .dataframe tbody tr th {\n",
       "        vertical-align: top;\n",
       "    }\n",
       "\n",
       "    .dataframe thead th {\n",
       "        text-align: right;\n",
       "    }\n",
       "</style>\n",
       "<table border=\"1\" class=\"dataframe\">\n",
       "  <thead>\n",
       "    <tr style=\"text-align: right;\">\n",
       "      <th></th>\n",
       "      <th>Location</th>\n",
       "      <th>Count</th>\n",
       "      <th>Mean</th>\n",
       "    </tr>\n",
       "  </thead>\n",
       "  <tbody>\n",
       "    <tr>\n",
       "      <th>0</th>\n",
       "      <td>Türkiye</td>\n",
       "      <td>1033</td>\n",
       "      <td>24654.89</td>\n",
       "    </tr>\n",
       "    <tr>\n",
       "      <th>1</th>\n",
       "      <td>Yurtdışı</td>\n",
       "      <td>131</td>\n",
       "      <td>50931.30</td>\n",
       "    </tr>\n",
       "  </tbody>\n",
       "</table>\n",
       "</div>"
      ],
      "text/plain": [
       "   Location  Count     Mean\n",
       "0   Türkiye   1033 24654.89\n",
       "1  Yurtdışı    131 50931.30"
      ]
     },
     "execution_count": 50,
     "metadata": {},
     "output_type": "execute_result"
    }
   ],
   "source": [
    "df_temp_location = create_count_mean_table(df, \"Location\", \"salary\")\n",
    "df_temp_location"
   ]
  },
  {
   "cell_type": "code",
   "execution_count": 51,
   "id": "8c4c0d85",
   "metadata": {
    "execution": {
     "iopub.execute_input": "2023-03-24T21:04:18.664391Z",
     "iopub.status.busy": "2023-03-24T21:04:18.663942Z",
     "iopub.status.idle": "2023-03-24T21:04:18.791071Z",
     "shell.execute_reply": "2023-03-24T21:04:18.789307Z"
    },
    "papermill": {
     "duration": 0.166295,
     "end_time": "2023-03-24T21:04:18.795650",
     "exception": false,
     "start_time": "2023-03-24T21:04:18.629355",
     "status": "completed"
    },
    "tags": []
   },
   "outputs": [
    {
     "data": {
      "image/png": "[encoded data removed]",
      "text/plain": [
       "<Figure size 640x480 with 1 Axes>"
      ]
     },
     "metadata": {},
     "output_type": "display_data"
    }
   ],
   "source": [
    "plt.pie(df[\"Location\"].value_counts(), labels=df[\"Location\"].value_counts().index, autopct='%1.1f%%')\n",
    "plt.title(\"Location\")\n",
    "plt.show()"
   ]
  },
  {
   "cell_type": "code",
   "execution_count": 52,
   "id": "d09a77e6",
   "metadata": {
    "execution": {
     "iopub.execute_input": "2023-03-24T21:04:18.901985Z",
     "iopub.status.busy": "2023-03-24T21:04:18.901184Z",
     "iopub.status.idle": "2023-03-24T21:04:18.916814Z",
     "shell.execute_reply": "2023-03-24T21:04:18.915118Z"
    },
    "papermill": {
     "duration": 0.053836,
     "end_time": "2023-03-24T21:04:18.919334",
     "exception": false,
     "start_time": "2023-03-24T21:04:18.865498",
     "status": "completed"
    },
    "tags": []
   },
   "outputs": [
    {
     "data": {
      "text/html": [
       "<div>\n",
       "<style scoped>\n",
       "    .dataframe tbody tr th:only-of-type {\n",
       "        vertical-align: middle;\n",
       "    }\n",
       "\n",
       "    .dataframe tbody tr th {\n",
       "        vertical-align: top;\n",
       "    }\n",
       "\n",
       "    .dataframe thead th {\n",
       "        text-align: right;\n",
       "    }\n",
       "</style>\n",
       "<table border=\"1\" class=\"dataframe\">\n",
       "  <thead>\n",
       "    <tr style=\"text-align: right;\">\n",
       "      <th></th>\n",
       "      <th>Employees_number</th>\n",
       "      <th>Count</th>\n",
       "      <th>Mean</th>\n",
       "    </tr>\n",
       "  </thead>\n",
       "  <tbody>\n",
       "    <tr>\n",
       "      <th>0</th>\n",
       "      <td>0-10</td>\n",
       "      <td>187</td>\n",
       "      <td>20585.56</td>\n",
       "    </tr>\n",
       "    <tr>\n",
       "      <th>1</th>\n",
       "      <td>10-30</td>\n",
       "      <td>217</td>\n",
       "      <td>24320.28</td>\n",
       "    </tr>\n",
       "    <tr>\n",
       "      <th>2</th>\n",
       "      <td>100-300</td>\n",
       "      <td>145</td>\n",
       "      <td>30213.79</td>\n",
       "    </tr>\n",
       "    <tr>\n",
       "      <th>3</th>\n",
       "      <td>1000-2000</td>\n",
       "      <td>80</td>\n",
       "      <td>31900.00</td>\n",
       "    </tr>\n",
       "    <tr>\n",
       "      <th>4</th>\n",
       "      <td>2000+</td>\n",
       "      <td>184</td>\n",
       "      <td>32092.39</td>\n",
       "    </tr>\n",
       "    <tr>\n",
       "      <th>5</th>\n",
       "      <td>30-50</td>\n",
       "      <td>102</td>\n",
       "      <td>27411.76</td>\n",
       "    </tr>\n",
       "    <tr>\n",
       "      <th>6</th>\n",
       "      <td>300-1000</td>\n",
       "      <td>133</td>\n",
       "      <td>29142.86</td>\n",
       "    </tr>\n",
       "    <tr>\n",
       "      <th>7</th>\n",
       "      <td>50-100</td>\n",
       "      <td>116</td>\n",
       "      <td>30202.59</td>\n",
       "    </tr>\n",
       "  </tbody>\n",
       "</table>\n",
       "</div>"
      ],
      "text/plain": [
       "  Employees_number  Count     Mean\n",
       "0             0-10    187 20585.56\n",
       "1            10-30    217 24320.28\n",
       "2          100-300    145 30213.79\n",
       "3        1000-2000     80 31900.00\n",
       "4            2000+    184 32092.39\n",
       "5            30-50    102 27411.76\n",
       "6         300-1000    133 29142.86\n",
       "7           50-100    116 30202.59"
      ]
     },
     "execution_count": 52,
     "metadata": {},
     "output_type": "execute_result"
    }
   ],
   "source": [
    "df_temp_employee = create_count_mean_table(df, \"Employees_number\", \"salary\")\n",
    "df_temp_employee"
   ]
  },
  {
   "cell_type": "code",
   "execution_count": 53,
   "id": "37ea4a3f",
   "metadata": {
    "execution": {
     "iopub.execute_input": "2023-03-24T21:04:18.989643Z",
     "iopub.status.busy": "2023-03-24T21:04:18.988973Z",
     "iopub.status.idle": "2023-03-24T21:04:19.165126Z",
     "shell.execute_reply": "2023-03-24T21:04:19.163348Z"
    },
    "papermill": {
     "duration": 0.21639,
     "end_time": "2023-03-24T21:04:19.169481",
     "exception": false,
     "start_time": "2023-03-24T21:04:18.953091",
     "status": "completed"
    },
    "tags": []
   },
   "outputs": [
    {
     "data": {
      "image/png": "[encoded data removed]",
      "text/plain": [
       "<Figure size 640x480 with 1 Axes>"
      ]
     },
     "metadata": {},
     "output_type": "display_data"
    }
   ],
   "source": [
    "plt.pie(df[\"Employees_number\"].value_counts(), labels=df[\"Employees_number\"].value_counts().index, autopct='%1.1f%%')\n",
    "plt.title(\"Çalışan Sayısı\")\n",
    "plt.show()"
   ]
  },
  {
   "cell_type": "code",
   "execution_count": 54,
   "id": "b05b79f3",
   "metadata": {
    "execution": {
     "iopub.execute_input": "2023-03-24T21:04:19.256757Z",
     "iopub.status.busy": "2023-03-24T21:04:19.256117Z",
     "iopub.status.idle": "2023-03-24T21:04:19.550731Z",
     "shell.execute_reply": "2023-03-24T21:04:19.549333Z"
    },
    "papermill": {
     "duration": 0.333791,
     "end_time": "2023-03-24T21:04:19.553596",
     "exception": false,
     "start_time": "2023-03-24T21:04:19.219805",
     "status": "completed"
    },
    "tags": []
   },
   "outputs": [
    {
     "data": {
      "image/png": "[encoded data removed]",
      "text/plain": [
       "<Figure size 640x480 with 1 Axes>"
      ]
     },
     "metadata": {},
     "output_type": "display_data"
    }
   ],
   "source": [
    "sns.boxplot(x=\"Employees_number\", y=\"salary\", data=df)\n",
    "plt.show()"
   ]
  },
  {
   "cell_type": "code",
   "execution_count": 55,
   "id": "c35a6157",
   "metadata": {
    "execution": {
     "iopub.execute_input": "2023-03-24T21:04:19.626805Z",
     "iopub.status.busy": "2023-03-24T21:04:19.626140Z",
     "iopub.status.idle": "2023-03-24T21:04:19.831524Z",
     "shell.execute_reply": "2023-03-24T21:04:19.830194Z"
    },
    "papermill": {
     "duration": 0.244803,
     "end_time": "2023-03-24T21:04:19.834158",
     "exception": false,
     "start_time": "2023-03-24T21:04:19.589355",
     "status": "completed"
    },
    "tags": []
   },
   "outputs": [
    {
     "data": {
      "image/png": "[encoded data removed]",
      "text/plain": [
       "<Figure size 640x480 with 1 Axes>"
      ]
     },
     "metadata": {},
     "output_type": "display_data"
    }
   ],
   "source": [
    "sns.boxplot(x=\"Location\", y=\"salary\", data=df)\n",
    "plt.show()"
   ]
  },
  {
   "cell_type": "markdown",
   "id": "d003320c",
   "metadata": {
    "papermill": {
     "duration": 0.036356,
     "end_time": "2023-03-24T21:04:19.905840",
     "exception": false,
     "start_time": "2023-03-24T21:04:19.869484",
     "status": "completed"
    },
    "tags": []
   },
   "source": [
    "### Verilerin Türkiye ve Yurtdışı Olarak Dağılımı Kutu Grafiği İle Gösterilmiştir. **Türkiye** ortalaması **24650 TL** ve **Yurtdışı** ortalaması **50900 TL**. Yurtdışı maaşlarının TL olarak daha yüksek olduğu görülmektedir."
   ]
  },
  {
   "cell_type": "code",
   "execution_count": 56,
   "id": "ee62b7b9",
   "metadata": {
    "execution": {
     "iopub.execute_input": "2023-03-24T21:04:19.978708Z",
     "iopub.status.busy": "2023-03-24T21:04:19.978290Z",
     "iopub.status.idle": "2023-03-24T21:04:19.994830Z",
     "shell.execute_reply": "2023-03-24T21:04:19.993612Z"
    },
    "papermill": {
     "duration": 0.055736,
     "end_time": "2023-03-24T21:04:19.997167",
     "exception": false,
     "start_time": "2023-03-24T21:04:19.941431",
     "status": "completed"
    },
    "tags": []
   },
   "outputs": [
    {
     "data": {
      "text/html": [
       "<div>\n",
       "<style scoped>\n",
       "    .dataframe tbody tr th:only-of-type {\n",
       "        vertical-align: middle;\n",
       "    }\n",
       "\n",
       "    .dataframe tbody tr th {\n",
       "        vertical-align: top;\n",
       "    }\n",
       "\n",
       "    .dataframe thead th {\n",
       "        text-align: right;\n",
       "    }\n",
       "</style>\n",
       "<table border=\"1\" class=\"dataframe\">\n",
       "  <thead>\n",
       "    <tr style=\"text-align: right;\">\n",
       "      <th></th>\n",
       "      <th>Experience</th>\n",
       "      <th>Count</th>\n",
       "      <th>Mean</th>\n",
       "    </tr>\n",
       "  </thead>\n",
       "  <tbody>\n",
       "    <tr>\n",
       "      <th>0</th>\n",
       "      <td>0-1 Yıl</td>\n",
       "      <td>268</td>\n",
       "      <td>14710.82</td>\n",
       "    </tr>\n",
       "    <tr>\n",
       "      <th>1</th>\n",
       "      <td>1-3 Yıl</td>\n",
       "      <td>438</td>\n",
       "      <td>23108.45</td>\n",
       "    </tr>\n",
       "    <tr>\n",
       "      <th>2</th>\n",
       "      <td>10+ Yıl</td>\n",
       "      <td>134</td>\n",
       "      <td>48376.87</td>\n",
       "    </tr>\n",
       "    <tr>\n",
       "      <th>3</th>\n",
       "      <td>4-6 Yıl</td>\n",
       "      <td>224</td>\n",
       "      <td>33430.80</td>\n",
       "    </tr>\n",
       "    <tr>\n",
       "      <th>4</th>\n",
       "      <td>7-9 Yıl</td>\n",
       "      <td>100</td>\n",
       "      <td>41055.00</td>\n",
       "    </tr>\n",
       "  </tbody>\n",
       "</table>\n",
       "</div>"
      ],
      "text/plain": [
       "  Experience  Count     Mean\n",
       "0    0-1 Yıl    268 14710.82\n",
       "1    1-3 Yıl    438 23108.45\n",
       "2    10+ Yıl    134 48376.87\n",
       "3    4-6 Yıl    224 33430.80\n",
       "4    7-9 Yıl    100 41055.00"
      ]
     },
     "execution_count": 56,
     "metadata": {},
     "output_type": "execute_result"
    }
   ],
   "source": [
    "df_temp_experience = create_count_mean_table(df, \"Experience\", \"salary\")\n",
    "df_temp_experience"
   ]
  },
  {
   "cell_type": "code",
   "execution_count": 57,
   "id": "399b5eae",
   "metadata": {
    "execution": {
     "iopub.execute_input": "2023-03-24T21:04:20.070611Z",
     "iopub.status.busy": "2023-03-24T21:04:20.069946Z",
     "iopub.status.idle": "2023-03-24T21:04:20.318986Z",
     "shell.execute_reply": "2023-03-24T21:04:20.317499Z"
    },
    "papermill": {
     "duration": 0.288165,
     "end_time": "2023-03-24T21:04:20.321765",
     "exception": false,
     "start_time": "2023-03-24T21:04:20.033600",
     "status": "completed"
    },
    "tags": []
   },
   "outputs": [
    {
     "data": {
      "image/png": "[encoded data removed]",
      "text/plain": [
       "<Figure size 640x480 with 1 Axes>"
      ]
     },
     "metadata": {},
     "output_type": "display_data"
    }
   ],
   "source": [
    "sns.boxplot(x=\"Experience\", y=\"salary\", data=df)\n",
    "plt.show()"
   ]
  },
  {
   "cell_type": "markdown",
   "id": "f6534a5d",
   "metadata": {
    "papermill": {
     "duration": 0.035722,
     "end_time": "2023-03-24T21:04:20.393897",
     "exception": false,
     "start_time": "2023-03-24T21:04:20.358175",
     "status": "completed"
    },
    "tags": []
   },
   "source": [
    "### Yukarıda Deneyime Göre Maaşların Ortalamasını Gösteren Kutu Grafiği Gösterilmiştir. **0-1 Yıl** deneyimli kişilerin maaşı **14700 TL**, **1-3 Yıl** deneyimli kişilerin maaşı **23100 TL**, **4-6 Yıl** deneyimli kişilerin maaşı **33400 TL**, **7-9 Yıl** deneyimli kişilerin maaşı **41000 TL** ve **10+** yıl deneyimli kişilerin maaşı **48300 TL** dir."
   ]
  },
  {
   "cell_type": "code",
   "execution_count": 58,
   "id": "c2e9844b",
   "metadata": {
    "execution": {
     "iopub.execute_input": "2023-03-24T21:04:20.467945Z",
     "iopub.status.busy": "2023-03-24T21:04:20.467184Z",
     "iopub.status.idle": "2023-03-24T21:04:20.481225Z",
     "shell.execute_reply": "2023-03-24T21:04:20.480295Z"
    },
    "papermill": {
     "duration": 0.053795,
     "end_time": "2023-03-24T21:04:20.483418",
     "exception": false,
     "start_time": "2023-03-24T21:04:20.429623",
     "status": "completed"
    },
    "tags": []
   },
   "outputs": [
    {
     "data": {
      "text/html": [
       "<div>\n",
       "<style scoped>\n",
       "    .dataframe tbody tr th:only-of-type {\n",
       "        vertical-align: middle;\n",
       "    }\n",
       "\n",
       "    .dataframe tbody tr th {\n",
       "        vertical-align: top;\n",
       "    }\n",
       "\n",
       "    .dataframe thead th {\n",
       "        text-align: right;\n",
       "    }\n",
       "</style>\n",
       "<table border=\"1\" class=\"dataframe\">\n",
       "  <thead>\n",
       "    <tr style=\"text-align: right;\">\n",
       "      <th></th>\n",
       "      <th>Way_of_working</th>\n",
       "      <th>Count</th>\n",
       "      <th>Mean</th>\n",
       "    </tr>\n",
       "  </thead>\n",
       "  <tbody>\n",
       "    <tr>\n",
       "      <th>0</th>\n",
       "      <td>Hybrid</td>\n",
       "      <td>341</td>\n",
       "      <td>27021.99</td>\n",
       "    </tr>\n",
       "    <tr>\n",
       "      <th>1</th>\n",
       "      <td>Ofis</td>\n",
       "      <td>223</td>\n",
       "      <td>21461.88</td>\n",
       "    </tr>\n",
       "    <tr>\n",
       "      <th>2</th>\n",
       "      <td>Remote</td>\n",
       "      <td>600</td>\n",
       "      <td>30233.33</td>\n",
       "    </tr>\n",
       "  </tbody>\n",
       "</table>\n",
       "</div>"
      ],
      "text/plain": [
       "  Way_of_working  Count     Mean\n",
       "0         Hybrid    341 27021.99\n",
       "1           Ofis    223 21461.88\n",
       "2         Remote    600 30233.33"
      ]
     },
     "execution_count": 58,
     "metadata": {},
     "output_type": "execute_result"
    }
   ],
   "source": [
    "df_temp_way_of_working = create_count_mean_table(df, \"Way_of_working\", \"salary\")\n",
    "df_temp_way_of_working"
   ]
  },
  {
   "cell_type": "code",
   "execution_count": 59,
   "id": "6da66790",
   "metadata": {
    "execution": {
     "iopub.execute_input": "2023-03-24T21:04:20.557978Z",
     "iopub.status.busy": "2023-03-24T21:04:20.556995Z",
     "iopub.status.idle": "2023-03-24T21:04:20.688628Z",
     "shell.execute_reply": "2023-03-24T21:04:20.687485Z"
    },
    "papermill": {
     "duration": 0.173305,
     "end_time": "2023-03-24T21:04:20.692697",
     "exception": false,
     "start_time": "2023-03-24T21:04:20.519392",
     "status": "completed"
    },
    "tags": []
   },
   "outputs": [
    {
     "data": {
      "image/png": "[encoded data removed]",
      "text/plain": [
       "<Figure size 640x480 with 1 Axes>"
      ]
     },
     "metadata": {},
     "output_type": "display_data"
    }
   ],
   "source": [
    "plt.pie(df[\"Way_of_working\"].value_counts(), labels=df[\"Way_of_working\"].value_counts().index, autopct='%1.1f%%')\n",
    "plt.title(\"Way of Working\")\n",
    "plt.show()"
   ]
  },
  {
   "cell_type": "markdown",
   "id": "76bb29bf",
   "metadata": {
    "papermill": {
     "duration": 0.03641,
     "end_time": "2023-03-24T21:04:20.798832",
     "exception": false,
     "start_time": "2023-03-24T21:04:20.762422",
     "status": "completed"
    },
    "tags": []
   },
   "source": [
    "### Çalışma şekillerinin dağılımı yukarıda gösterilmiştir. **Remote** çalışma şekli 600 gözlem, **Hybrid** çalışma şekli 341 gözlem ve **Ofis** çalışma şekli 223 gözlem içeriyor."
   ]
  },
  {
   "cell_type": "code",
   "execution_count": 60,
   "id": "0feb11f9",
   "metadata": {
    "execution": {
     "iopub.execute_input": "2023-03-24T21:04:20.873837Z",
     "iopub.status.busy": "2023-03-24T21:04:20.873438Z",
     "iopub.status.idle": "2023-03-24T21:04:21.096885Z",
     "shell.execute_reply": "2023-03-24T21:04:21.095710Z"
    },
    "papermill": {
     "duration": 0.263938,
     "end_time": "2023-03-24T21:04:21.099468",
     "exception": false,
     "start_time": "2023-03-24T21:04:20.835530",
     "status": "completed"
    },
    "tags": []
   },
   "outputs": [
    {
     "data": {
      "image/png": "[encoded data removed]",
      "text/plain": [
       "<Figure size 640x480 with 1 Axes>"
      ]
     },
     "metadata": {},
     "output_type": "display_data"
    }
   ],
   "source": [
    "sns.boxplot(x=\"Way_of_working\", y=\"salary\", data=df)\n",
    "plt.show()"
   ]
  },
  {
   "cell_type": "markdown",
   "id": "0eeaa6c8",
   "metadata": {
    "papermill": {
     "duration": 0.03659,
     "end_time": "2023-03-24T21:04:21.173301",
     "exception": false,
     "start_time": "2023-03-24T21:04:21.136711",
     "status": "completed"
    },
    "tags": []
   },
   "source": [
    "### Çalışma şekillerinin dağılımı kutu grafiği ile gösterilmiştir. **Remote** çalışma şekli ortalama **30200 TL**, **Hybrid** çalışma şekli ortalama **27000 TL** ve **Ofis** çalışma şekli ortalama **21400 TL** dir."
   ]
  },
  {
   "cell_type": "markdown",
   "id": "4cb3fa60",
   "metadata": {
    "papermill": {
     "duration": 0.036399,
     "end_time": "2023-03-24T21:04:21.247056",
     "exception": false,
     "start_time": "2023-03-24T21:04:21.210657",
     "status": "completed"
    },
    "tags": []
   },
   "source": [
    "## Seviye Bazlı Ortalama Maaşlar"
   ]
  },
  {
   "cell_type": "code",
   "execution_count": 61,
   "id": "156aa182",
   "metadata": {
    "execution": {
     "iopub.execute_input": "2023-03-24T21:04:21.391618Z",
     "iopub.status.busy": "2023-03-24T21:04:21.391237Z",
     "iopub.status.idle": "2023-03-24T21:04:21.396344Z",
     "shell.execute_reply": "2023-03-24T21:04:21.395322Z"
    },
    "papermill": {
     "duration": 0.114612,
     "end_time": "2023-03-24T21:04:21.398420",
     "exception": false,
     "start_time": "2023-03-24T21:04:21.283808",
     "status": "completed"
    },
    "tags": []
   },
   "outputs": [],
   "source": [
    "def create_location_salary_table(df, veriable):\n",
    "    return df[df[\"Level\"] == veriable].groupby(\"Location\").agg({\"salary\": [\"count\",\"mean\",\"std\", \"median\", \"min\", \"max\"]})"
   ]
  },
  {
   "cell_type": "code",
   "execution_count": 62,
   "id": "537929a6",
   "metadata": {
    "execution": {
     "iopub.execute_input": "2023-03-24T21:04:21.474368Z",
     "iopub.status.busy": "2023-03-24T21:04:21.473939Z",
     "iopub.status.idle": "2023-03-24T21:04:21.479752Z",
     "shell.execute_reply": "2023-03-24T21:04:21.478583Z"
    },
    "papermill": {
     "duration": 0.046467,
     "end_time": "2023-03-24T21:04:21.482038",
     "exception": false,
     "start_time": "2023-03-24T21:04:21.435571",
     "status": "completed"
    },
    "tags": []
   },
   "outputs": [],
   "source": [
    "def create_location_way_of_working_table(df, veriable):\n",
    "    return df[df[\"Level\"] == veriable].pivot_table(index=\"Location\", columns=\"Way_of_working\", values=\"salary\", aggfunc=[\"count\",\"mean\"])"
   ]
  },
  {
   "cell_type": "code",
   "execution_count": 63,
   "id": "103553b8",
   "metadata": {
    "execution": {
     "iopub.execute_input": "2023-03-24T21:04:21.558851Z",
     "iopub.status.busy": "2023-03-24T21:04:21.558420Z",
     "iopub.status.idle": "2023-03-24T21:04:21.564316Z",
     "shell.execute_reply": "2023-03-24T21:04:21.563388Z"
    },
    "papermill": {
     "duration": 0.046901,
     "end_time": "2023-03-24T21:04:21.566739",
     "exception": false,
     "start_time": "2023-03-24T21:04:21.519838",
     "status": "completed"
    },
    "tags": []
   },
   "outputs": [],
   "source": [
    "def plot_location_pie(data):\n",
    "    plt.pie(data[\"salary\"][\"count\"], labels=data.index, autopct='%1.1f%%')\n",
    "    plt.title(\"Location\")\n",
    "    plt.show()"
   ]
  },
  {
   "cell_type": "code",
   "execution_count": 64,
   "id": "8ecd81f1",
   "metadata": {
    "execution": {
     "iopub.execute_input": "2023-03-24T21:04:21.643004Z",
     "iopub.status.busy": "2023-03-24T21:04:21.642587Z",
     "iopub.status.idle": "2023-03-24T21:04:21.648540Z",
     "shell.execute_reply": "2023-03-24T21:04:21.647334Z"
    },
    "papermill": {
     "duration": 0.04703,
     "end_time": "2023-03-24T21:04:21.650964",
     "exception": false,
     "start_time": "2023-03-24T21:04:21.603934",
     "status": "completed"
    },
    "tags": []
   },
   "outputs": [],
   "source": [
    "def plot_location_box(df,veriable):\n",
    "    sns.boxplot(x=\"Location\", y=\"salary\", data=df[df[\"Level\"] == veriable])\n",
    "    plt.show()"
   ]
  },
  {
   "cell_type": "code",
   "execution_count": 65,
   "id": "7360648f",
   "metadata": {
    "execution": {
     "iopub.execute_input": "2023-03-24T21:04:21.728139Z",
     "iopub.status.busy": "2023-03-24T21:04:21.727363Z",
     "iopub.status.idle": "2023-03-24T21:04:21.735721Z",
     "shell.execute_reply": "2023-03-24T21:04:21.734397Z"
    },
    "papermill": {
     "duration": 0.049113,
     "end_time": "2023-03-24T21:04:21.737928",
     "exception": false,
     "start_time": "2023-03-24T21:04:21.688815",
     "status": "completed"
    },
    "tags": []
   },
   "outputs": [],
   "source": [
    "def plot_location_bar(data, label = False):\n",
    "    fig, axes = plt.subplots(nrows=1, ncols=2, figsize=(15,5))\n",
    "    data[\"count\"].plot.bar(ax=axes[0], title=\"Count\")\n",
    "    data[\"mean\"].plot.bar(ax=axes[1], title=\"Mean\")\n",
    "    for cont in axes[0].containers:\n",
    "        axes[0].bar_label(cont, fmt='%d', padding=1)\n",
    "    if label:\n",
    "        for ax in axes[1:]:\n",
    "            for cont in ax.containers:\n",
    "                ax.bar_label(cont, fmt='%d', padding=1)\n",
    "    plt.show()"
   ]
  },
  {
   "cell_type": "markdown",
   "id": "930f33eb",
   "metadata": {
    "papermill": {
     "duration": 0.03662,
     "end_time": "2023-03-24T21:04:21.811834",
     "exception": false,
     "start_time": "2023-03-24T21:04:21.775214",
     "status": "completed"
    },
    "tags": []
   },
   "source": [
    "## Junior"
   ]
  },
  {
   "cell_type": "code",
   "execution_count": 66,
   "id": "170efc98",
   "metadata": {
    "execution": {
     "iopub.execute_input": "2023-03-24T21:04:21.887957Z",
     "iopub.status.busy": "2023-03-24T21:04:21.887563Z",
     "iopub.status.idle": "2023-03-24T21:04:21.898491Z",
     "shell.execute_reply": "2023-03-24T21:04:21.897176Z"
    },
    "papermill": {
     "duration": 0.052197,
     "end_time": "2023-03-24T21:04:21.901132",
     "exception": false,
     "start_time": "2023-03-24T21:04:21.848935",
     "status": "completed"
    },
    "tags": []
   },
   "outputs": [],
   "source": [
    "junior_table = create_location_salary_table(df, \"Junior\")"
   ]
  },
  {
   "cell_type": "code",
   "execution_count": 67,
   "id": "92b30cbe",
   "metadata": {
    "execution": {
     "iopub.execute_input": "2023-03-24T21:04:21.978400Z",
     "iopub.status.busy": "2023-03-24T21:04:21.977979Z",
     "iopub.status.idle": "2023-03-24T21:04:21.991821Z",
     "shell.execute_reply": "2023-03-24T21:04:21.990535Z"
    },
    "papermill": {
     "duration": 0.055224,
     "end_time": "2023-03-24T21:04:21.994492",
     "exception": false,
     "start_time": "2023-03-24T21:04:21.939268",
     "status": "completed"
    },
    "tags": []
   },
   "outputs": [
    {
     "data": {
      "text/html": [
       "<div>\n",
       "<style scoped>\n",
       "    .dataframe tbody tr th:only-of-type {\n",
       "        vertical-align: middle;\n",
       "    }\n",
       "\n",
       "    .dataframe tbody tr th {\n",
       "        vertical-align: top;\n",
       "    }\n",
       "\n",
       "    .dataframe thead tr th {\n",
       "        text-align: left;\n",
       "    }\n",
       "\n",
       "    .dataframe thead tr:last-of-type th {\n",
       "        text-align: right;\n",
       "    }\n",
       "</style>\n",
       "<table border=\"1\" class=\"dataframe\">\n",
       "  <thead>\n",
       "    <tr>\n",
       "      <th></th>\n",
       "      <th colspan=\"6\" halign=\"left\">salary</th>\n",
       "    </tr>\n",
       "    <tr>\n",
       "      <th></th>\n",
       "      <th>count</th>\n",
       "      <th>mean</th>\n",
       "      <th>std</th>\n",
       "      <th>median</th>\n",
       "      <th>min</th>\n",
       "      <th>max</th>\n",
       "    </tr>\n",
       "    <tr>\n",
       "      <th>Location</th>\n",
       "      <th></th>\n",
       "      <th></th>\n",
       "      <th></th>\n",
       "      <th></th>\n",
       "      <th></th>\n",
       "      <th></th>\n",
       "    </tr>\n",
       "  </thead>\n",
       "  <tbody>\n",
       "    <tr>\n",
       "      <th>Türkiye</th>\n",
       "      <td>431</td>\n",
       "      <td>15435.03</td>\n",
       "      <td>7270.47</td>\n",
       "      <td>13000.00</td>\n",
       "      <td>7500.00</td>\n",
       "      <td>75500.00</td>\n",
       "    </tr>\n",
       "    <tr>\n",
       "      <th>Yurtdışı</th>\n",
       "      <td>38</td>\n",
       "      <td>34842.11</td>\n",
       "      <td>19412.00</td>\n",
       "      <td>30500.00</td>\n",
       "      <td>7500.00</td>\n",
       "      <td>75500.00</td>\n",
       "    </tr>\n",
       "  </tbody>\n",
       "</table>\n",
       "</div>"
      ],
      "text/plain": [
       "         salary                                            \n",
       "          count     mean      std   median     min      max\n",
       "Location                                                   \n",
       "Türkiye     431 15435.03  7270.47 13000.00 7500.00 75500.00\n",
       "Yurtdışı     38 34842.11 19412.00 30500.00 7500.00 75500.00"
      ]
     },
     "execution_count": 67,
     "metadata": {},
     "output_type": "execute_result"
    }
   ],
   "source": [
    "junior_table"
   ]
  },
  {
   "cell_type": "code",
   "execution_count": 68,
   "id": "b2dd5a0c",
   "metadata": {
    "execution": {
     "iopub.execute_input": "2023-03-24T21:04:22.071554Z",
     "iopub.status.busy": "2023-03-24T21:04:22.071155Z",
     "iopub.status.idle": "2023-03-24T21:04:22.192696Z",
     "shell.execute_reply": "2023-03-24T21:04:22.191211Z"
    },
    "papermill": {
     "duration": 0.164665,
     "end_time": "2023-03-24T21:04:22.196680",
     "exception": false,
     "start_time": "2023-03-24T21:04:22.032015",
     "status": "completed"
    },
    "tags": []
   },
   "outputs": [
    {
     "data": {
      "image/png": "[encoded data removed]",
      "text/plain": [
       "<Figure size 640x480 with 1 Axes>"
      ]
     },
     "metadata": {},
     "output_type": "display_data"
    }
   ],
   "source": [
    "plot_location_pie(junior_table)"
   ]
  },
  {
   "cell_type": "markdown",
   "id": "9a8301d2",
   "metadata": {
    "papermill": {
     "duration": 0.039627,
     "end_time": "2023-03-24T21:04:22.313058",
     "exception": false,
     "start_time": "2023-03-24T21:04:22.273431",
     "status": "completed"
    },
    "tags": []
   },
   "source": [
    "### Junior kategorisindeki verilerin dağılımı yukarıda gösterilmiştir. 469 adet gözlem bulunmaktadır."
   ]
  },
  {
   "cell_type": "code",
   "execution_count": 69,
   "id": "5df858fb",
   "metadata": {
    "execution": {
     "iopub.execute_input": "2023-03-24T21:04:22.395000Z",
     "iopub.status.busy": "2023-03-24T21:04:22.394574Z",
     "iopub.status.idle": "2023-03-24T21:04:22.616592Z",
     "shell.execute_reply": "2023-03-24T21:04:22.615126Z"
    },
    "papermill": {
     "duration": 0.265331,
     "end_time": "2023-03-24T21:04:22.619415",
     "exception": false,
     "start_time": "2023-03-24T21:04:22.354084",
     "status": "completed"
    },
    "tags": []
   },
   "outputs": [
    {
     "data": {
      "image/png": "[encoded data removed]",
      "text/plain": [
       "<Figure size 640x480 with 1 Axes>"
      ]
     },
     "metadata": {},
     "output_type": "display_data"
    }
   ],
   "source": [
    "plot_location_box(df, \"Junior\")"
   ]
  },
  {
   "cell_type": "markdown",
   "id": "4525bb5c",
   "metadata": {
    "papermill": {
     "duration": 0.041457,
     "end_time": "2023-03-24T21:04:22.700314",
     "exception": false,
     "start_time": "2023-03-24T21:04:22.658857",
     "status": "completed"
    },
    "tags": []
   },
   "source": [
    "### Kutu grafiği ile gösterilen verilerde **Junior** kategorisindeki maaşların dağılımı gösterilmiştir. Türkiye ortalaması **15.400 TL** ve yurtdışı ortalaması **34.800 TL** dir."
   ]
  },
  {
   "cell_type": "code",
   "execution_count": 70,
   "id": "f834793a",
   "metadata": {
    "execution": {
     "iopub.execute_input": "2023-03-24T21:04:22.779920Z",
     "iopub.status.busy": "2023-03-24T21:04:22.779475Z",
     "iopub.status.idle": "2023-03-24T21:04:23.294851Z",
     "shell.execute_reply": "2023-03-24T21:04:23.293405Z"
    },
    "papermill": {
     "duration": 0.558626,
     "end_time": "2023-03-24T21:04:23.298003",
     "exception": false,
     "start_time": "2023-03-24T21:04:22.739377",
     "status": "completed"
    },
    "tags": []
   },
   "outputs": [
    {
     "data": {
      "image/png": "[encoded data removed]",
      "text/plain": [
       "<Figure size 1500x500 with 2 Axes>"
      ]
     },
     "metadata": {},
     "output_type": "display_data"
    }
   ],
   "source": [
    "plot_location_bar(junior_table[\"salary\"], label=True)"
   ]
  },
  {
   "cell_type": "markdown",
   "id": "d2f7bb11",
   "metadata": {
    "papermill": {
     "duration": 0.038642,
     "end_time": "2023-03-24T21:04:23.376437",
     "exception": false,
     "start_time": "2023-03-24T21:04:23.337795",
     "status": "completed"
    },
    "tags": []
   },
   "source": [
    "### Junior Verileri Türkiye ve Yurtdışı Olarak Dağılımı Bar Grafiği İle Gösterilmiştir. **Türkiye** ortalaması **15400 TL** ve **Yurtdışı** ortalaması **34800 TL**. Yurtdışı maaşlarının TL olarak daha yüksek olduğu görülmektedir."
   ]
  },
  {
   "cell_type": "code",
   "execution_count": 71,
   "id": "4a29a169",
   "metadata": {
    "execution": {
     "iopub.execute_input": "2023-03-24T21:04:23.456393Z",
     "iopub.status.busy": "2023-03-24T21:04:23.455942Z",
     "iopub.status.idle": "2023-03-24T21:04:23.481691Z",
     "shell.execute_reply": "2023-03-24T21:04:23.480622Z"
    },
    "papermill": {
     "duration": 0.069094,
     "end_time": "2023-03-24T21:04:23.484356",
     "exception": false,
     "start_time": "2023-03-24T21:04:23.415262",
     "status": "completed"
    },
    "tags": []
   },
   "outputs": [],
   "source": [
    "junior_table2 = create_location_way_of_working_table(df, \"Junior\")"
   ]
  },
  {
   "cell_type": "code",
   "execution_count": 72,
   "id": "491cef82",
   "metadata": {
    "execution": {
     "iopub.execute_input": "2023-03-24T21:04:23.564338Z",
     "iopub.status.busy": "2023-03-24T21:04:23.563871Z",
     "iopub.status.idle": "2023-03-24T21:04:23.577338Z",
     "shell.execute_reply": "2023-03-24T21:04:23.576092Z"
    },
    "papermill": {
     "duration": 0.056287,
     "end_time": "2023-03-24T21:04:23.579650",
     "exception": false,
     "start_time": "2023-03-24T21:04:23.523363",
     "status": "completed"
    },
    "tags": []
   },
   "outputs": [
    {
     "data": {
      "text/html": [
       "<div>\n",
       "<style scoped>\n",
       "    .dataframe tbody tr th:only-of-type {\n",
       "        vertical-align: middle;\n",
       "    }\n",
       "\n",
       "    .dataframe tbody tr th {\n",
       "        vertical-align: top;\n",
       "    }\n",
       "\n",
       "    .dataframe thead tr th {\n",
       "        text-align: left;\n",
       "    }\n",
       "\n",
       "    .dataframe thead tr:last-of-type th {\n",
       "        text-align: right;\n",
       "    }\n",
       "</style>\n",
       "<table border=\"1\" class=\"dataframe\">\n",
       "  <thead>\n",
       "    <tr>\n",
       "      <th></th>\n",
       "      <th colspan=\"3\" halign=\"left\">count</th>\n",
       "      <th colspan=\"3\" halign=\"left\">mean</th>\n",
       "    </tr>\n",
       "    <tr>\n",
       "      <th>Way_of_working</th>\n",
       "      <th>Hybrid</th>\n",
       "      <th>Ofis</th>\n",
       "      <th>Remote</th>\n",
       "      <th>Hybrid</th>\n",
       "      <th>Ofis</th>\n",
       "      <th>Remote</th>\n",
       "    </tr>\n",
       "    <tr>\n",
       "      <th>Location</th>\n",
       "      <th></th>\n",
       "      <th></th>\n",
       "      <th></th>\n",
       "      <th></th>\n",
       "      <th></th>\n",
       "      <th></th>\n",
       "    </tr>\n",
       "  </thead>\n",
       "  <tbody>\n",
       "    <tr>\n",
       "      <th>Türkiye</th>\n",
       "      <td>129</td>\n",
       "      <td>111</td>\n",
       "      <td>191</td>\n",
       "      <td>15089.15</td>\n",
       "      <td>14283.78</td>\n",
       "      <td>16337.70</td>\n",
       "    </tr>\n",
       "    <tr>\n",
       "      <th>Yurtdışı</th>\n",
       "      <td>7</td>\n",
       "      <td>6</td>\n",
       "      <td>25</td>\n",
       "      <td>35142.86</td>\n",
       "      <td>30500.00</td>\n",
       "      <td>35800.00</td>\n",
       "    </tr>\n",
       "  </tbody>\n",
       "</table>\n",
       "</div>"
      ],
      "text/plain": [
       "                count                 mean                  \n",
       "Way_of_working Hybrid Ofis Remote   Hybrid     Ofis   Remote\n",
       "Location                                                    \n",
       "Türkiye           129  111    191 15089.15 14283.78 16337.70\n",
       "Yurtdışı            7    6     25 35142.86 30500.00 35800.00"
      ]
     },
     "execution_count": 72,
     "metadata": {},
     "output_type": "execute_result"
    }
   ],
   "source": [
    "junior_table2"
   ]
  },
  {
   "cell_type": "code",
   "execution_count": 73,
   "id": "9f881b47",
   "metadata": {
    "execution": {
     "iopub.execute_input": "2023-03-24T21:04:23.659621Z",
     "iopub.status.busy": "2023-03-24T21:04:23.659210Z",
     "iopub.status.idle": "2023-03-24T21:04:24.111918Z",
     "shell.execute_reply": "2023-03-24T21:04:24.110532Z"
    },
    "papermill": {
     "duration": 0.495557,
     "end_time": "2023-03-24T21:04:24.114462",
     "exception": false,
     "start_time": "2023-03-24T21:04:23.618905",
     "status": "completed"
    },
    "tags": []
   },
   "outputs": [
    {
     "data": {
      "image/png": "[encoded data removed]",
      "text/plain": [
       "<Figure size 1500x500 with 2 Axes>"
      ]
     },
     "metadata": {},
     "output_type": "display_data"
    }
   ],
   "source": [
    "plot_location_bar(junior_table2)"
   ]
  },
  {
   "cell_type": "markdown",
   "id": "645e4de0",
   "metadata": {
    "papermill": {
     "duration": 0.039181,
     "end_time": "2023-03-24T21:04:24.193440",
     "exception": false,
     "start_time": "2023-03-24T21:04:24.154259",
     "status": "completed"
    },
    "tags": []
   },
   "source": [
    "### Junior Level verileri çalışma şekillerine göre dağılımı bar grafiği ile gösterilmiştir."
   ]
  },
  {
   "cell_type": "code",
   "execution_count": 74,
   "id": "06c3a7be",
   "metadata": {
    "execution": {
     "iopub.execute_input": "2023-03-24T21:04:24.274597Z",
     "iopub.status.busy": "2023-03-24T21:04:24.274163Z",
     "iopub.status.idle": "2023-03-24T21:04:24.284108Z",
     "shell.execute_reply": "2023-03-24T21:04:24.283201Z"
    },
    "papermill": {
     "duration": 0.053296,
     "end_time": "2023-03-24T21:04:24.286508",
     "exception": false,
     "start_time": "2023-03-24T21:04:24.233212",
     "status": "completed"
    },
    "tags": []
   },
   "outputs": [],
   "source": [
    "jr_experience_table = df[df[\"Level\"] == \"Junior\"].groupby(\"Experience\").agg({\"salary\": [\"count\",\"mean\",\"std\", \"median\", \"min\", \"max\"]})"
   ]
  },
  {
   "cell_type": "code",
   "execution_count": 75,
   "id": "94d785c9",
   "metadata": {
    "execution": {
     "iopub.execute_input": "2023-03-24T21:04:24.368528Z",
     "iopub.status.busy": "2023-03-24T21:04:24.367770Z",
     "iopub.status.idle": "2023-03-24T21:04:24.381124Z",
     "shell.execute_reply": "2023-03-24T21:04:24.379832Z"
    },
    "papermill": {
     "duration": 0.057336,
     "end_time": "2023-03-24T21:04:24.383815",
     "exception": false,
     "start_time": "2023-03-24T21:04:24.326479",
     "status": "completed"
    },
    "tags": []
   },
   "outputs": [
    {
     "data": {
      "text/html": [
       "<div>\n",
       "<style scoped>\n",
       "    .dataframe tbody tr th:only-of-type {\n",
       "        vertical-align: middle;\n",
       "    }\n",
       "\n",
       "    .dataframe tbody tr th {\n",
       "        vertical-align: top;\n",
       "    }\n",
       "\n",
       "    .dataframe thead tr th {\n",
       "        text-align: left;\n",
       "    }\n",
       "\n",
       "    .dataframe thead tr:last-of-type th {\n",
       "        text-align: right;\n",
       "    }\n",
       "</style>\n",
       "<table border=\"1\" class=\"dataframe\">\n",
       "  <thead>\n",
       "    <tr>\n",
       "      <th></th>\n",
       "      <th colspan=\"6\" halign=\"left\">salary</th>\n",
       "    </tr>\n",
       "    <tr>\n",
       "      <th></th>\n",
       "      <th>count</th>\n",
       "      <th>mean</th>\n",
       "      <th>std</th>\n",
       "      <th>median</th>\n",
       "      <th>min</th>\n",
       "      <th>max</th>\n",
       "    </tr>\n",
       "    <tr>\n",
       "      <th>Experience</th>\n",
       "      <th></th>\n",
       "      <th></th>\n",
       "      <th></th>\n",
       "      <th></th>\n",
       "      <th></th>\n",
       "      <th></th>\n",
       "    </tr>\n",
       "  </thead>\n",
       "  <tbody>\n",
       "    <tr>\n",
       "      <th>0-1 Yıl</th>\n",
       "      <td>263</td>\n",
       "      <td>14612.17</td>\n",
       "      <td>8699.16</td>\n",
       "      <td>13000.00</td>\n",
       "      <td>7500.00</td>\n",
       "      <td>75500.00</td>\n",
       "    </tr>\n",
       "    <tr>\n",
       "      <th>1-3 Yıl</th>\n",
       "      <td>203</td>\n",
       "      <td>20049.26</td>\n",
       "      <td>11362.29</td>\n",
       "      <td>18000.00</td>\n",
       "      <td>7500.00</td>\n",
       "      <td>75500.00</td>\n",
       "    </tr>\n",
       "    <tr>\n",
       "      <th>10+ Yıl</th>\n",
       "      <td>1</td>\n",
       "      <td>38000.00</td>\n",
       "      <td>NaN</td>\n",
       "      <td>38000.00</td>\n",
       "      <td>38000.00</td>\n",
       "      <td>38000.00</td>\n",
       "    </tr>\n",
       "    <tr>\n",
       "      <th>4-6 Yıl</th>\n",
       "      <td>2</td>\n",
       "      <td>12750.00</td>\n",
       "      <td>7424.62</td>\n",
       "      <td>12750.00</td>\n",
       "      <td>7500.00</td>\n",
       "      <td>18000.00</td>\n",
       "    </tr>\n",
       "  </tbody>\n",
       "</table>\n",
       "</div>"
      ],
      "text/plain": [
       "           salary                                             \n",
       "            count     mean      std   median      min      max\n",
       "Experience                                                    \n",
       "0-1 Yıl       263 14612.17  8699.16 13000.00  7500.00 75500.00\n",
       "1-3 Yıl       203 20049.26 11362.29 18000.00  7500.00 75500.00\n",
       "10+ Yıl         1 38000.00      NaN 38000.00 38000.00 38000.00\n",
       "4-6 Yıl         2 12750.00  7424.62 12750.00  7500.00 18000.00"
      ]
     },
     "execution_count": 75,
     "metadata": {},
     "output_type": "execute_result"
    }
   ],
   "source": [
    "jr_experience_table"
   ]
  },
  {
   "cell_type": "code",
   "execution_count": 76,
   "id": "87284970",
   "metadata": {
    "execution": {
     "iopub.execute_input": "2023-03-24T21:04:24.469172Z",
     "iopub.status.busy": "2023-03-24T21:04:24.468721Z",
     "iopub.status.idle": "2023-03-24T21:04:24.831734Z",
     "shell.execute_reply": "2023-03-24T21:04:24.830520Z"
    },
    "papermill": {
     "duration": 0.410402,
     "end_time": "2023-03-24T21:04:24.834342",
     "exception": false,
     "start_time": "2023-03-24T21:04:24.423940",
     "status": "completed"
    },
    "tags": []
   },
   "outputs": [
    {
     "data": {
      "image/png": "[encoded data removed]",
      "text/plain": [
       "<Figure size 1500x500 with 2 Axes>"
      ]
     },
     "metadata": {},
     "output_type": "display_data"
    }
   ],
   "source": [
    "plot_location_bar(jr_experience_table[\"salary\"], label=True)"
   ]
  },
  {
   "cell_type": "markdown",
   "id": "fcb956dd",
   "metadata": {
    "papermill": {
     "duration": 0.041234,
     "end_time": "2023-03-24T21:04:24.916670",
     "exception": false,
     "start_time": "2023-03-24T21:04:24.875436",
     "status": "completed"
    },
    "tags": []
   },
   "source": [
    "### Junior Level verileri deneyime göre maaş dağılımı bar grafiği ile gösterilmiştir."
   ]
  },
  {
   "cell_type": "code",
   "execution_count": 77,
   "id": "731e2c0c",
   "metadata": {
    "execution": {
     "iopub.execute_input": "2023-03-24T21:04:25.019860Z",
     "iopub.status.busy": "2023-03-24T21:04:25.019421Z",
     "iopub.status.idle": "2023-03-24T21:04:25.043004Z",
     "shell.execute_reply": "2023-03-24T21:04:25.041914Z"
    },
    "papermill": {
     "duration": 0.070066,
     "end_time": "2023-03-24T21:04:25.045872",
     "exception": false,
     "start_time": "2023-03-24T21:04:24.975806",
     "status": "completed"
    },
    "tags": []
   },
   "outputs": [],
   "source": [
    "jr_experience_table2 = df[df[\"Level\"] == \"Junior\"].pivot_table(index=\"Experience\", columns=\"Way_of_working\", values=\"salary\", aggfunc=[\"count\",\"mean\"])"
   ]
  },
  {
   "cell_type": "code",
   "execution_count": 78,
   "id": "34c54867",
   "metadata": {
    "execution": {
     "iopub.execute_input": "2023-03-24T21:04:25.129143Z",
     "iopub.status.busy": "2023-03-24T21:04:25.128708Z",
     "iopub.status.idle": "2023-03-24T21:04:25.143201Z",
     "shell.execute_reply": "2023-03-24T21:04:25.142011Z"
    },
    "papermill": {
     "duration": 0.059331,
     "end_time": "2023-03-24T21:04:25.145762",
     "exception": false,
     "start_time": "2023-03-24T21:04:25.086431",
     "status": "completed"
    },
    "tags": []
   },
   "outputs": [
    {
     "data": {
      "text/html": [
       "<div>\n",
       "<style scoped>\n",
       "    .dataframe tbody tr th:only-of-type {\n",
       "        vertical-align: middle;\n",
       "    }\n",
       "\n",
       "    .dataframe tbody tr th {\n",
       "        vertical-align: top;\n",
       "    }\n",
       "\n",
       "    .dataframe thead tr th {\n",
       "        text-align: left;\n",
       "    }\n",
       "\n",
       "    .dataframe thead tr:last-of-type th {\n",
       "        text-align: right;\n",
       "    }\n",
       "</style>\n",
       "<table border=\"1\" class=\"dataframe\">\n",
       "  <thead>\n",
       "    <tr>\n",
       "      <th></th>\n",
       "      <th colspan=\"3\" halign=\"left\">count</th>\n",
       "      <th colspan=\"3\" halign=\"left\">mean</th>\n",
       "    </tr>\n",
       "    <tr>\n",
       "      <th>Way_of_working</th>\n",
       "      <th>Hybrid</th>\n",
       "      <th>Ofis</th>\n",
       "      <th>Remote</th>\n",
       "      <th>Hybrid</th>\n",
       "      <th>Ofis</th>\n",
       "      <th>Remote</th>\n",
       "    </tr>\n",
       "    <tr>\n",
       "      <th>Experience</th>\n",
       "      <th></th>\n",
       "      <th></th>\n",
       "      <th></th>\n",
       "      <th></th>\n",
       "      <th></th>\n",
       "      <th></th>\n",
       "    </tr>\n",
       "  </thead>\n",
       "  <tbody>\n",
       "    <tr>\n",
       "      <th>0-1 Yıl</th>\n",
       "      <td>77.00</td>\n",
       "      <td>80.00</td>\n",
       "      <td>106.00</td>\n",
       "      <td>14792.21</td>\n",
       "      <td>14062.50</td>\n",
       "      <td>14896.23</td>\n",
       "    </tr>\n",
       "    <tr>\n",
       "      <th>1-3 Yıl</th>\n",
       "      <td>59.00</td>\n",
       "      <td>35.00</td>\n",
       "      <td>109.00</td>\n",
       "      <td>17855.93</td>\n",
       "      <td>17657.14</td>\n",
       "      <td>22004.59</td>\n",
       "    </tr>\n",
       "    <tr>\n",
       "      <th>10+ Yıl</th>\n",
       "      <td>NaN</td>\n",
       "      <td>NaN</td>\n",
       "      <td>1.00</td>\n",
       "      <td>NaN</td>\n",
       "      <td>NaN</td>\n",
       "      <td>38000.00</td>\n",
       "    </tr>\n",
       "    <tr>\n",
       "      <th>4-6 Yıl</th>\n",
       "      <td>NaN</td>\n",
       "      <td>2.00</td>\n",
       "      <td>NaN</td>\n",
       "      <td>NaN</td>\n",
       "      <td>12750.00</td>\n",
       "      <td>NaN</td>\n",
       "    </tr>\n",
       "  </tbody>\n",
       "</table>\n",
       "</div>"
      ],
      "text/plain": [
       "                count                  mean                  \n",
       "Way_of_working Hybrid  Ofis Remote   Hybrid     Ofis   Remote\n",
       "Experience                                                   \n",
       "0-1 Yıl         77.00 80.00 106.00 14792.21 14062.50 14896.23\n",
       "1-3 Yıl         59.00 35.00 109.00 17855.93 17657.14 22004.59\n",
       "10+ Yıl           NaN   NaN   1.00      NaN      NaN 38000.00\n",
       "4-6 Yıl           NaN  2.00    NaN      NaN 12750.00      NaN"
      ]
     },
     "execution_count": 78,
     "metadata": {},
     "output_type": "execute_result"
    }
   ],
   "source": [
    "jr_experience_table2"
   ]
  },
  {
   "cell_type": "code",
   "execution_count": 79,
   "id": "58d5941a",
   "metadata": {
    "execution": {
     "iopub.execute_input": "2023-03-24T21:04:25.229848Z",
     "iopub.status.busy": "2023-03-24T21:04:25.229071Z",
     "iopub.status.idle": "2023-03-24T21:04:25.686549Z",
     "shell.execute_reply": "2023-03-24T21:04:25.685689Z"
    },
    "papermill": {
     "duration": 0.502133,
     "end_time": "2023-03-24T21:04:25.688712",
     "exception": false,
     "start_time": "2023-03-24T21:04:25.186579",
     "status": "completed"
    },
    "tags": []
   },
   "outputs": [
    {
     "data": {
      "image/png": "[encoded data removed]",
      "text/plain": [
       "<Figure size 1500x500 with 2 Axes>"
      ]
     },
     "metadata": {},
     "output_type": "display_data"
    }
   ],
   "source": [
    "plot_location_bar(jr_experience_table2)"
   ]
  },
  {
   "cell_type": "markdown",
   "id": "4fcfe027",
   "metadata": {
    "papermill": {
     "duration": 0.042062,
     "end_time": "2023-03-24T21:04:25.775246",
     "exception": false,
     "start_time": "2023-03-24T21:04:25.733184",
     "status": "completed"
    },
    "tags": []
   },
   "source": [
    "### Junior Level Verileri Deneyime Göre ve Çalışma Şekline Göre Dağılımı Bar Grafiği İle Gösterilmiştir."
   ]
  },
  {
   "cell_type": "markdown",
   "id": "ceb5ca16",
   "metadata": {
    "papermill": {
     "duration": 0.042669,
     "end_time": "2023-03-24T21:04:25.860306",
     "exception": false,
     "start_time": "2023-03-24T21:04:25.817637",
     "status": "completed"
    },
    "tags": []
   },
   "source": [
    "## Mid"
   ]
  },
  {
   "cell_type": "code",
   "execution_count": 80,
   "id": "0b90d5d1",
   "metadata": {
    "execution": {
     "iopub.execute_input": "2023-03-24T21:04:25.950347Z",
     "iopub.status.busy": "2023-03-24T21:04:25.949660Z",
     "iopub.status.idle": "2023-03-24T21:04:25.959155Z",
     "shell.execute_reply": "2023-03-24T21:04:25.958119Z"
    },
    "papermill": {
     "duration": 0.057641,
     "end_time": "2023-03-24T21:04:25.961720",
     "exception": false,
     "start_time": "2023-03-24T21:04:25.904079",
     "status": "completed"
    },
    "tags": []
   },
   "outputs": [],
   "source": [
    "mid_table = create_location_salary_table(df, \"Mid\")"
   ]
  },
  {
   "cell_type": "code",
   "execution_count": 81,
   "id": "1ed765a0",
   "metadata": {
    "execution": {
     "iopub.execute_input": "2023-03-24T21:04:26.048096Z",
     "iopub.status.busy": "2023-03-24T21:04:26.047390Z",
     "iopub.status.idle": "2023-03-24T21:04:26.059900Z",
     "shell.execute_reply": "2023-03-24T21:04:26.058765Z"
    },
    "papermill": {
     "duration": 0.058376,
     "end_time": "2023-03-24T21:04:26.062360",
     "exception": false,
     "start_time": "2023-03-24T21:04:26.003984",
     "status": "completed"
    },
    "tags": []
   },
   "outputs": [
    {
     "data": {
      "text/html": [
       "<div>\n",
       "<style scoped>\n",
       "    .dataframe tbody tr th:only-of-type {\n",
       "        vertical-align: middle;\n",
       "    }\n",
       "\n",
       "    .dataframe tbody tr th {\n",
       "        vertical-align: top;\n",
       "    }\n",
       "\n",
       "    .dataframe thead tr th {\n",
       "        text-align: left;\n",
       "    }\n",
       "\n",
       "    .dataframe thead tr:last-of-type th {\n",
       "        text-align: right;\n",
       "    }\n",
       "</style>\n",
       "<table border=\"1\" class=\"dataframe\">\n",
       "  <thead>\n",
       "    <tr>\n",
       "      <th></th>\n",
       "      <th colspan=\"6\" halign=\"left\">salary</th>\n",
       "    </tr>\n",
       "    <tr>\n",
       "      <th></th>\n",
       "      <th>count</th>\n",
       "      <th>mean</th>\n",
       "      <th>std</th>\n",
       "      <th>median</th>\n",
       "      <th>min</th>\n",
       "      <th>max</th>\n",
       "    </tr>\n",
       "    <tr>\n",
       "      <th>Location</th>\n",
       "      <th></th>\n",
       "      <th></th>\n",
       "      <th></th>\n",
       "      <th></th>\n",
       "      <th></th>\n",
       "      <th></th>\n",
       "    </tr>\n",
       "  </thead>\n",
       "  <tbody>\n",
       "    <tr>\n",
       "      <th>Türkiye</th>\n",
       "      <td>350</td>\n",
       "      <td>25632.86</td>\n",
       "      <td>10663.93</td>\n",
       "      <td>23000.00</td>\n",
       "      <td>7500.00</td>\n",
       "      <td>85500.00</td>\n",
       "    </tr>\n",
       "    <tr>\n",
       "      <th>Yurtdışı</th>\n",
       "      <td>34</td>\n",
       "      <td>46779.41</td>\n",
       "      <td>21353.16</td>\n",
       "      <td>48000.00</td>\n",
       "      <td>13000.00</td>\n",
       "      <td>85500.00</td>\n",
       "    </tr>\n",
       "  </tbody>\n",
       "</table>\n",
       "</div>"
      ],
      "text/plain": [
       "         salary                                             \n",
       "          count     mean      std   median      min      max\n",
       "Location                                                    \n",
       "Türkiye     350 25632.86 10663.93 23000.00  7500.00 85500.00\n",
       "Yurtdışı     34 46779.41 21353.16 48000.00 13000.00 85500.00"
      ]
     },
     "execution_count": 81,
     "metadata": {},
     "output_type": "execute_result"
    }
   ],
   "source": [
    "mid_table"
   ]
  },
  {
   "cell_type": "code",
   "execution_count": 82,
   "id": "392169e2",
   "metadata": {
    "execution": {
     "iopub.execute_input": "2023-03-24T21:04:26.148933Z",
     "iopub.status.busy": "2023-03-24T21:04:26.147848Z",
     "iopub.status.idle": "2023-03-24T21:04:26.265280Z",
     "shell.execute_reply": "2023-03-24T21:04:26.263547Z"
    },
    "papermill": {
     "duration": 0.165355,
     "end_time": "2023-03-24T21:04:26.269688",
     "exception": false,
     "start_time": "2023-03-24T21:04:26.104333",
     "status": "completed"
    },
    "tags": []
   },
   "outputs": [
    {
     "data": {
      "image/png": "[encoded data removed]",
      "text/plain": [
       "<Figure size 640x480 with 1 Axes>"
      ]
     },
     "metadata": {},
     "output_type": "display_data"
    }
   ],
   "source": [
    "plot_location_pie(mid_table)"
   ]
  },
  {
   "cell_type": "markdown",
   "id": "ca4b4815",
   "metadata": {
    "papermill": {
     "duration": 0.042544,
     "end_time": "2023-03-24T21:04:26.392902",
     "exception": false,
     "start_time": "2023-03-24T21:04:26.350358",
     "status": "completed"
    },
    "tags": []
   },
   "source": [
    "### Mid kategorisindeki verilerin dağılımı yukarıda gösterilmiştir. 384 adet gözlem bulunmaktadır."
   ]
  },
  {
   "cell_type": "code",
   "execution_count": 83,
   "id": "77071a3f",
   "metadata": {
    "execution": {
     "iopub.execute_input": "2023-03-24T21:04:26.481705Z",
     "iopub.status.busy": "2023-03-24T21:04:26.480539Z",
     "iopub.status.idle": "2023-03-24T21:04:26.688564Z",
     "shell.execute_reply": "2023-03-24T21:04:26.687210Z"
    },
    "papermill": {
     "duration": 0.254833,
     "end_time": "2023-03-24T21:04:26.691232",
     "exception": false,
     "start_time": "2023-03-24T21:04:26.436399",
     "status": "completed"
    },
    "tags": []
   },
   "outputs": [
    {
     "data": {
      "image/png": "[encoded data removed]",
      "text/plain": [
       "<Figure size 640x480 with 1 Axes>"
      ]
     },
     "metadata": {},
     "output_type": "display_data"
    }
   ],
   "source": [
    "plot_location_box(df, \"Mid\")"
   ]
  },
  {
   "cell_type": "markdown",
   "id": "3c9cdf0d",
   "metadata": {
    "papermill": {
     "duration": 0.043423,
     "end_time": "2023-03-24T21:04:26.778328",
     "exception": false,
     "start_time": "2023-03-24T21:04:26.734905",
     "status": "completed"
    },
    "tags": []
   },
   "source": [
    "### Kutu grafiği ile gösterilen verilerde **Mid Level** kategorisindeki maaşların dağılımı gösterilmiştir. Türkiye ortalaması **25.600 TL** ve yurtdışı ortalaması **46.700 TL** dir."
   ]
  },
  {
   "cell_type": "code",
   "execution_count": 84,
   "id": "12167701",
   "metadata": {
    "execution": {
     "iopub.execute_input": "2023-03-24T21:04:26.869145Z",
     "iopub.status.busy": "2023-03-24T21:04:26.868534Z",
     "iopub.status.idle": "2023-03-24T21:04:27.188515Z",
     "shell.execute_reply": "2023-03-24T21:04:27.187281Z"
    },
    "papermill": {
     "duration": 0.368409,
     "end_time": "2023-03-24T21:04:27.190753",
     "exception": false,
     "start_time": "2023-03-24T21:04:26.822344",
     "status": "completed"
    },
    "tags": []
   },
   "outputs": [
    {
     "data": {
      "image/png": "[encoded data removed]",
      "text/plain": [
       "<Figure size 1500x500 with 2 Axes>"
      ]
     },
     "metadata": {},
     "output_type": "display_data"
    }
   ],
   "source": [
    "plot_location_bar(mid_table[\"salary\"], label=True)"
   ]
  },
  {
   "cell_type": "markdown",
   "id": "d7c50380",
   "metadata": {
    "papermill": {
     "duration": 0.044423,
     "end_time": "2023-03-24T21:04:27.279010",
     "exception": false,
     "start_time": "2023-03-24T21:04:27.234587",
     "status": "completed"
    },
    "tags": []
   },
   "source": [
    "### Mid Level Verilerinin Türkiye ve Yurtdışı Olarak Dağılımı Bar Grafiği İle Gösterilmiştir. **Türkiye** ortalaması **25600 TL** ve **Yurtdışı** ortalaması **46700 TL**. Yurtdışı maaşlarının TL olarak daha yüksek olduğu görülmektedir."
   ]
  },
  {
   "cell_type": "code",
   "execution_count": 85,
   "id": "caf870d5",
   "metadata": {
    "execution": {
     "iopub.execute_input": "2023-03-24T21:04:27.370006Z",
     "iopub.status.busy": "2023-03-24T21:04:27.369309Z",
     "iopub.status.idle": "2023-03-24T21:04:27.390627Z",
     "shell.execute_reply": "2023-03-24T21:04:27.389265Z"
    },
    "papermill": {
     "duration": 0.070285,
     "end_time": "2023-03-24T21:04:27.393519",
     "exception": false,
     "start_time": "2023-03-24T21:04:27.323234",
     "status": "completed"
    },
    "tags": []
   },
   "outputs": [],
   "source": [
    "mid_table2 = create_location_way_of_working_table(df, \"Mid\")"
   ]
  },
  {
   "cell_type": "code",
   "execution_count": 86,
   "id": "8bee85ea",
   "metadata": {
    "execution": {
     "iopub.execute_input": "2023-03-24T21:04:27.485631Z",
     "iopub.status.busy": "2023-03-24T21:04:27.484327Z",
     "iopub.status.idle": "2023-03-24T21:04:27.497733Z",
     "shell.execute_reply": "2023-03-24T21:04:27.496600Z"
    },
    "papermill": {
     "duration": 0.0622,
     "end_time": "2023-03-24T21:04:27.500130",
     "exception": false,
     "start_time": "2023-03-24T21:04:27.437930",
     "status": "completed"
    },
    "tags": []
   },
   "outputs": [
    {
     "data": {
      "text/html": [
       "<div>\n",
       "<style scoped>\n",
       "    .dataframe tbody tr th:only-of-type {\n",
       "        vertical-align: middle;\n",
       "    }\n",
       "\n",
       "    .dataframe tbody tr th {\n",
       "        vertical-align: top;\n",
       "    }\n",
       "\n",
       "    .dataframe thead tr th {\n",
       "        text-align: left;\n",
       "    }\n",
       "\n",
       "    .dataframe thead tr:last-of-type th {\n",
       "        text-align: right;\n",
       "    }\n",
       "</style>\n",
       "<table border=\"1\" class=\"dataframe\">\n",
       "  <thead>\n",
       "    <tr>\n",
       "      <th></th>\n",
       "      <th colspan=\"3\" halign=\"left\">count</th>\n",
       "      <th colspan=\"3\" halign=\"left\">mean</th>\n",
       "    </tr>\n",
       "    <tr>\n",
       "      <th>Way_of_working</th>\n",
       "      <th>Hybrid</th>\n",
       "      <th>Ofis</th>\n",
       "      <th>Remote</th>\n",
       "      <th>Hybrid</th>\n",
       "      <th>Ofis</th>\n",
       "      <th>Remote</th>\n",
       "    </tr>\n",
       "    <tr>\n",
       "      <th>Location</th>\n",
       "      <th></th>\n",
       "      <th></th>\n",
       "      <th></th>\n",
       "      <th></th>\n",
       "      <th></th>\n",
       "      <th></th>\n",
       "    </tr>\n",
       "  </thead>\n",
       "  <tbody>\n",
       "    <tr>\n",
       "      <th>Türkiye</th>\n",
       "      <td>112</td>\n",
       "      <td>49</td>\n",
       "      <td>189</td>\n",
       "      <td>25589.29</td>\n",
       "      <td>21234.69</td>\n",
       "      <td>26798.94</td>\n",
       "    </tr>\n",
       "    <tr>\n",
       "      <th>Yurtdışı</th>\n",
       "      <td>6</td>\n",
       "      <td>2</td>\n",
       "      <td>26</td>\n",
       "      <td>54833.33</td>\n",
       "      <td>34250.00</td>\n",
       "      <td>45884.62</td>\n",
       "    </tr>\n",
       "  </tbody>\n",
       "</table>\n",
       "</div>"
      ],
      "text/plain": [
       "                count                 mean                  \n",
       "Way_of_working Hybrid Ofis Remote   Hybrid     Ofis   Remote\n",
       "Location                                                    \n",
       "Türkiye           112   49    189 25589.29 21234.69 26798.94\n",
       "Yurtdışı            6    2     26 54833.33 34250.00 45884.62"
      ]
     },
     "execution_count": 86,
     "metadata": {},
     "output_type": "execute_result"
    }
   ],
   "source": [
    "mid_table2"
   ]
  },
  {
   "cell_type": "code",
   "execution_count": 87,
   "id": "d1ffacd3",
   "metadata": {
    "execution": {
     "iopub.execute_input": "2023-03-24T21:04:27.589116Z",
     "iopub.status.busy": "2023-03-24T21:04:27.588682Z",
     "iopub.status.idle": "2023-03-24T21:04:27.998049Z",
     "shell.execute_reply": "2023-03-24T21:04:27.996811Z"
    },
    "papermill": {
     "duration": 0.457184,
     "end_time": "2023-03-24T21:04:28.000838",
     "exception": false,
     "start_time": "2023-03-24T21:04:27.543654",
     "status": "completed"
    },
    "tags": []
   },
   "outputs": [
    {
     "data": {
      "image/png": "[encoded data removed]",
      "text/plain": [
       "<Figure size 1500x500 with 2 Axes>"
      ]
     },
     "metadata": {},
     "output_type": "display_data"
    }
   ],
   "source": [
    "plot_location_bar(mid_table2)"
   ]
  },
  {
   "cell_type": "markdown",
   "id": "43127b0c",
   "metadata": {
    "papermill": {
     "duration": 0.048319,
     "end_time": "2023-03-24T21:04:28.095216",
     "exception": false,
     "start_time": "2023-03-24T21:04:28.046897",
     "status": "completed"
    },
    "tags": []
   },
   "source": [
    "### Mid Level verileri çalışma şekillerine göre dağılımı bar grafiği ile gösterilmiştir."
   ]
  },
  {
   "cell_type": "code",
   "execution_count": 88,
   "id": "f775257d",
   "metadata": {
    "execution": {
     "iopub.execute_input": "2023-03-24T21:04:28.185857Z",
     "iopub.status.busy": "2023-03-24T21:04:28.185467Z",
     "iopub.status.idle": "2023-03-24T21:04:28.196765Z",
     "shell.execute_reply": "2023-03-24T21:04:28.195733Z"
    },
    "papermill": {
     "duration": 0.059855,
     "end_time": "2023-03-24T21:04:28.199325",
     "exception": false,
     "start_time": "2023-03-24T21:04:28.139470",
     "status": "completed"
    },
    "tags": []
   },
   "outputs": [],
   "source": [
    "mid_experience_table = df[df[\"Level\"] == \"Mid\"].groupby(\"Experience\").agg({\"salary\": [\"count\",\"mean\",\"std\", \"median\", \"min\", \"max\"]})"
   ]
  },
  {
   "cell_type": "code",
   "execution_count": 89,
   "id": "721039a9",
   "metadata": {
    "execution": {
     "iopub.execute_input": "2023-03-24T21:04:28.291529Z",
     "iopub.status.busy": "2023-03-24T21:04:28.290328Z",
     "iopub.status.idle": "2023-03-24T21:04:28.305963Z",
     "shell.execute_reply": "2023-03-24T21:04:28.304638Z"
    },
    "papermill": {
     "duration": 0.063989,
     "end_time": "2023-03-24T21:04:28.308508",
     "exception": false,
     "start_time": "2023-03-24T21:04:28.244519",
     "status": "completed"
    },
    "tags": []
   },
   "outputs": [
    {
     "data": {
      "text/html": [
       "<div>\n",
       "<style scoped>\n",
       "    .dataframe tbody tr th:only-of-type {\n",
       "        vertical-align: middle;\n",
       "    }\n",
       "\n",
       "    .dataframe tbody tr th {\n",
       "        vertical-align: top;\n",
       "    }\n",
       "\n",
       "    .dataframe thead tr th {\n",
       "        text-align: left;\n",
       "    }\n",
       "\n",
       "    .dataframe thead tr:last-of-type th {\n",
       "        text-align: right;\n",
       "    }\n",
       "</style>\n",
       "<table border=\"1\" class=\"dataframe\">\n",
       "  <thead>\n",
       "    <tr>\n",
       "      <th></th>\n",
       "      <th colspan=\"6\" halign=\"left\">salary</th>\n",
       "    </tr>\n",
       "    <tr>\n",
       "      <th></th>\n",
       "      <th>count</th>\n",
       "      <th>mean</th>\n",
       "      <th>std</th>\n",
       "      <th>median</th>\n",
       "      <th>min</th>\n",
       "      <th>max</th>\n",
       "    </tr>\n",
       "    <tr>\n",
       "      <th>Experience</th>\n",
       "      <th></th>\n",
       "      <th></th>\n",
       "      <th></th>\n",
       "      <th></th>\n",
       "      <th></th>\n",
       "      <th></th>\n",
       "    </tr>\n",
       "  </thead>\n",
       "  <tbody>\n",
       "    <tr>\n",
       "      <th>0-1 Yıl</th>\n",
       "      <td>5</td>\n",
       "      <td>19900.00</td>\n",
       "      <td>10514.28</td>\n",
       "      <td>18000.00</td>\n",
       "      <td>7500.00</td>\n",
       "      <td>33000.00</td>\n",
       "    </tr>\n",
       "    <tr>\n",
       "      <th>1-3 Yıl</th>\n",
       "      <td>226</td>\n",
       "      <td>25207.96</td>\n",
       "      <td>11550.90</td>\n",
       "      <td>23000.00</td>\n",
       "      <td>7500.00</td>\n",
       "      <td>85500.00</td>\n",
       "    </tr>\n",
       "    <tr>\n",
       "      <th>10+ Yıl</th>\n",
       "      <td>4</td>\n",
       "      <td>47375.00</td>\n",
       "      <td>29465.73</td>\n",
       "      <td>50500.00</td>\n",
       "      <td>13000.00</td>\n",
       "      <td>75500.00</td>\n",
       "    </tr>\n",
       "    <tr>\n",
       "      <th>4-6 Yıl</th>\n",
       "      <td>139</td>\n",
       "      <td>30348.92</td>\n",
       "      <td>14117.73</td>\n",
       "      <td>28000.00</td>\n",
       "      <td>7500.00</td>\n",
       "      <td>85500.00</td>\n",
       "    </tr>\n",
       "    <tr>\n",
       "      <th>7-9 Yıl</th>\n",
       "      <td>10</td>\n",
       "      <td>35750.00</td>\n",
       "      <td>18724.98</td>\n",
       "      <td>30500.00</td>\n",
       "      <td>18000.00</td>\n",
       "      <td>75500.00</td>\n",
       "    </tr>\n",
       "  </tbody>\n",
       "</table>\n",
       "</div>"
      ],
      "text/plain": [
       "           salary                                             \n",
       "            count     mean      std   median      min      max\n",
       "Experience                                                    \n",
       "0-1 Yıl         5 19900.00 10514.28 18000.00  7500.00 33000.00\n",
       "1-3 Yıl       226 25207.96 11550.90 23000.00  7500.00 85500.00\n",
       "10+ Yıl         4 47375.00 29465.73 50500.00 13000.00 75500.00\n",
       "4-6 Yıl       139 30348.92 14117.73 28000.00  7500.00 85500.00\n",
       "7-9 Yıl        10 35750.00 18724.98 30500.00 18000.00 75500.00"
      ]
     },
     "execution_count": 89,
     "metadata": {},
     "output_type": "execute_result"
    }
   ],
   "source": [
    "mid_experience_table"
   ]
  },
  {
   "cell_type": "code",
   "execution_count": 90,
   "id": "eea372b6",
   "metadata": {
    "execution": {
     "iopub.execute_input": "2023-03-24T21:04:28.400624Z",
     "iopub.status.busy": "2023-03-24T21:04:28.399374Z",
     "iopub.status.idle": "2023-03-24T21:04:28.756206Z",
     "shell.execute_reply": "2023-03-24T21:04:28.754836Z"
    },
    "papermill": {
     "duration": 0.40521,
     "end_time": "2023-03-24T21:04:28.758789",
     "exception": false,
     "start_time": "2023-03-24T21:04:28.353579",
     "status": "completed"
    },
    "tags": []
   },
   "outputs": [
    {
     "data": {
      "image/png": "[encoded data removed]",
      "text/plain": [
       "<Figure size 1500x500 with 2 Axes>"
      ]
     },
     "metadata": {},
     "output_type": "display_data"
    }
   ],
   "source": [
    "plot_location_bar(mid_experience_table[\"salary\"], label=True)"
   ]
  },
  {
   "cell_type": "markdown",
   "id": "73bd8df6",
   "metadata": {
    "papermill": {
     "duration": 0.044549,
     "end_time": "2023-03-24T21:04:28.849515",
     "exception": false,
     "start_time": "2023-03-24T21:04:28.804966",
     "status": "completed"
    },
    "tags": []
   },
   "source": [
    "### Mid Level verileri deneyime göre maaş dağılımı bar grafiği ile gösterilmiştir."
   ]
  },
  {
   "cell_type": "code",
   "execution_count": 91,
   "id": "44f89b12",
   "metadata": {
    "execution": {
     "iopub.execute_input": "2023-03-24T21:04:28.944010Z",
     "iopub.status.busy": "2023-03-24T21:04:28.942950Z",
     "iopub.status.idle": "2023-03-24T21:04:28.966285Z",
     "shell.execute_reply": "2023-03-24T21:04:28.964944Z"
    },
    "papermill": {
     "duration": 0.074076,
     "end_time": "2023-03-24T21:04:28.968969",
     "exception": false,
     "start_time": "2023-03-24T21:04:28.894893",
     "status": "completed"
    },
    "tags": []
   },
   "outputs": [],
   "source": [
    "mid_experience_table2 = df[df[\"Level\"] == \"Mid\"].pivot_table(index=\"Experience\", columns=\"Way_of_working\", values=\"salary\", aggfunc=[\"count\",\"mean\"])"
   ]
  },
  {
   "cell_type": "code",
   "execution_count": 92,
   "id": "d9feee46",
   "metadata": {
    "execution": {
     "iopub.execute_input": "2023-03-24T21:04:29.061042Z",
     "iopub.status.busy": "2023-03-24T21:04:29.060595Z",
     "iopub.status.idle": "2023-03-24T21:04:29.075267Z",
     "shell.execute_reply": "2023-03-24T21:04:29.074058Z"
    },
    "papermill": {
     "duration": 0.063465,
     "end_time": "2023-03-24T21:04:29.077564",
     "exception": false,
     "start_time": "2023-03-24T21:04:29.014099",
     "status": "completed"
    },
    "tags": []
   },
   "outputs": [
    {
     "data": {
      "text/html": [
       "<div>\n",
       "<style scoped>\n",
       "    .dataframe tbody tr th:only-of-type {\n",
       "        vertical-align: middle;\n",
       "    }\n",
       "\n",
       "    .dataframe tbody tr th {\n",
       "        vertical-align: top;\n",
       "    }\n",
       "\n",
       "    .dataframe thead tr th {\n",
       "        text-align: left;\n",
       "    }\n",
       "\n",
       "    .dataframe thead tr:last-of-type th {\n",
       "        text-align: right;\n",
       "    }\n",
       "</style>\n",
       "<table border=\"1\" class=\"dataframe\">\n",
       "  <thead>\n",
       "    <tr>\n",
       "      <th></th>\n",
       "      <th colspan=\"3\" halign=\"left\">count</th>\n",
       "      <th colspan=\"3\" halign=\"left\">mean</th>\n",
       "    </tr>\n",
       "    <tr>\n",
       "      <th>Way_of_working</th>\n",
       "      <th>Hybrid</th>\n",
       "      <th>Ofis</th>\n",
       "      <th>Remote</th>\n",
       "      <th>Hybrid</th>\n",
       "      <th>Ofis</th>\n",
       "      <th>Remote</th>\n",
       "    </tr>\n",
       "    <tr>\n",
       "      <th>Experience</th>\n",
       "      <th></th>\n",
       "      <th></th>\n",
       "      <th></th>\n",
       "      <th></th>\n",
       "      <th></th>\n",
       "      <th></th>\n",
       "    </tr>\n",
       "  </thead>\n",
       "  <tbody>\n",
       "    <tr>\n",
       "      <th>0-1 Yıl</th>\n",
       "      <td>2.00</td>\n",
       "      <td>NaN</td>\n",
       "      <td>3.00</td>\n",
       "      <td>23000.00</td>\n",
       "      <td>NaN</td>\n",
       "      <td>17833.33</td>\n",
       "    </tr>\n",
       "    <tr>\n",
       "      <th>1-3 Yıl</th>\n",
       "      <td>72.00</td>\n",
       "      <td>28.00</td>\n",
       "      <td>126.00</td>\n",
       "      <td>24229.17</td>\n",
       "      <td>20642.86</td>\n",
       "      <td>26781.75</td>\n",
       "    </tr>\n",
       "    <tr>\n",
       "      <th>10+ Yıl</th>\n",
       "      <td>NaN</td>\n",
       "      <td>1.00</td>\n",
       "      <td>3.00</td>\n",
       "      <td>NaN</td>\n",
       "      <td>13000.00</td>\n",
       "      <td>58833.33</td>\n",
       "    </tr>\n",
       "    <tr>\n",
       "      <th>4-6 Yıl</th>\n",
       "      <td>42.00</td>\n",
       "      <td>19.00</td>\n",
       "      <td>78.00</td>\n",
       "      <td>31630.95</td>\n",
       "      <td>22315.79</td>\n",
       "      <td>31615.38</td>\n",
       "    </tr>\n",
       "    <tr>\n",
       "      <th>7-9 Yıl</th>\n",
       "      <td>2.00</td>\n",
       "      <td>3.00</td>\n",
       "      <td>5.00</td>\n",
       "      <td>38000.00</td>\n",
       "      <td>31333.33</td>\n",
       "      <td>37500.00</td>\n",
       "    </tr>\n",
       "  </tbody>\n",
       "</table>\n",
       "</div>"
      ],
      "text/plain": [
       "                count                  mean                  \n",
       "Way_of_working Hybrid  Ofis Remote   Hybrid     Ofis   Remote\n",
       "Experience                                                   \n",
       "0-1 Yıl          2.00   NaN   3.00 23000.00      NaN 17833.33\n",
       "1-3 Yıl         72.00 28.00 126.00 24229.17 20642.86 26781.75\n",
       "10+ Yıl           NaN  1.00   3.00      NaN 13000.00 58833.33\n",
       "4-6 Yıl         42.00 19.00  78.00 31630.95 22315.79 31615.38\n",
       "7-9 Yıl          2.00  3.00   5.00 38000.00 31333.33 37500.00"
      ]
     },
     "execution_count": 92,
     "metadata": {},
     "output_type": "execute_result"
    }
   ],
   "source": [
    "mid_experience_table2"
   ]
  },
  {
   "cell_type": "code",
   "execution_count": 93,
   "id": "87f87dd5",
   "metadata": {
    "execution": {
     "iopub.execute_input": "2023-03-24T21:04:29.170097Z",
     "iopub.status.busy": "2023-03-24T21:04:29.169657Z",
     "iopub.status.idle": "2023-03-24T21:04:29.649708Z",
     "shell.execute_reply": "2023-03-24T21:04:29.648873Z"
    },
    "papermill": {
     "duration": 0.529012,
     "end_time": "2023-03-24T21:04:29.651931",
     "exception": false,
     "start_time": "2023-03-24T21:04:29.122919",
     "status": "completed"
    },
    "tags": []
   },
   "outputs": [
    {
     "data": {
      "image/png": "[encoded data removed]",
      "text/plain": [
       "<Figure size 1500x500 with 2 Axes>"
      ]
     },
     "metadata": {},
     "output_type": "display_data"
    }
   ],
   "source": [
    "plot_location_bar(mid_experience_table2)"
   ]
  },
  {
   "cell_type": "markdown",
   "id": "e9aaa00e",
   "metadata": {
    "papermill": {
     "duration": 0.047302,
     "end_time": "2023-03-24T21:04:29.746415",
     "exception": false,
     "start_time": "2023-03-24T21:04:29.699113",
     "status": "completed"
    },
    "tags": []
   },
   "source": [
    "### Mid Level Verileri Deneyime Göre ve Çalışma Şekline Göre Dağılımı Bar Grafiği İle Gösterilmiştir."
   ]
  },
  {
   "cell_type": "markdown",
   "id": "0c1dbfb7",
   "metadata": {
    "papermill": {
     "duration": 0.046145,
     "end_time": "2023-03-24T21:04:29.838881",
     "exception": false,
     "start_time": "2023-03-24T21:04:29.792736",
     "status": "completed"
    },
    "tags": []
   },
   "source": [
    "## Senior"
   ]
  },
  {
   "cell_type": "code",
   "execution_count": 94,
   "id": "1d1f6431",
   "metadata": {
    "execution": {
     "iopub.execute_input": "2023-03-24T21:04:29.934365Z",
     "iopub.status.busy": "2023-03-24T21:04:29.933165Z",
     "iopub.status.idle": "2023-03-24T21:04:29.943826Z",
     "shell.execute_reply": "2023-03-24T21:04:29.942614Z"
    },
    "papermill": {
     "duration": 0.060937,
     "end_time": "2023-03-24T21:04:29.946488",
     "exception": false,
     "start_time": "2023-03-24T21:04:29.885551",
     "status": "completed"
    },
    "tags": []
   },
   "outputs": [],
   "source": [
    "senior_table = create_location_salary_table(df, \"Senior\")"
   ]
  },
  {
   "cell_type": "code",
   "execution_count": 95,
   "id": "fe868c7c",
   "metadata": {
    "execution": {
     "iopub.execute_input": "2023-03-24T21:04:30.044859Z",
     "iopub.status.busy": "2023-03-24T21:04:30.044002Z",
     "iopub.status.idle": "2023-03-24T21:04:30.056648Z",
     "shell.execute_reply": "2023-03-24T21:04:30.055820Z"
    },
    "papermill": {
     "duration": 0.06485,
     "end_time": "2023-03-24T21:04:30.058837",
     "exception": false,
     "start_time": "2023-03-24T21:04:29.993987",
     "status": "completed"
    },
    "tags": []
   },
   "outputs": [
    {
     "data": {
      "text/html": [
       "<div>\n",
       "<style scoped>\n",
       "    .dataframe tbody tr th:only-of-type {\n",
       "        vertical-align: middle;\n",
       "    }\n",
       "\n",
       "    .dataframe tbody tr th {\n",
       "        vertical-align: top;\n",
       "    }\n",
       "\n",
       "    .dataframe thead tr th {\n",
       "        text-align: left;\n",
       "    }\n",
       "\n",
       "    .dataframe thead tr:last-of-type th {\n",
       "        text-align: right;\n",
       "    }\n",
       "</style>\n",
       "<table border=\"1\" class=\"dataframe\">\n",
       "  <thead>\n",
       "    <tr>\n",
       "      <th></th>\n",
       "      <th colspan=\"6\" halign=\"left\">salary</th>\n",
       "    </tr>\n",
       "    <tr>\n",
       "      <th></th>\n",
       "      <th>count</th>\n",
       "      <th>mean</th>\n",
       "      <th>std</th>\n",
       "      <th>median</th>\n",
       "      <th>min</th>\n",
       "      <th>max</th>\n",
       "    </tr>\n",
       "    <tr>\n",
       "      <th>Location</th>\n",
       "      <th></th>\n",
       "      <th></th>\n",
       "      <th></th>\n",
       "      <th></th>\n",
       "      <th></th>\n",
       "      <th></th>\n",
       "    </tr>\n",
       "  </thead>\n",
       "  <tbody>\n",
       "    <tr>\n",
       "      <th>Türkiye</th>\n",
       "      <td>252</td>\n",
       "      <td>39065.48</td>\n",
       "      <td>17280.52</td>\n",
       "      <td>38000.00</td>\n",
       "      <td>7500.00</td>\n",
       "      <td>123000.00</td>\n",
       "    </tr>\n",
       "    <tr>\n",
       "      <th>Yurtdışı</th>\n",
       "      <td>59</td>\n",
       "      <td>63686.44</td>\n",
       "      <td>20892.36</td>\n",
       "      <td>63000.00</td>\n",
       "      <td>18000.00</td>\n",
       "      <td>123000.00</td>\n",
       "    </tr>\n",
       "  </tbody>\n",
       "</table>\n",
       "</div>"
      ],
      "text/plain": [
       "         salary                                              \n",
       "          count     mean      std   median      min       max\n",
       "Location                                                     \n",
       "Türkiye     252 39065.48 17280.52 38000.00  7500.00 123000.00\n",
       "Yurtdışı     59 63686.44 20892.36 63000.00 18000.00 123000.00"
      ]
     },
     "execution_count": 95,
     "metadata": {},
     "output_type": "execute_result"
    }
   ],
   "source": [
    "senior_table"
   ]
  },
  {
   "cell_type": "code",
   "execution_count": 96,
   "id": "e6f39bb2",
   "metadata": {
    "execution": {
     "iopub.execute_input": "2023-03-24T21:04:30.156378Z",
     "iopub.status.busy": "2023-03-24T21:04:30.155602Z",
     "iopub.status.idle": "2023-03-24T21:04:30.272227Z",
     "shell.execute_reply": "2023-03-24T21:04:30.270571Z"
    },
    "papermill": {
     "duration": 0.169691,
     "end_time": "2023-03-24T21:04:30.276461",
     "exception": false,
     "start_time": "2023-03-24T21:04:30.106770",
     "status": "completed"
    },
    "tags": []
   },
   "outputs": [
    {
     "data": {
      "image/png": "[encoded data removed]",
      "text/plain": [
       "<Figure size 640x480 with 1 Axes>"
      ]
     },
     "metadata": {},
     "output_type": "display_data"
    }
   ],
   "source": [
    "plot_location_pie(senior_table)"
   ]
  },
  {
   "cell_type": "markdown",
   "id": "ae8a25b1",
   "metadata": {
    "papermill": {
     "duration": 0.046872,
     "end_time": "2023-03-24T21:04:30.408468",
     "exception": false,
     "start_time": "2023-03-24T21:04:30.361596",
     "status": "completed"
    },
    "tags": []
   },
   "source": [
    "### Senior kategorisindeki verilerin dağılımı yukarıda gösterilmiştir. 311 adet gözlem bulunmaktadır."
   ]
  },
  {
   "cell_type": "code",
   "execution_count": 97,
   "id": "7e842f4b",
   "metadata": {
    "execution": {
     "iopub.execute_input": "2023-03-24T21:04:30.505329Z",
     "iopub.status.busy": "2023-03-24T21:04:30.504589Z",
     "iopub.status.idle": "2023-03-24T21:04:30.703692Z",
     "shell.execute_reply": "2023-03-24T21:04:30.702785Z"
    },
    "papermill": {
     "duration": 0.250702,
     "end_time": "2023-03-24T21:04:30.706192",
     "exception": false,
     "start_time": "2023-03-24T21:04:30.455490",
     "status": "completed"
    },
    "tags": []
   },
   "outputs": [
    {
     "data": {
      "image/png": "[encoded data removed]",
      "text/plain": [
       "<Figure size 640x480 with 1 Axes>"
      ]
     },
     "metadata": {},
     "output_type": "display_data"
    }
   ],
   "source": [
    "plot_location_box(df, \"Senior\")"
   ]
  },
  {
   "cell_type": "markdown",
   "id": "8da6f586",
   "metadata": {
    "papermill": {
     "duration": 0.047811,
     "end_time": "2023-03-24T21:04:30.804356",
     "exception": false,
     "start_time": "2023-03-24T21:04:30.756545",
     "status": "completed"
    },
    "tags": []
   },
   "source": [
    "### Kutu grafiği ile gösterilen verilerde **Senior Level** kategorisindeki maaşların dağılımı gösterilmiştir. Türkiye ortalaması **39.000 TL** ve yurtdışı ortalaması **63.600 TL** dir."
   ]
  },
  {
   "cell_type": "code",
   "execution_count": 98,
   "id": "ba1f8bf3",
   "metadata": {
    "execution": {
     "iopub.execute_input": "2023-03-24T21:04:30.905245Z",
     "iopub.status.busy": "2023-03-24T21:04:30.904361Z",
     "iopub.status.idle": "2023-03-24T21:04:31.235130Z",
     "shell.execute_reply": "2023-03-24T21:04:31.233804Z"
    },
    "papermill": {
     "duration": 0.385037,
     "end_time": "2023-03-24T21:04:31.237552",
     "exception": false,
     "start_time": "2023-03-24T21:04:30.852515",
     "status": "completed"
    },
    "tags": []
   },
   "outputs": [
    {
     "data": {
      "image/png": "[encoded data removed]",
      "text/plain": [
       "<Figure size 1500x500 with 2 Axes>"
      ]
     },
     "metadata": {},
     "output_type": "display_data"
    }
   ],
   "source": [
    "plot_location_bar(senior_table[\"salary\"], label=True)"
   ]
  },
  {
   "cell_type": "markdown",
   "id": "6449fae4",
   "metadata": {
    "papermill": {
     "duration": 0.047182,
     "end_time": "2023-03-24T21:04:31.332614",
     "exception": false,
     "start_time": "2023-03-24T21:04:31.285432",
     "status": "completed"
    },
    "tags": []
   },
   "source": [
    "### Senior Level Verilerinin Türkiye ve Yurtdışı Olarak Dağılımı Bar Grafiği İle Gösterilmiştir. **Türkiye** ortalaması **39000 TL** ve **Yurtdışı** ortalaması **63600 TL**. Yurtdışı maaşlarının TL olarak daha yüksek olduğu görülmektedir."
   ]
  },
  {
   "cell_type": "code",
   "execution_count": 99,
   "id": "51dbb273",
   "metadata": {
    "execution": {
     "iopub.execute_input": "2023-03-24T21:04:31.429514Z",
     "iopub.status.busy": "2023-03-24T21:04:31.429083Z",
     "iopub.status.idle": "2023-03-24T21:04:31.450891Z",
     "shell.execute_reply": "2023-03-24T21:04:31.449936Z"
    },
    "papermill": {
     "duration": 0.073188,
     "end_time": "2023-03-24T21:04:31.453488",
     "exception": false,
     "start_time": "2023-03-24T21:04:31.380300",
     "status": "completed"
    },
    "tags": []
   },
   "outputs": [],
   "source": [
    "senior_table2 = create_location_way_of_working_table(df, \"Senior\")"
   ]
  },
  {
   "cell_type": "code",
   "execution_count": 100,
   "id": "5eb74c30",
   "metadata": {
    "execution": {
     "iopub.execute_input": "2023-03-24T21:04:31.551444Z",
     "iopub.status.busy": "2023-03-24T21:04:31.550164Z",
     "iopub.status.idle": "2023-03-24T21:04:31.564111Z",
     "shell.execute_reply": "2023-03-24T21:04:31.562983Z"
    },
    "papermill": {
     "duration": 0.065435,
     "end_time": "2023-03-24T21:04:31.566418",
     "exception": false,
     "start_time": "2023-03-24T21:04:31.500983",
     "status": "completed"
    },
    "tags": []
   },
   "outputs": [
    {
     "data": {
      "text/html": [
       "<div>\n",
       "<style scoped>\n",
       "    .dataframe tbody tr th:only-of-type {\n",
       "        vertical-align: middle;\n",
       "    }\n",
       "\n",
       "    .dataframe tbody tr th {\n",
       "        vertical-align: top;\n",
       "    }\n",
       "\n",
       "    .dataframe thead tr th {\n",
       "        text-align: left;\n",
       "    }\n",
       "\n",
       "    .dataframe thead tr:last-of-type th {\n",
       "        text-align: right;\n",
       "    }\n",
       "</style>\n",
       "<table border=\"1\" class=\"dataframe\">\n",
       "  <thead>\n",
       "    <tr>\n",
       "      <th></th>\n",
       "      <th colspan=\"3\" halign=\"left\">count</th>\n",
       "      <th colspan=\"3\" halign=\"left\">mean</th>\n",
       "    </tr>\n",
       "    <tr>\n",
       "      <th>Way_of_working</th>\n",
       "      <th>Hybrid</th>\n",
       "      <th>Ofis</th>\n",
       "      <th>Remote</th>\n",
       "      <th>Hybrid</th>\n",
       "      <th>Ofis</th>\n",
       "      <th>Remote</th>\n",
       "    </tr>\n",
       "    <tr>\n",
       "      <th>Location</th>\n",
       "      <th></th>\n",
       "      <th></th>\n",
       "      <th></th>\n",
       "      <th></th>\n",
       "      <th></th>\n",
       "      <th></th>\n",
       "    </tr>\n",
       "  </thead>\n",
       "  <tbody>\n",
       "    <tr>\n",
       "      <th>Türkiye</th>\n",
       "      <td>77</td>\n",
       "      <td>53</td>\n",
       "      <td>122</td>\n",
       "      <td>40097.40</td>\n",
       "      <td>33632.08</td>\n",
       "      <td>40774.59</td>\n",
       "    </tr>\n",
       "    <tr>\n",
       "      <th>Yurtdışı</th>\n",
       "      <td>10</td>\n",
       "      <td>2</td>\n",
       "      <td>47</td>\n",
       "      <td>73950.00</td>\n",
       "      <td>63000.00</td>\n",
       "      <td>61531.91</td>\n",
       "    </tr>\n",
       "  </tbody>\n",
       "</table>\n",
       "</div>"
      ],
      "text/plain": [
       "                count                 mean                  \n",
       "Way_of_working Hybrid Ofis Remote   Hybrid     Ofis   Remote\n",
       "Location                                                    \n",
       "Türkiye            77   53    122 40097.40 33632.08 40774.59\n",
       "Yurtdışı           10    2     47 73950.00 63000.00 61531.91"
      ]
     },
     "execution_count": 100,
     "metadata": {},
     "output_type": "execute_result"
    }
   ],
   "source": [
    "senior_table2"
   ]
  },
  {
   "cell_type": "code",
   "execution_count": 101,
   "id": "cb37424f",
   "metadata": {
    "execution": {
     "iopub.execute_input": "2023-03-24T21:04:31.665348Z",
     "iopub.status.busy": "2023-03-24T21:04:31.664910Z",
     "iopub.status.idle": "2023-03-24T21:04:32.234597Z",
     "shell.execute_reply": "2023-03-24T21:04:32.233245Z"
    },
    "papermill": {
     "duration": 0.622284,
     "end_time": "2023-03-24T21:04:32.236993",
     "exception": false,
     "start_time": "2023-03-24T21:04:31.614709",
     "status": "completed"
    },
    "tags": []
   },
   "outputs": [
    {
     "data": {
      "image/png": "[encoded data removed]",
      "text/plain": [
       "<Figure size 1500x500 with 2 Axes>"
      ]
     },
     "metadata": {},
     "output_type": "display_data"
    }
   ],
   "source": [
    "plot_location_bar(senior_table2)"
   ]
  },
  {
   "cell_type": "markdown",
   "id": "0de71410",
   "metadata": {
    "papermill": {
     "duration": 0.048348,
     "end_time": "2023-03-24T21:04:32.335714",
     "exception": false,
     "start_time": "2023-03-24T21:04:32.287366",
     "status": "completed"
    },
    "tags": []
   },
   "source": [
    "### Senior Level verileri çalışma şekillerine göre dağılımı bar grafiği ile gösterilmiştir."
   ]
  },
  {
   "cell_type": "code",
   "execution_count": 102,
   "id": "510e518e",
   "metadata": {
    "execution": {
     "iopub.execute_input": "2023-03-24T21:04:32.434941Z",
     "iopub.status.busy": "2023-03-24T21:04:32.434541Z",
     "iopub.status.idle": "2023-03-24T21:04:32.445555Z",
     "shell.execute_reply": "2023-03-24T21:04:32.444642Z"
    },
    "papermill": {
     "duration": 0.062969,
     "end_time": "2023-03-24T21:04:32.447790",
     "exception": false,
     "start_time": "2023-03-24T21:04:32.384821",
     "status": "completed"
    },
    "tags": []
   },
   "outputs": [],
   "source": [
    "senior_experience_table = df[df[\"Level\"] == \"Senior\"].groupby(\"Experience\").agg({\"salary\": [\"count\",\"mean\",\"std\", \"median\", \"min\", \"max\"]})"
   ]
  },
  {
   "cell_type": "code",
   "execution_count": 103,
   "id": "1c766f67",
   "metadata": {
    "execution": {
     "iopub.execute_input": "2023-03-24T21:04:32.547139Z",
     "iopub.status.busy": "2023-03-24T21:04:32.546440Z",
     "iopub.status.idle": "2023-03-24T21:04:32.560204Z",
     "shell.execute_reply": "2023-03-24T21:04:32.558987Z"
    },
    "papermill": {
     "duration": 0.066107,
     "end_time": "2023-03-24T21:04:32.562485",
     "exception": false,
     "start_time": "2023-03-24T21:04:32.496378",
     "status": "completed"
    },
    "tags": []
   },
   "outputs": [
    {
     "data": {
      "text/html": [
       "<div>\n",
       "<style scoped>\n",
       "    .dataframe tbody tr th:only-of-type {\n",
       "        vertical-align: middle;\n",
       "    }\n",
       "\n",
       "    .dataframe tbody tr th {\n",
       "        vertical-align: top;\n",
       "    }\n",
       "\n",
       "    .dataframe thead tr th {\n",
       "        text-align: left;\n",
       "    }\n",
       "\n",
       "    .dataframe thead tr:last-of-type th {\n",
       "        text-align: right;\n",
       "    }\n",
       "</style>\n",
       "<table border=\"1\" class=\"dataframe\">\n",
       "  <thead>\n",
       "    <tr>\n",
       "      <th></th>\n",
       "      <th colspan=\"6\" halign=\"left\">salary</th>\n",
       "    </tr>\n",
       "    <tr>\n",
       "      <th></th>\n",
       "      <th>count</th>\n",
       "      <th>mean</th>\n",
       "      <th>std</th>\n",
       "      <th>median</th>\n",
       "      <th>min</th>\n",
       "      <th>max</th>\n",
       "    </tr>\n",
       "    <tr>\n",
       "      <th>Experience</th>\n",
       "      <th></th>\n",
       "      <th></th>\n",
       "      <th></th>\n",
       "      <th></th>\n",
       "      <th></th>\n",
       "      <th></th>\n",
       "    </tr>\n",
       "  </thead>\n",
       "  <tbody>\n",
       "    <tr>\n",
       "      <th>1-3 Yıl</th>\n",
       "      <td>9</td>\n",
       "      <td>39388.89</td>\n",
       "      <td>18754.63</td>\n",
       "      <td>33000.00</td>\n",
       "      <td>18000.00</td>\n",
       "      <td>75500.00</td>\n",
       "    </tr>\n",
       "    <tr>\n",
       "      <th>10+ Yıl</th>\n",
       "      <td>129</td>\n",
       "      <td>48488.37</td>\n",
       "      <td>23462.36</td>\n",
       "      <td>43000.00</td>\n",
       "      <td>7500.00</td>\n",
       "      <td>123000.00</td>\n",
       "    </tr>\n",
       "    <tr>\n",
       "      <th>4-6 Yıl</th>\n",
       "      <td>83</td>\n",
       "      <td>39090.36</td>\n",
       "      <td>14873.68</td>\n",
       "      <td>38000.00</td>\n",
       "      <td>13000.00</td>\n",
       "      <td>85500.00</td>\n",
       "    </tr>\n",
       "    <tr>\n",
       "      <th>7-9 Yıl</th>\n",
       "      <td>90</td>\n",
       "      <td>41644.44</td>\n",
       "      <td>19128.37</td>\n",
       "      <td>43000.00</td>\n",
       "      <td>7500.00</td>\n",
       "      <td>85500.00</td>\n",
       "    </tr>\n",
       "  </tbody>\n",
       "</table>\n",
       "</div>"
      ],
      "text/plain": [
       "           salary                                              \n",
       "            count     mean      std   median      min       max\n",
       "Experience                                                     \n",
       "1-3 Yıl         9 39388.89 18754.63 33000.00 18000.00  75500.00\n",
       "10+ Yıl       129 48488.37 23462.36 43000.00  7500.00 123000.00\n",
       "4-6 Yıl        83 39090.36 14873.68 38000.00 13000.00  85500.00\n",
       "7-9 Yıl        90 41644.44 19128.37 43000.00  7500.00  85500.00"
      ]
     },
     "execution_count": 103,
     "metadata": {},
     "output_type": "execute_result"
    }
   ],
   "source": [
    "senior_experience_table"
   ]
  },
  {
   "cell_type": "code",
   "execution_count": 104,
   "id": "d22f2fcf",
   "metadata": {
    "execution": {
     "iopub.execute_input": "2023-03-24T21:04:32.661938Z",
     "iopub.status.busy": "2023-03-24T21:04:32.661537Z",
     "iopub.status.idle": "2023-03-24T21:04:33.015106Z",
     "shell.execute_reply": "2023-03-24T21:04:33.013861Z"
    },
    "papermill": {
     "duration": 0.406582,
     "end_time": "2023-03-24T21:04:33.017683",
     "exception": false,
     "start_time": "2023-03-24T21:04:32.611101",
     "status": "completed"
    },
    "tags": []
   },
   "outputs": [
    {
     "data": {
      "image/png": "[encoded data removed]",
      "text/plain": [
       "<Figure size 1500x500 with 2 Axes>"
      ]
     },
     "metadata": {},
     "output_type": "display_data"
    }
   ],
   "source": [
    "plot_location_bar(senior_experience_table[\"salary\"], label=True)"
   ]
  },
  {
   "cell_type": "markdown",
   "id": "dc66a632",
   "metadata": {
    "papermill": {
     "duration": 0.052715,
     "end_time": "2023-03-24T21:04:33.119758",
     "exception": false,
     "start_time": "2023-03-24T21:04:33.067043",
     "status": "completed"
    },
    "tags": []
   },
   "source": [
    "### Senior Level verileri deneyime göre maaş dağılımı bar grafiği ile gösterilmiştir."
   ]
  },
  {
   "cell_type": "code",
   "execution_count": 105,
   "id": "3713a7e8",
   "metadata": {
    "execution": {
     "iopub.execute_input": "2023-03-24T21:04:33.221763Z",
     "iopub.status.busy": "2023-03-24T21:04:33.221144Z",
     "iopub.status.idle": "2023-03-24T21:04:33.242863Z",
     "shell.execute_reply": "2023-03-24T21:04:33.241595Z"
    },
    "papermill": {
     "duration": 0.075222,
     "end_time": "2023-03-24T21:04:33.245663",
     "exception": false,
     "start_time": "2023-03-24T21:04:33.170441",
     "status": "completed"
    },
    "tags": []
   },
   "outputs": [],
   "source": [
    "senior_experience_table2 = df[df[\"Level\"] == \"Senior\"].pivot_table(index=\"Experience\", columns=\"Way_of_working\", values=\"salary\", aggfunc=[\"count\",\"mean\"])"
   ]
  },
  {
   "cell_type": "code",
   "execution_count": 106,
   "id": "0c9ead14",
   "metadata": {
    "execution": {
     "iopub.execute_input": "2023-03-24T21:04:33.347242Z",
     "iopub.status.busy": "2023-03-24T21:04:33.346788Z",
     "iopub.status.idle": "2023-03-24T21:04:33.361052Z",
     "shell.execute_reply": "2023-03-24T21:04:33.359815Z"
    },
    "papermill": {
     "duration": 0.067909,
     "end_time": "2023-03-24T21:04:33.363790",
     "exception": false,
     "start_time": "2023-03-24T21:04:33.295881",
     "status": "completed"
    },
    "tags": []
   },
   "outputs": [
    {
     "data": {
      "text/html": [
       "<div>\n",
       "<style scoped>\n",
       "    .dataframe tbody tr th:only-of-type {\n",
       "        vertical-align: middle;\n",
       "    }\n",
       "\n",
       "    .dataframe tbody tr th {\n",
       "        vertical-align: top;\n",
       "    }\n",
       "\n",
       "    .dataframe thead tr th {\n",
       "        text-align: left;\n",
       "    }\n",
       "\n",
       "    .dataframe thead tr:last-of-type th {\n",
       "        text-align: right;\n",
       "    }\n",
       "</style>\n",
       "<table border=\"1\" class=\"dataframe\">\n",
       "  <thead>\n",
       "    <tr>\n",
       "      <th></th>\n",
       "      <th colspan=\"3\" halign=\"left\">count</th>\n",
       "      <th colspan=\"3\" halign=\"left\">mean</th>\n",
       "    </tr>\n",
       "    <tr>\n",
       "      <th>Way_of_working</th>\n",
       "      <th>Hybrid</th>\n",
       "      <th>Ofis</th>\n",
       "      <th>Remote</th>\n",
       "      <th>Hybrid</th>\n",
       "      <th>Ofis</th>\n",
       "      <th>Remote</th>\n",
       "    </tr>\n",
       "    <tr>\n",
       "      <th>Experience</th>\n",
       "      <th></th>\n",
       "      <th></th>\n",
       "      <th></th>\n",
       "      <th></th>\n",
       "      <th></th>\n",
       "      <th></th>\n",
       "    </tr>\n",
       "  </thead>\n",
       "  <tbody>\n",
       "    <tr>\n",
       "      <th>1-3 Yıl</th>\n",
       "      <td>2</td>\n",
       "      <td>1</td>\n",
       "      <td>6</td>\n",
       "      <td>33000.00</td>\n",
       "      <td>18000.00</td>\n",
       "      <td>45083.33</td>\n",
       "    </tr>\n",
       "    <tr>\n",
       "      <th>10+ Yıl</th>\n",
       "      <td>36</td>\n",
       "      <td>32</td>\n",
       "      <td>61</td>\n",
       "      <td>51555.56</td>\n",
       "      <td>37093.75</td>\n",
       "      <td>52655.74</td>\n",
       "    </tr>\n",
       "    <tr>\n",
       "      <th>4-6 Yıl</th>\n",
       "      <td>23</td>\n",
       "      <td>8</td>\n",
       "      <td>52</td>\n",
       "      <td>35826.09</td>\n",
       "      <td>30500.00</td>\n",
       "      <td>41855.77</td>\n",
       "    </tr>\n",
       "    <tr>\n",
       "      <th>7-9 Yıl</th>\n",
       "      <td>26</td>\n",
       "      <td>14</td>\n",
       "      <td>50</td>\n",
       "      <td>41576.92</td>\n",
       "      <td>32821.43</td>\n",
       "      <td>44150.00</td>\n",
       "    </tr>\n",
       "  </tbody>\n",
       "</table>\n",
       "</div>"
      ],
      "text/plain": [
       "                count                 mean                  \n",
       "Way_of_working Hybrid Ofis Remote   Hybrid     Ofis   Remote\n",
       "Experience                                                  \n",
       "1-3 Yıl             2    1      6 33000.00 18000.00 45083.33\n",
       "10+ Yıl            36   32     61 51555.56 37093.75 52655.74\n",
       "4-6 Yıl            23    8     52 35826.09 30500.00 41855.77\n",
       "7-9 Yıl            26   14     50 41576.92 32821.43 44150.00"
      ]
     },
     "execution_count": 106,
     "metadata": {},
     "output_type": "execute_result"
    }
   ],
   "source": [
    "senior_experience_table2"
   ]
  },
  {
   "cell_type": "code",
   "execution_count": 107,
   "id": "26dae811",
   "metadata": {
    "execution": {
     "iopub.execute_input": "2023-03-24T21:04:33.465210Z",
     "iopub.status.busy": "2023-03-24T21:04:33.464765Z",
     "iopub.status.idle": "2023-03-24T21:04:33.927705Z",
     "shell.execute_reply": "2023-03-24T21:04:33.926372Z"
    },
    "papermill": {
     "duration": 0.516918,
     "end_time": "2023-03-24T21:04:33.930686",
     "exception": false,
     "start_time": "2023-03-24T21:04:33.413768",
     "status": "completed"
    },
    "tags": []
   },
   "outputs": [
    {
     "data": {
      "image/png": "[encoded data removed]",
      "text/plain": [
       "<Figure size 1500x500 with 2 Axes>"
      ]
     },
     "metadata": {},
     "output_type": "display_data"
    }
   ],
   "source": [
    "plot_location_bar(senior_experience_table2)"
   ]
  },
  {
   "cell_type": "markdown",
   "id": "bfc5852b",
   "metadata": {
    "papermill": {
     "duration": 0.050004,
     "end_time": "2023-03-24T21:04:34.034327",
     "exception": false,
     "start_time": "2023-03-24T21:04:33.984323",
     "status": "completed"
    },
    "tags": []
   },
   "source": [
    "### Senior Level Verileri Deneyime Göre ve Çalışma Şekline Göre Dağılımı Bar Grafiği İle Gösterilmiştir."
   ]
  }
 ],
 "metadata": {
  "kernelspec": {
   "display_name": "Python 3",
   "language": "python",
   "name": "python3"
  },
  "language_info": {
   "codemirror_mode": {
    "name": "ipython",
    "version": 3
   },
   "file_extension": ".py",
   "mimetype": "text/x-python",
   "name": "python",
   "nbconvert_exporter": "python",
   "pygments_lexer": "ipython3",
   "version": "3.7.12"
  },
  "papermill": {
   "default_parameters": {},
   "duration": 32.660842,
   "end_time": "2023-03-24T21:04:34.806458",
   "environment_variables": {},
   "exception": null,
   "input_path": "__notebook__.ipynb",
   "output_path": "__notebook__.ipynb",
   "parameters": {},
   "start_time": "2023-03-24T21:04:02.145616",
   "version": "2.4.0"
  }
 },
 "nbformat": 4,
 "nbformat_minor": 5
}
